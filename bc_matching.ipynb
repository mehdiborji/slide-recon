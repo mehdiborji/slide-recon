{
 "cells": [
  {
   "cell_type": "markdown",
   "id": "794436c6-2b4e-4e96-ad8d-bf39b50085f8",
   "metadata": {},
   "source": [
    "# import packages"
   ]
  },
  {
   "cell_type": "code",
   "execution_count": 1,
   "id": "18e61c45-7726-4649-821d-3d19a3c1a8ac",
   "metadata": {},
   "outputs": [],
   "source": [
    "import os\n",
    "import numpy as np\n",
    "import pandas as pd\n",
    "from tqdm import tqdm\n",
    "import edlib\n",
    "import json\n",
    "import subprocess\n",
    "from multiprocessing import Pool\n",
    "import matplotlib.pyplot as plt\n",
    "import seaborn as sns\n",
    "ad_seq=[('N', 'A'), ('N', 'T'), ('N', 'G'), ('N', 'C')]\n",
    "import scanpy as sc\n",
    "from anndata import AnnData\n",
    "from scipy.sparse import csr_matrix"
   ]
  },
  {
   "cell_type": "code",
   "execution_count": 134,
   "id": "fcd3c0a2-841d-4c23-8ac9-c5892be37976",
   "metadata": {},
   "outputs": [],
   "source": [
    "sample='c58_8_rec_S8'"
   ]
  },
  {
   "cell_type": "code",
   "execution_count": 199,
   "id": "47230436-0107-4dc6-b456-dc16dde58596",
   "metadata": {},
   "outputs": [],
   "source": [
    "sample='c58_4_rec2_S4'"
   ]
  },
  {
   "cell_type": "code",
   "execution_count": 203,
   "id": "d50bcaf6-3b2c-4f65-a496-2aaa23a7a047",
   "metadata": {},
   "outputs": [],
   "source": [
    "sample='c58_4_rec_S6'"
   ]
  },
  {
   "cell_type": "code",
   "execution_count": 197,
   "id": "3f6f1b11-fd89-4bb7-810e-d13576132f39",
   "metadata": {},
   "outputs": [],
   "source": [
    "position='anchors'"
   ]
  },
  {
   "cell_type": "code",
   "execution_count": 172,
   "id": "62850c52-cbcb-41a2-9e39-e3afe3c8550b",
   "metadata": {},
   "outputs": [],
   "source": [
    "position='targets'"
   ]
  },
  {
   "cell_type": "code",
   "execution_count": 226,
   "id": "4365c23f-6527-4112-a7ae-6701057bdb26",
   "metadata": {},
   "outputs": [
    {
     "data": {
      "text/plain": [
       "'/n/data2/dfci/medonc/cwu/meb521/slideseq/reconstruct/230928/'"
      ]
     },
     "execution_count": 226,
     "metadata": {},
     "output_type": "execute_result"
    }
   ],
   "source": [
    "indir"
   ]
  },
  {
   "cell_type": "code",
   "execution_count": 228,
   "id": "dbc8c7f5-c802-4c27-9bab-f5455c66df7e",
   "metadata": {},
   "outputs": [],
   "source": [
    "indir='/n/data2/dfci/medonc/cwu/meb521/slideseq/reconstruct/'"
   ]
  },
  {
   "cell_type": "code",
   "execution_count": 231,
   "id": "4bd2ccfb-83d5-4b28-8caf-ce42208ddefd",
   "metadata": {},
   "outputs": [],
   "source": [
    "indir='/n/data2/dfci/medonc/cwu/meb521/slideseq/reconstruct/c55_4/'"
   ]
  },
  {
   "cell_type": "code",
   "execution_count": 233,
   "id": "6a13a94a-ec43-4757-834c-a49794209001",
   "metadata": {},
   "outputs": [],
   "source": [
    "samples=['c55_32','c55_4']"
   ]
  },
  {
   "cell_type": "code",
   "execution_count": 215,
   "id": "9236b445-b343-49ea-8359-991c95828fab",
   "metadata": {},
   "outputs": [
    {
     "name": "stdout",
     "output_type": "stream",
     "text": [
      "c58_4_rec2_S4\n",
      "c58_4_rec_S6\n",
      "c58_5_rec2_S5\n",
      "c58_5_rec_S7\n",
      "c58_8_rec2_S6\n",
      "c58_8_rec_S8\n"
     ]
    }
   ],
   "source": [
    "for sample in samples[2:]:\n",
    "    print(sample)"
   ]
  },
  {
   "cell_type": "code",
   "execution_count": 218,
   "id": "23c453fc-b47c-40b5-8307-daa2046d9af1",
   "metadata": {},
   "outputs": [
    {
     "name": "stdout",
     "output_type": "stream",
     "text": [
      "c58_4_rec2_S4\n",
      "1083594\n",
      "1625115\n",
      "------------------------------\n",
      "c58_4_rec_S6\n",
      "367392\n",
      "567662\n",
      "------------------------------\n",
      "c58_5_rec2_S5\n",
      "1191659\n",
      "1805776\n",
      "------------------------------\n",
      "c58_5_rec_S7\n",
      "359151\n",
      "585552\n",
      "------------------------------\n",
      "c58_8_rec2_S6\n",
      "1093580\n",
      "1616013\n",
      "------------------------------\n",
      "c58_8_rec_S8\n",
      "313676\n",
      "513398\n",
      "------------------------------\n"
     ]
    }
   ],
   "source": [
    "for sample in samples[2:]:\n",
    "    print(sample)\n",
    "    \n",
    "    dir_split=f'{indir}/{sample}/split/'\n",
    "    \n",
    "    files=os.listdir(dir_split)\n",
    "    jsons = sorted([f for f in files if f'{position}.json' in f])\n",
    "\n",
    "    data_agg={}\n",
    "    for i in range(len(jsons[:1])):\n",
    "        with open(f'{dir_split}{jsons[i]}', 'r') as json_file:\n",
    "            data_sub = json.load(json_file)\n",
    "            #print(jsons[i],len(data_sub))\n",
    "            lens=[]\n",
    "            for k in data_sub:\n",
    "                lens.append(len(data_sub[k]))\n",
    "            print(np.sum(lens))\n",
    "    \n",
    "    fastq=f'{indir}/{sample}/split/{sample}_R1_001.part_016.fastq'\n",
    "\n",
    "    command=f'samtools view -c {fastq}'\n",
    "    subprocess.call(command,shell=True)\n",
    "\n",
    "    print(30*'-')\n",
    "    "
   ]
  },
  {
   "cell_type": "code",
   "execution_count": 234,
   "id": "9a472a04-df8e-44ff-a75b-05d5bd28e98d",
   "metadata": {},
   "outputs": [
    {
     "name": "stdout",
     "output_type": "stream",
     "text": [
      "c55_32\n",
      "5324107\n",
      "16094921\n",
      "------------------------------\n",
      "c55_4\n",
      "6563549\n",
      "18484050\n",
      "------------------------------\n"
     ]
    }
   ],
   "source": [
    "for sample in samples:\n",
    "    print(sample)\n",
    "    \n",
    "    dir_split=f'{indir}/{sample}/split/'\n",
    "    \n",
    "    files=os.listdir(dir_split)\n",
    "    jsons = sorted([f for f in files if f'{position}.json' in f])\n",
    "\n",
    "    data_agg={}\n",
    "    for i in range(len(jsons[:1])):\n",
    "        with open(f'{dir_split}{jsons[i]}', 'r') as json_file:\n",
    "            data_sub = json.load(json_file)\n",
    "            #print(jsons[i],len(data_sub))\n",
    "            lens=[]\n",
    "            for k in data_sub:\n",
    "                lens.append(len(data_sub[k]))\n",
    "            print(np.sum(lens))\n",
    "    \n",
    "    fastq=f'{indir}/{sample}/split/{sample}_R1_001.part_016.fastq'\n",
    "\n",
    "    command=f'samtools view -c {fastq}'\n",
    "    subprocess.call(command,shell=True)\n",
    "\n",
    "    print(30*'-')\n",
    "    "
   ]
  },
  {
   "cell_type": "code",
   "execution_count": 236,
   "id": "0b88fe85-0cc2-4ffc-987e-4a88f6c58be0",
   "metadata": {},
   "outputs": [
    {
     "name": "stdout",
     "output_type": "stream",
     "text": [
      "0.330794230055556\n",
      "0.35509257981881676\n"
     ]
    }
   ],
   "source": [
    "print(5324107/16094921)\n",
    "print(6563549/18484050)"
   ]
  },
  {
   "cell_type": "code",
   "execution_count": null,
   "id": "a21d4b7d-c7cf-43c0-b668-db6d263caf41",
   "metadata": {},
   "outputs": [],
   "source": []
  },
  {
   "cell_type": "code",
   "execution_count": null,
   "id": "ab94a654-c2a0-4bca-864b-20d50d0475fe",
   "metadata": {},
   "outputs": [],
   "source": []
  },
  {
   "cell_type": "code",
   "execution_count": 225,
   "id": "826e5610-01bb-4115-832f-826d61c8cbd3",
   "metadata": {},
   "outputs": [
    {
     "name": "stdout",
     "output_type": "stream",
     "text": [
      "c58_4_rec2_S4 % reads with both UP 66.68\n",
      "c58_4_rec_S6 % reads with both UP 64.72\n",
      "c58_5_rec2_S5 % reads with both UP 65.99\n",
      "c58_5_rec_S7 % reads with both UP 61.34\n",
      "c58_8_rec2_S6 % reads with both UP 67.67\n",
      "c58_8_rec_S8 % reads with both UP 61.1\n"
     ]
    }
   ],
   "source": [
    "print('c58_4_rec2_S4','% reads with both UP',np.round(1083594/1625115*100,2))\n",
    "print('c58_4_rec_S6','% reads with both UP',np.round(367392/567662*100,2))\n",
    "print('c58_5_rec2_S5','% reads with both UP',np.round(1191659/1805776*100,2))\n",
    "print('c58_5_rec_S7','% reads with both UP',np.round(359151/585552*100,2))\n",
    "print('c58_8_rec2_S6','% reads with both UP',np.round(1093580/1616013*100,2))\n",
    "print('c58_8_rec_S8','% reads with both UP',np.round(313676/513398*100,2))"
   ]
  },
  {
   "cell_type": "code",
   "execution_count": null,
   "id": "f16e9bc2-9a12-44ad-a3d8-5f145d1f4eff",
   "metadata": {},
   "outputs": [],
   "source": []
  },
  {
   "cell_type": "code",
   "execution_count": 196,
   "id": "d7a75773-ec00-4e34-8816-2121a914186a",
   "metadata": {},
   "outputs": [
    {
     "data": {
      "text/plain": [
       "0.6667798894232101"
      ]
     },
     "execution_count": 196,
     "metadata": {},
     "output_type": "execute_result"
    }
   ],
   "source": [
    "------------------------------\n",
    "c58_4_rec_S6\n",
    "367392\n",
    "567662\n",
    "------------------------------\n",
    "c58_5_rec2_S5\n",
    "1191659\n",
    "1805776\n",
    "------------------------------\n",
    "c58_5_rec_S7\n",
    "359151\n",
    "585552\n",
    "------------------------------\n",
    "c58_8_rec2_S6\n",
    "1093580\n",
    "1616013\n",
    "------------------------------\n",
    "c58_8_rec_S8\n",
    "313676\n",
    "513398\n",
    "------------------------------"
   ]
  },
  {
   "cell_type": "code",
   "execution_count": 208,
   "id": "081e2254-fa76-45db-9752-b6147faae85c",
   "metadata": {},
   "outputs": [
    {
     "data": {
      "text/plain": [
       "0.6472020321952148"
      ]
     },
     "execution_count": 208,
     "metadata": {},
     "output_type": "execute_result"
    }
   ],
   "source": [
    "367392/567662"
   ]
  },
  {
   "cell_type": "code",
   "execution_count": null,
   "id": "fcb323e8-fdfb-4133-814e-688788bf5832",
   "metadata": {},
   "outputs": [],
   "source": []
  },
  {
   "cell_type": "code",
   "execution_count": 174,
   "id": "e935bfcd-2d66-41fc-a243-a234c42679fe",
   "metadata": {},
   "outputs": [
    {
     "data": {
      "text/plain": [
       "77011"
      ]
     },
     "execution_count": 174,
     "metadata": {},
     "output_type": "execute_result"
    }
   ],
   "source": [
    "len(data_sub)"
   ]
  },
  {
   "cell_type": "code",
   "execution_count": 175,
   "id": "87dba591-a7d0-4a32-a16e-be494bbef020",
   "metadata": {},
   "outputs": [
    {
     "data": {
      "image/png": "[encoded data removed]",
      "text/plain": [
       "<Figure size 640x480 with 1 Axes>"
      ]
     },
     "metadata": {},
     "output_type": "display_data"
    }
   ],
   "source": [
    "sns.histplot(np.log10([l for l in lens if l>2]));"
   ]
  },
  {
   "cell_type": "code",
   "execution_count": null,
   "id": "a0b83895-af38-4fc4-8daf-cd9800cc841c",
   "metadata": {},
   "outputs": [],
   "source": []
  },
  {
   "cell_type": "code",
   "execution_count": null,
   "id": "27abf933-ef44-47be-ba16-d76c42ac6aaf",
   "metadata": {},
   "outputs": [],
   "source": []
  },
  {
   "cell_type": "code",
   "execution_count": 166,
   "id": "96351861-a360-4ebe-bc14-f56803da90a2",
   "metadata": {},
   "outputs": [
    {
     "data": {
      "text/plain": [
       "87803"
      ]
     },
     "execution_count": 166,
     "metadata": {},
     "output_type": "execute_result"
    }
   ],
   "source": [
    "len(data_sub)"
   ]
  },
  {
   "cell_type": "code",
   "execution_count": 152,
   "id": "f35940ba-bc51-4544-90b5-326f9ce764aa",
   "metadata": {},
   "outputs": [],
   "source": [
    "lens=[]\n",
    "for k in data_sub:\n",
    "    lens.append(len(data_sub[k]))"
   ]
  },
  {
   "cell_type": "code",
   "execution_count": 154,
   "id": "8ff087c3-f2a8-40ec-807f-a90eb3f4e46a",
   "metadata": {},
   "outputs": [
    {
     "data": {
      "text/plain": [
       "254063"
      ]
     },
     "execution_count": 154,
     "metadata": {},
     "output_type": "execute_result"
    }
   ],
   "source": [
    "np.sum(lens)"
   ]
  },
  {
   "cell_type": "code",
   "execution_count": null,
   "id": "aeccf914-5239-44c6-8edc-279f5032fb71",
   "metadata": {},
   "outputs": [],
   "source": []
  },
  {
   "cell_type": "code",
   "execution_count": 143,
   "id": "78c3812e-052f-4872-8b12-ee2bf5124a44",
   "metadata": {},
   "outputs": [
    {
     "name": "stderr",
     "output_type": "stream",
     "text": [
      "100%|██████████| 1/1 [00:00<00:00,  2.03it/s]"
     ]
    },
    {
     "name": "stdout",
     "output_type": "stream",
     "text": [
      "c58_4_rec_S6.part_001_quads.json 35692\n"
     ]
    },
    {
     "name": "stderr",
     "output_type": "stream",
     "text": [
      "\n"
     ]
    }
   ],
   "source": [
    "position='quads'\n",
    "\n",
    "dir_split=f'{indir}/{sample}/split/'\n",
    "files=os.listdir(dir_split)\n",
    "jsons = sorted([f for f in files if f'{position}.json' in f])\n",
    "\n",
    "data_agg={}\n",
    "\n",
    "for i in tqdm(range(len(jsons[:1]))):\n",
    "    with open(f'{dir_split}{jsons[i]}', 'r') as json_file:\n",
    "        data_sub = json.load(json_file)\n",
    "        print(jsons[i],len(data_sub))\n",
    "        for k in data_sub:\n",
    "            if data_agg.get(k) is not None:\n",
    "                data_agg[k].extend(data_sub[k])\n",
    "            else:\n",
    "                data_agg[k]=data_sub[k]\n"
   ]
  },
  {
   "cell_type": "code",
   "execution_count": 144,
   "id": "ba9c1107-bfd6-4597-a6d4-e28ac862b267",
   "metadata": {},
   "outputs": [
    {
     "data": {
      "text/plain": [
       "35692"
      ]
     },
     "execution_count": 144,
     "metadata": {},
     "output_type": "execute_result"
    }
   ],
   "source": [
    "len(data_sub)"
   ]
  },
  {
   "cell_type": "code",
   "execution_count": 123,
   "id": "505bd13d-f1a4-4cb7-82c4-c56010dc4a37",
   "metadata": {},
   "outputs": [
    {
     "data": {
      "text/plain": [
       "19518"
      ]
     },
     "execution_count": 123,
     "metadata": {},
     "output_type": "execute_result"
    }
   ],
   "source": [
    "len(data_sub)"
   ]
  },
  {
   "cell_type": "code",
   "execution_count": 124,
   "id": "ece221af-44d5-4c48-8563-be67d063fb60",
   "metadata": {},
   "outputs": [
    {
     "name": "stdout",
     "output_type": "stream",
     "text": [
      "c58_8_rec2_S6.part_001_quads.json 19518\n"
     ]
    }
   ],
   "source": [
    "print(jsons[i],len(data_sub))"
   ]
  },
  {
   "cell_type": "code",
   "execution_count": 112,
   "id": "99f654d1-e999-43a7-acc5-3e8db0136632",
   "metadata": {},
   "outputs": [
    {
     "data": {
      "text/plain": [
       "[['GGATCACC', 'TTGCCACCTCTTCG'],\n",
       " ['CCGCGAAG', 'TACACGCGTCGTGA'],\n",
       " ['GAGTCCTG', 'CTAACCAAGTGTAA'],\n",
       " ['GGTCCTAG', 'AGTCGTGCCGAAGT'],\n",
       " ['TCCGGGGA', 'TTACTAGCGTGCTT'],\n",
       " ['TCCGGGGA', 'TTACTAGCGTGCTT'],\n",
       " ['CACAGGTC', 'CCCGACCGGCAAGA'],\n",
       " ['GAACCGCA', 'AAGGCGCAAGGAAC'],\n",
       " ['ACGGGCTA', 'CCTCTGTCACATTG'],\n",
       " ['GATGTTAC', 'CTAACCAAGTGTAA'],\n",
       " ['AGTGAACG', 'CCGGCCAATCGCAG'],\n",
       " ['AGTTGGCG', 'CACCGCCAAGACCT'],\n",
       " ['CCCTCGTC', 'TTGCCACCTCTTCG'],\n",
       " ['GCGAGCGC', 'CCTCTGTCACATTG'],\n",
       " ['GACCGCCA', 'AAACTACGACCAAC'],\n",
       " ['AAGTGTAC', 'TTACTAGCGTGCTT'],\n",
       " ['CGCACTCG', 'ATCTACAGCTACCC'],\n",
       " ['GGTTGCGC', 'AAGGCGCAAGGAAC'],\n",
       " ['TCTCAAAC', 'ACGTACATTATCAC'],\n",
       " ['AACCATGA', 'AAAATTATGAACCT']]"
      ]
     },
     "execution_count": 112,
     "metadata": {},
     "output_type": "execute_result"
    }
   ],
   "source": [
    "data_sub['GGGGTCCGCCAGAC']"
   ]
  },
  {
   "cell_type": "code",
   "execution_count": 145,
   "id": "86ff60c5-2135-4381-98cb-f62c338d0825",
   "metadata": {},
   "outputs": [],
   "source": [
    "lens=[]\n",
    "for k in data_sub:\n",
    "    lens.append(len(data_sub[k]))"
   ]
  },
  {
   "cell_type": "code",
   "execution_count": 128,
   "id": "25382ee7-b6f2-42d8-b606-d291c5fd4a69",
   "metadata": {},
   "outputs": [
    {
     "data": {
      "text/plain": [
       "<AxesSubplot:ylabel='Count'>"
      ]
     },
     "execution_count": 128,
     "metadata": {},
     "output_type": "execute_result"
    },
    {
     "data": {
      "image/png": "[encoded data removed]",
      "text/plain": [
       "<Figure size 640x480 with 1 Axes>"
      ]
     },
     "metadata": {},
     "output_type": "display_data"
    }
   ],
   "source": [
    "sns.histplot(lens)"
   ]
  },
  {
   "cell_type": "code",
   "execution_count": 132,
   "id": "e6e75f8b-0470-4810-b51a-0fef2f608539",
   "metadata": {},
   "outputs": [
    {
     "data": {
      "text/plain": [
       "<AxesSubplot:ylabel='Count'>"
      ]
     },
     "execution_count": 132,
     "metadata": {},
     "output_type": "execute_result"
    },
    {
     "data": {
      "image/png": "[encoded data removed]",
      "text/plain": [
       "<Figure size 640x480 with 1 Axes>"
      ]
     },
     "metadata": {},
     "output_type": "display_data"
    }
   ],
   "source": [
    "sns.histplot(lens)"
   ]
  },
  {
   "cell_type": "code",
   "execution_count": 146,
   "id": "382126c7-5615-4dd3-8b6f-bf86da7eeded",
   "metadata": {},
   "outputs": [
    {
     "data": {
      "text/plain": [
       "<AxesSubplot:ylabel='Count'>"
      ]
     },
     "execution_count": 146,
     "metadata": {},
     "output_type": "execute_result"
    },
    {
     "data": {
      "image/png": "[encoded data removed]",
      "text/plain": [
       "<Figure size 640x480 with 1 Axes>"
      ]
     },
     "metadata": {},
     "output_type": "display_data"
    }
   ],
   "source": [
    "sns.histplot(lens)"
   ]
  },
  {
   "cell_type": "code",
   "execution_count": 133,
   "id": "a037b6e9-8093-4234-824d-13c0e83b82ac",
   "metadata": {},
   "outputs": [
    {
     "data": {
      "text/plain": [
       "217710"
      ]
     },
     "execution_count": 133,
     "metadata": {},
     "output_type": "execute_result"
    }
   ],
   "source": [
    "np.sum(lens)"
   ]
  },
  {
   "cell_type": "code",
   "execution_count": 147,
   "id": "73d1f33f-0b30-4c45-8cf2-d5c990d98f97",
   "metadata": {},
   "outputs": [
    {
     "data": {
      "text/plain": [
       "282842"
      ]
     },
     "execution_count": 147,
     "metadata": {},
     "output_type": "execute_result"
    }
   ],
   "source": [
    "np.sum(lens)"
   ]
  },
  {
   "cell_type": "code",
   "execution_count": 141,
   "id": "9a7e3fba-1555-4426-a17f-b8ead2155518",
   "metadata": {},
   "outputs": [
    {
     "data": {
      "text/plain": [
       "712453"
      ]
     },
     "execution_count": 141,
     "metadata": {},
     "output_type": "execute_result"
    }
   ],
   "source": [
    "np.sum(lens)"
   ]
  },
  {
   "cell_type": "code",
   "execution_count": null,
   "id": "62c831fb-0cc6-4c06-a420-5f81e213efe1",
   "metadata": {},
   "outputs": [],
   "source": [
    "np.sum(lens)"
   ]
  },
  {
   "cell_type": "code",
   "execution_count": null,
   "id": "2f55e80e-6b9b-4de3-b68c-d1e9096543ef",
   "metadata": {},
   "outputs": [],
   "source": []
  },
  {
   "cell_type": "code",
   "execution_count": null,
   "id": "acb6b3a4-4392-4c4f-8acd-8c4bc05947ae",
   "metadata": {},
   "outputs": [],
   "source": []
  },
  {
   "cell_type": "code",
   "execution_count": null,
   "id": "fc208e43-fa4f-48b6-82f2-28a436df714b",
   "metadata": {},
   "outputs": [],
   "source": []
  },
  {
   "cell_type": "code",
   "execution_count": null,
   "id": "3c0eab61-92f2-4b71-b7c1-6181908df943",
   "metadata": {},
   "outputs": [],
   "source": []
  },
  {
   "cell_type": "code",
   "execution_count": 105,
   "id": "dacab275-2a68-4698-ba64-5b1aea0c1f02",
   "metadata": {},
   "outputs": [],
   "source": [
    "def make_count_mtx(indir,sample):\n",
    "    \n",
    "    position='quads'\n",
    "\n",
    "    dir_split=f'{indir}/{sample}/split/'\n",
    "    files=os.listdir(dir_split)\n",
    "    jsons = sorted([f for f in files if f'{position}.json' in f])\n",
    "\n",
    "    data_agg={}\n",
    "\n",
    "    for i in tqdm(range(len(jsons[:1]))):\n",
    "        with open(f'{dir_split}{jsons[i]}', 'r') as json_file:\n",
    "            data_sub = json.load(json_file)\n",
    "            print(jsons[i],len(data_sub))\n",
    "            for k in data_sub:\n",
    "                if data_agg.get(k) is not None:\n",
    "                    data_agg[k].extend(data_sub[k])\n",
    "                else:\n",
    "                    data_agg[k]=data_sub[k]\n",
    "\n",
    "    a_white = pd.read_csv(f'{indir}/{sample}/{sample}_anchors_wl.csv.gz',index_col=1)#['bc']\n",
    "    t_white = pd.read_csv(f'{indir}/{sample}/{sample}_targets_wl.csv.gz',index_col=1)#['bc']\n",
    "    \n",
    "    counts_np = np.zeros( (len(a_white),len(t_white)) )\n",
    "    counts_df = pd.DataFrame(counts_np, index=a_white.index, columns=t_white.index)\n",
    "\n",
    "    all_list=[]\n",
    "    for a_bc in tqdm(a_white.index[:1000]):\n",
    "\n",
    "        umi_tbc=data_agg[a_bc]\n",
    "        umi_bc_dic={}\n",
    "        for a in umi_tbc:\n",
    "            if umi_bc_dic.get(a[0]) is not None:\n",
    "                umi_bc_dic[a[0]].append(a[1])\n",
    "            else:\n",
    "                umi_bc_dic[a[0]]=[a[1]]\n",
    "\n",
    "        t_bc_cnt={}\n",
    "        for k in umi_bc_dic:\n",
    "            umi_reads=len(umi_bc_dic[k])\n",
    "            if umi_reads>2:\n",
    "                uni_t_bc=set(umi_bc_dic[k])\n",
    "                if len(uni_t_bc)>1:\n",
    "                    bcs,cnts=np.unique(umi_bc_dic[k],return_counts=True)\n",
    "                    if np.max(cnts/umi_reads)>.74:\n",
    "                        t_bc=bcs[np.argmax(cnts/umi_reads)]\n",
    "                        seq_counter(t_bc_cnt,t_bc)\n",
    "                else:\n",
    "                    t_bc=list(uni_t_bc)[0]\n",
    "                    seq_counter(t_bc_cnt,t_bc)\n",
    "\n",
    "        counts_df.loc[a_bc,list(t_bc_cnt.keys())]=list(t_bc_cnt.values())\n",
    "        \n",
    "    counts_df=AnnData(counts_df,dtype='float32')\n",
    "    counts_df.X = csr_matrix(counts_df.X)\n",
    "    #sc.pp.filter_genes(counts_df, min_counts=1)\n",
    "    #sc.pp.filter_cells(counts_df, min_counts=1)\n",
    "    #sc.pp.calculate_qc_metrics(counts_df, percent_top=None, log1p=None, inplace=True)\n",
    "    counts_df.write_h5ad(f'{indir}/{sample}/{sample}_counts_filtered.h5ad')\n",
    "    return counts_df"
   ]
  },
  {
   "cell_type": "code",
   "execution_count": 21,
   "id": "37f9b378-317f-4236-9f8f-fda9b333241b",
   "metadata": {},
   "outputs": [],
   "source": [
    "indir='/n/data2/dfci/medonc/cwu/meb521/slideseq/reconstruct/230928/'"
   ]
  },
  {
   "cell_type": "code",
   "execution_count": 12,
   "id": "2a2458fe-5244-44c9-ad21-b50f3e709771",
   "metadata": {},
   "outputs": [],
   "source": [
    "samples=sorted([f for f in os.listdir(input_dir) if '.' not in f])"
   ]
  },
  {
   "cell_type": "code",
   "execution_count": null,
   "id": "6bd0169d-f86f-4997-8d0c-ef1ba95afbcd",
   "metadata": {},
   "outputs": [
    {
     "data": {
      "text/plain": [
       "['c58_13_rec_S7',\n",
       " 'c58_18_rec_S8',\n",
       " 'c58_4_rec2_S4',\n",
       " 'c58_4_rec_S6',\n",
       " 'c58_5_rec2_S5',\n",
       " 'c58_5_rec_S7',\n",
       " 'c58_8_rec2_S6',\n",
       " 'c58_8_rec_S8']"
      ]
     },
     "execution_count": 13,
     "metadata": {},
     "output_type": "execute_result"
    }
   ],
   "source": [
    "samples"
   ]
  },
  {
   "cell_type": "code",
   "execution_count": null,
   "id": "c93f78ca-df3e-4084-8508-ca844538766f",
   "metadata": {},
   "outputs": [],
   "source": [
    "sample='c58_4_rec_S6'"
   ]
  },
  {
   "cell_type": "code",
   "execution_count": null,
   "id": "c36701f6-ac74-4bc4-b53e-3ee16da7ce03",
   "metadata": {},
   "outputs": [],
   "source": [
    "sample='c58_4_rec2_S4'"
   ]
  },
  {
   "cell_type": "code",
   "execution_count": 15,
   "id": "d4151fee-05e2-48ad-a205-d637b22873cb",
   "metadata": {},
   "outputs": [],
   "source": [
    "def seq_counter(seq_dict,seq_instance):\n",
    "    \n",
    "    if seq_dict.get(seq_instance) is None:\n",
    "        seq_dict[seq_instance] = 1\n",
    "    else:\n",
    "        seq_dict[seq_instance]+= 1\n"
   ]
  },
  {
   "cell_type": "code",
   "execution_count": 16,
   "id": "30a352ab-113e-4f85-bcfd-81afa4b19b37",
   "metadata": {},
   "outputs": [
    {
     "name": "stderr",
     "output_type": "stream",
     "text": [
      "100%|██████████| 1/1 [00:00<00:00,  1.62it/s]\n"
     ]
    },
    {
     "name": "stdout",
     "output_type": "stream",
     "text": [
      "c58_4_rec_S6.part_001_quads.json 35692\n"
     ]
    },
    {
     "name": "stderr",
     "output_type": "stream",
     "text": [
      "100%|██████████| 1000/1000 [00:00<00:00, 1534.42it/s]\n"
     ]
    }
   ],
   "source": [
    "adata=make_count_mtx(input_dir,sample)"
   ]
  },
  {
   "cell_type": "code",
   "execution_count": 74,
   "id": "1943bb1c-aa61-47f3-b2e0-42a87385144b",
   "metadata": {},
   "outputs": [
    {
     "data": {
      "text/plain": [
       "<26209x20547 sparse matrix of type '<class 'numpy.float32'>'\n",
       "\twith 2445 stored elements in Compressed Sparse Row format>"
      ]
     },
     "execution_count": 74,
     "metadata": {},
     "output_type": "execute_result"
    }
   ],
   "source": [
    "adata.X"
   ]
  },
  {
   "cell_type": "code",
   "execution_count": 75,
   "id": "4ab25635-3f7d-44f3-ae50-d80714732636",
   "metadata": {},
   "outputs": [
    {
     "data": {
      "text/plain": [
       "<26209x20547 sparse matrix of type '<class 'numpy.float32'>'\n",
       "\twith 2445 stored elements in Compressed Sparse Row format>"
      ]
     },
     "execution_count": 75,
     "metadata": {},
     "output_type": "execute_result"
    }
   ],
   "source": [
    "adata.X"
   ]
  },
  {
   "cell_type": "code",
   "execution_count": 77,
   "id": "a2fe273a-bfd5-4a57-ad3f-c04bc63285ed",
   "metadata": {},
   "outputs": [
    {
     "data": {
      "text/html": [
       "<div>\n",
       "<style scoped>\n",
       "    .dataframe tbody tr th:only-of-type {\n",
       "        vertical-align: middle;\n",
       "    }\n",
       "\n",
       "    .dataframe tbody tr th {\n",
       "        vertical-align: top;\n",
       "    }\n",
       "\n",
       "    .dataframe thead th {\n",
       "        text-align: right;\n",
       "    }\n",
       "</style>\n",
       "<table border=\"1\" class=\"dataframe\">\n",
       "  <thead>\n",
       "    <tr style=\"text-align: right;\">\n",
       "      <th></th>\n",
       "      <th>bc</th>\n",
       "      <th>umi_cnt</th>\n",
       "      <th>read_cnt</th>\n",
       "      <th>log10_read_cnt</th>\n",
       "      <th>log10_umi_cnt</th>\n",
       "      <th>dup_rate</th>\n",
       "    </tr>\n",
       "  </thead>\n",
       "  <tbody>\n",
       "    <tr>\n",
       "      <th>1624</th>\n",
       "      <td>AATGACACCCACAA</td>\n",
       "      <td>2291</td>\n",
       "      <td>3140</td>\n",
       "      <td>3.496930</td>\n",
       "      <td>3.360025</td>\n",
       "      <td>1.370581</td>\n",
       "    </tr>\n",
       "    <tr>\n",
       "      <th>228</th>\n",
       "      <td>AAGAACACACTGTG</td>\n",
       "      <td>2042</td>\n",
       "      <td>2844</td>\n",
       "      <td>3.453930</td>\n",
       "      <td>3.310056</td>\n",
       "      <td>1.392752</td>\n",
       "    </tr>\n",
       "    <tr>\n",
       "      <th>2551</th>\n",
       "      <td>TATCCGAGTCAGTT</td>\n",
       "      <td>1958</td>\n",
       "      <td>2726</td>\n",
       "      <td>3.435526</td>\n",
       "      <td>3.291813</td>\n",
       "      <td>1.392237</td>\n",
       "    </tr>\n",
       "    <tr>\n",
       "      <th>1662</th>\n",
       "      <td>CACCAGAATTGAGC</td>\n",
       "      <td>1859</td>\n",
       "      <td>2556</td>\n",
       "      <td>3.407561</td>\n",
       "      <td>3.269279</td>\n",
       "      <td>1.374933</td>\n",
       "    </tr>\n",
       "    <tr>\n",
       "      <th>374</th>\n",
       "      <td>CTCTTTCTAGGGCC</td>\n",
       "      <td>1697</td>\n",
       "      <td>2318</td>\n",
       "      <td>3.365113</td>\n",
       "      <td>3.229682</td>\n",
       "      <td>1.365940</td>\n",
       "    </tr>\n",
       "    <tr>\n",
       "      <th>...</th>\n",
       "      <td>...</td>\n",
       "      <td>...</td>\n",
       "      <td>...</td>\n",
       "      <td>...</td>\n",
       "      <td>...</td>\n",
       "      <td>...</td>\n",
       "    </tr>\n",
       "    <tr>\n",
       "      <th>53898</th>\n",
       "      <td>CATGACAGTGATGA</td>\n",
       "      <td>2</td>\n",
       "      <td>5</td>\n",
       "      <td>0.698970</td>\n",
       "      <td>0.301030</td>\n",
       "      <td>2.500000</td>\n",
       "    </tr>\n",
       "    <tr>\n",
       "      <th>53603</th>\n",
       "      <td>GGTCAGCCAAAAAA</td>\n",
       "      <td>2</td>\n",
       "      <td>8</td>\n",
       "      <td>0.903090</td>\n",
       "      <td>0.301030</td>\n",
       "      <td>4.000000</td>\n",
       "    </tr>\n",
       "    <tr>\n",
       "      <th>53604</th>\n",
       "      <td>TACTTCACACTGCA</td>\n",
       "      <td>2</td>\n",
       "      <td>5</td>\n",
       "      <td>0.698970</td>\n",
       "      <td>0.301030</td>\n",
       "      <td>2.500000</td>\n",
       "    </tr>\n",
       "    <tr>\n",
       "      <th>58978</th>\n",
       "      <td>CAGACCCTGCTTCG</td>\n",
       "      <td>2</td>\n",
       "      <td>5</td>\n",
       "      <td>0.698970</td>\n",
       "      <td>0.301030</td>\n",
       "      <td>2.500000</td>\n",
       "    </tr>\n",
       "    <tr>\n",
       "      <th>58854</th>\n",
       "      <td>GACCGAGCCTATGA</td>\n",
       "      <td>2</td>\n",
       "      <td>5</td>\n",
       "      <td>0.698970</td>\n",
       "      <td>0.301030</td>\n",
       "      <td>2.500000</td>\n",
       "    </tr>\n",
       "  </tbody>\n",
       "</table>\n",
       "<p>56533 rows × 6 columns</p>\n",
       "</div>"
      ],
      "text/plain": [
       "                   bc  umi_cnt  read_cnt  log10_read_cnt  log10_umi_cnt  \\\n",
       "1624   AATGACACCCACAA     2291      3140        3.496930       3.360025   \n",
       "228    AAGAACACACTGTG     2042      2844        3.453930       3.310056   \n",
       "2551   TATCCGAGTCAGTT     1958      2726        3.435526       3.291813   \n",
       "1662   CACCAGAATTGAGC     1859      2556        3.407561       3.269279   \n",
       "374    CTCTTTCTAGGGCC     1697      2318        3.365113       3.229682   \n",
       "...               ...      ...       ...             ...            ...   \n",
       "53898  CATGACAGTGATGA        2         5        0.698970       0.301030   \n",
       "53603  GGTCAGCCAAAAAA        2         8        0.903090       0.301030   \n",
       "53604  TACTTCACACTGCA        2         5        0.698970       0.301030   \n",
       "58978  CAGACCCTGCTTCG        2         5        0.698970       0.301030   \n",
       "58854  GACCGAGCCTATGA        2         5        0.698970       0.301030   \n",
       "\n",
       "       dup_rate  \n",
       "1624   1.370581  \n",
       "228    1.392752  \n",
       "2551   1.392237  \n",
       "1662   1.374933  \n",
       "374    1.365940  \n",
       "...         ...  \n",
       "53898  2.500000  \n",
       "53603  4.000000  \n",
       "53604  2.500000  \n",
       "58978  2.500000  \n",
       "58854  2.500000  \n",
       "\n",
       "[56533 rows x 6 columns]"
      ]
     },
     "execution_count": 77,
     "metadata": {},
     "output_type": "execute_result"
    }
   ],
   "source": [
    "position='targets'\n",
    "pd.read_csv(f'{input_dir}/{sample}/{sample}_{position}_wl.csv.gz',index_col=0)"
   ]
  },
  {
   "cell_type": "code",
   "execution_count": 78,
   "id": "f3446d38-62dd-4e2e-b609-6db07aff06a0",
   "metadata": {},
   "outputs": [],
   "source": [
    "from scipy.ndimage import gaussian_filter1d\n",
    "from scipy.signal import find_peaks\n"
   ]
  },
  {
   "cell_type": "code",
   "execution_count": 79,
   "id": "5e4f275a-f661-4999-94fd-83706d6d5ea5",
   "metadata": {},
   "outputs": [
    {
     "data": {
      "text/plain": [
       "['c58_13_rec_S7',\n",
       " 'c58_18_rec_S8',\n",
       " 'c58_4_rec2_S4',\n",
       " 'c58_4_rec_S6',\n",
       " 'c58_5_rec2_S5',\n",
       " 'c58_5_rec_S7',\n",
       " 'c58_8_rec2_S6',\n",
       " 'c58_8_rec_S8']"
      ]
     },
     "execution_count": 79,
     "metadata": {},
     "output_type": "execute_result"
    }
   ],
   "source": [
    "samples"
   ]
  },
  {
   "cell_type": "code",
   "execution_count": 80,
   "id": "da243e59-cbf1-47c6-a963-4a311d662aa0",
   "metadata": {},
   "outputs": [],
   "source": [
    "sample='c58_4_rec_S6'"
   ]
  },
  {
   "cell_type": "code",
   "execution_count": 67,
   "id": "0e5014c6-464b-4170-ab6b-878c8ffd06d9",
   "metadata": {},
   "outputs": [],
   "source": [
    "sample='c58_4_rec2_S4'"
   ]
  },
  {
   "cell_type": "code",
   "execution_count": 82,
   "id": "2c67ccbd-06a6-47b3-82c5-5e1d2d5ada5c",
   "metadata": {},
   "outputs": [],
   "source": [
    "from matplotlib.backends.backend_pdf import PdfPages\n"
   ]
  },
  {
   "cell_type": "code",
   "execution_count": 94,
   "id": "ef0dbfd3-9ee1-433e-b9ab-92f4af566615",
   "metadata": {},
   "outputs": [],
   "source": [
    "qc_pdfs = PdfPages(f'{indir}/{sample}/{sample}_QC.pdf')"
   ]
  },
  {
   "cell_type": "code",
   "execution_count": 95,
   "id": "a2f58a19-d450-4ec7-977f-4c763582d458",
   "metadata": {},
   "outputs": [],
   "source": [
    "position='targets'"
   ]
  },
  {
   "cell_type": "code",
   "execution_count": 97,
   "id": "44d36a2a-3ea1-4f07-bb02-390a4638dc1c",
   "metadata": {},
   "outputs": [],
   "source": [
    "position='anchors'"
   ]
  },
  {
   "cell_type": "code",
   "execution_count": 98,
   "id": "afbc5900-8090-4e1d-834e-c216ae1ea5c7",
   "metadata": {},
   "outputs": [
    {
     "name": "stdout",
     "output_type": "stream",
     "text": [
      "[ 5 48] [0.13982872 1.34235568]\n"
     ]
    },
    {
     "data": {
      "image/png": "[encoded data removed]",
      "text/plain": [
       "<Figure size 400x300 with 1 Axes>"
      ]
     },
     "metadata": {},
     "output_type": "display_data"
    },
    {
     "data": {
      "image/png": "[encoded data removed]",
      "text/plain": [
       "<Figure size 400x300 with 1 Axes>"
      ]
     },
     "metadata": {},
     "output_type": "display_data"
    },
    {
     "data": {
      "image/png": "[encoded data removed]",
      "text/plain": [
       "<Figure size 200x200 with 1 Axes>"
      ]
     },
     "metadata": {},
     "output_type": "display_data"
    }
   ],
   "source": [
    "read_cnt=pd.read_csv(f'{indir}/{sample}/{sample}_agg_read_cnt_{position}.csv')\n",
    "umi_cnt=pd.read_csv(f'{indir}/{sample}/{sample}_agg_umi_cnt_{position}.csv')\n",
    "umi_cnt.columns=['bc','umi_cnt']\n",
    "read_cnt.columns=['bc','read_cnt']\n",
    "agg_bcs=pd.merge(umi_cnt,read_cnt,left_on='bc',right_on='bc',how='inner')\n",
    "agg_bcs['log10_read_cnt']=np.log10(agg_bcs['read_cnt'])\n",
    "agg_bcs['log10_umi_cnt']=np.log10(agg_bcs['umi_cnt'])\n",
    "agg_bcs['dup_rate']=agg_bcs['read_cnt']/agg_bcs['umi_cnt']\n",
    "agg_bcs=agg_bcs.sort_values(by='umi_cnt',ascending=False)\n",
    "\n",
    "sub=agg_bcs.iloc[20:100000].copy()  # select top 100k bc except first 20\n",
    "x = np.histogram(sub.log10_umi_cnt, 100) # fit a histogram\n",
    "smooth = gaussian_filter1d(x[0], 3) # smooth histogram\n",
    "peak_idx,_=find_peaks(-smooth) # find the local minimum\n",
    "print(peak_idx,x[1][:-1][peak_idx])\n",
    "mean_hist=(x[1][1:][peak_idx]+x[1][:-1][peak_idx])/2 # take the mid point of point before and after\n",
    "\n",
    "mean_hist=mean_hist[-1] # take the last value in list of local minima (could be more than one)\n",
    "\n",
    "wl_df=agg_bcs[agg_bcs.log10_umi_cnt>=mean_hist].copy()\n",
    "wl_df.to_csv(f'{indir}/{sample}/{sample}_{position}_wl.csv.gz',compression='infer')\n",
    "#wl_reads=wl_df.read_cnt.sum()\n",
    "white_list_size=wl_df.shape[0]\n",
    "\n",
    "plt.figure(figsize=(4,3))\n",
    "log10_ranks=np.log10(np.arange(1,len(agg_bcs)+1))\n",
    "log10_cnts=agg_bcs.log10_umi_cnt\n",
    "plt.plot(log10_ranks,log10_cnts)#,label='Rank Plot of Reads')\n",
    "plt.xlabel('Log10 Ranks')\n",
    "plt.ylabel('Log10 UMI Counts')\n",
    "plt.title(f'{sample} {position}\\n {white_list_size} white listed')\n",
    "plt.plot([0, log10_ranks[-1]], [mean_hist, mean_hist], linewidth=1,label='log10 threshold',c='tab:green')\n",
    "log10_wl=np.log10(white_list_size)\n",
    "plt.plot([log10_wl, log10_wl], [log10_cnts.min(), log10_cnts.max()], linewidth=1,label='log10 size',c='tab:orange')\n",
    "plt.legend(loc=\"best\");\n",
    "#plt.savefig(f'{indir}/{sample}/{sample}_{position}_rankplot.pdf',bbox_inches='tight');\n",
    "\n",
    "pp.savefig(bbox_inches='tight')\n",
    "\n",
    "\n",
    "plt.figure(figsize=(4,3))\n",
    "plt.plot(x[1][:-1],x[0], label='Raw Histogram')\n",
    "plt.plot(x[1][:-1],smooth, label='Gaussian Smoothed')\n",
    "plt.xlabel('Log10 UMI Counts')\n",
    "plt.ylabel('Bin Height')\n",
    "plt.title(f'{sample} {position}')\n",
    "plt.plot([mean_hist, mean_hist], [0, np.max(x[0])], linewidth=2,label='Whitelist Threshold')\n",
    "plt.legend(loc=\"best\");\n",
    "#plt.savefig(f'{indir}/{sample}/{sample}_{position}_histogram.pdf',bbox_inches='tight');\n",
    "pp.savefig()\n",
    "plt.figure(figsize=(2,2))\n",
    "mean=wl_df.dup_rate.mean()\n",
    "n_std=3\n",
    "width=wl_df.dup_rate.std()*n_std\n",
    "ticks=np.linspace(mean-width,mean+width,n_std)\n",
    "sns.histplot(wl_df[(wl_df.dup_rate>mean-width) & (wl_df.dup_rate<mean+width) ].dup_rate,bins=50)\n",
    "plt.xticks(ticks)\n",
    "#plt.savefig(f'{indir}/{sample}/{sample}_{position}_duprate.pdf',bbox_inches='tight');\n",
    "\n",
    "pp.savefig(bbox_inches='tight')"
   ]
  },
  {
   "cell_type": "code",
   "execution_count": 99,
   "id": "4580bbb9-4ba5-4653-b3f6-4450a662e21d",
   "metadata": {},
   "outputs": [],
   "source": [
    "pp.close()"
   ]
  },
  {
   "cell_type": "code",
   "execution_count": 60,
   "id": "d65e071e-bec7-4e18-955a-21f17fec9584",
   "metadata": {},
   "outputs": [],
   "source": [
    "mean_hist=(x[1][1:][peak_idx]+x[1][:-1][peak_idx])/2 # take the mid point of point before and after\n"
   ]
  },
  {
   "cell_type": "code",
   "execution_count": 100,
   "id": "a3123631-a11e-480b-bdcb-c1cfa03a6ba5",
   "metadata": {},
   "outputs": [],
   "source": [
    "wf=pd.read_csv('/n/data2/dfci/medonc/cwu/meb521/slideseq/reconstruct/230928/c58_8_rec_S8/c58_8_rec_S8_targets_wl.csv.gz')"
   ]
  },
  {
   "cell_type": "code",
   "execution_count": 103,
   "id": "d01818e1-120f-4750-8102-4c0e28daa010",
   "metadata": {},
   "outputs": [],
   "source": [
    "wf=pd.read_csv('/n/data2/dfci/medonc/cwu/meb521/slideseq/reconstruct/230928/c58_8_rec_S8/c58_8_rec_S8_anchors_wl.csv.gz')"
   ]
  },
  {
   "cell_type": "code",
   "execution_count": 102,
   "id": "9c4772c8-54d4-4207-95da-c770c87e5101",
   "metadata": {},
   "outputs": [
    {
     "data": {
      "text/html": [
       "<div>\n",
       "<style scoped>\n",
       "    .dataframe tbody tr th:only-of-type {\n",
       "        vertical-align: middle;\n",
       "    }\n",
       "\n",
       "    .dataframe tbody tr th {\n",
       "        vertical-align: top;\n",
       "    }\n",
       "\n",
       "    .dataframe thead th {\n",
       "        text-align: right;\n",
       "    }\n",
       "</style>\n",
       "<table border=\"1\" class=\"dataframe\">\n",
       "  <thead>\n",
       "    <tr style=\"text-align: right;\">\n",
       "      <th></th>\n",
       "      <th>Unnamed: 0</th>\n",
       "      <th>bc</th>\n",
       "      <th>umi_cnt</th>\n",
       "      <th>read_cnt</th>\n",
       "      <th>log10_read_cnt</th>\n",
       "      <th>log10_umi_cnt</th>\n",
       "      <th>dup_rate</th>\n",
       "    </tr>\n",
       "  </thead>\n",
       "  <tbody>\n",
       "    <tr>\n",
       "      <th>0</th>\n",
       "      <td>918</td>\n",
       "      <td>ATTTATTGGCGAGC</td>\n",
       "      <td>1378</td>\n",
       "      <td>1894</td>\n",
       "      <td>3.277380</td>\n",
       "      <td>3.139249</td>\n",
       "      <td>1.374456</td>\n",
       "    </tr>\n",
       "    <tr>\n",
       "      <th>1</th>\n",
       "      <td>341</td>\n",
       "      <td>TCACCCGCTATCTA</td>\n",
       "      <td>1304</td>\n",
       "      <td>1765</td>\n",
       "      <td>3.246745</td>\n",
       "      <td>3.115278</td>\n",
       "      <td>1.353528</td>\n",
       "    </tr>\n",
       "    <tr>\n",
       "      <th>2</th>\n",
       "      <td>1869</td>\n",
       "      <td>AACATACCGGAATA</td>\n",
       "      <td>1255</td>\n",
       "      <td>1644</td>\n",
       "      <td>3.215902</td>\n",
       "      <td>3.098644</td>\n",
       "      <td>1.309960</td>\n",
       "    </tr>\n",
       "    <tr>\n",
       "      <th>3</th>\n",
       "      <td>490</td>\n",
       "      <td>CACCAATATCTTTA</td>\n",
       "      <td>1160</td>\n",
       "      <td>1623</td>\n",
       "      <td>3.210319</td>\n",
       "      <td>3.064458</td>\n",
       "      <td>1.399138</td>\n",
       "    </tr>\n",
       "    <tr>\n",
       "      <th>4</th>\n",
       "      <td>2885</td>\n",
       "      <td>CATCTTGCGGTGAG</td>\n",
       "      <td>1135</td>\n",
       "      <td>1552</td>\n",
       "      <td>3.190892</td>\n",
       "      <td>3.054996</td>\n",
       "      <td>1.367401</td>\n",
       "    </tr>\n",
       "    <tr>\n",
       "      <th>...</th>\n",
       "      <td>...</td>\n",
       "      <td>...</td>\n",
       "      <td>...</td>\n",
       "      <td>...</td>\n",
       "      <td>...</td>\n",
       "      <td>...</td>\n",
       "      <td>...</td>\n",
       "    </tr>\n",
       "    <tr>\n",
       "      <th>19771</th>\n",
       "      <td>19164</td>\n",
       "      <td>GGGCAATGCGTCAA</td>\n",
       "      <td>21</td>\n",
       "      <td>25</td>\n",
       "      <td>1.397940</td>\n",
       "      <td>1.322219</td>\n",
       "      <td>1.190476</td>\n",
       "    </tr>\n",
       "    <tr>\n",
       "      <th>19772</th>\n",
       "      <td>35753</td>\n",
       "      <td>AAGTACAAAATGCT</td>\n",
       "      <td>21</td>\n",
       "      <td>31</td>\n",
       "      <td>1.491362</td>\n",
       "      <td>1.322219</td>\n",
       "      <td>1.476190</td>\n",
       "    </tr>\n",
       "    <tr>\n",
       "      <th>19773</th>\n",
       "      <td>23501</td>\n",
       "      <td>CGTGACGGGTCTAA</td>\n",
       "      <td>21</td>\n",
       "      <td>30</td>\n",
       "      <td>1.477121</td>\n",
       "      <td>1.322219</td>\n",
       "      <td>1.428571</td>\n",
       "    </tr>\n",
       "    <tr>\n",
       "      <th>19774</th>\n",
       "      <td>27856</td>\n",
       "      <td>GGGGACTATCTCCA</td>\n",
       "      <td>21</td>\n",
       "      <td>27</td>\n",
       "      <td>1.431364</td>\n",
       "      <td>1.322219</td>\n",
       "      <td>1.285714</td>\n",
       "    </tr>\n",
       "    <tr>\n",
       "      <th>19775</th>\n",
       "      <td>11296</td>\n",
       "      <td>ATACCAATCATTCG</td>\n",
       "      <td>21</td>\n",
       "      <td>28</td>\n",
       "      <td>1.447158</td>\n",
       "      <td>1.322219</td>\n",
       "      <td>1.333333</td>\n",
       "    </tr>\n",
       "  </tbody>\n",
       "</table>\n",
       "<p>19776 rows × 7 columns</p>\n",
       "</div>"
      ],
      "text/plain": [
       "       Unnamed: 0              bc  umi_cnt  read_cnt  log10_read_cnt  \\\n",
       "0             918  ATTTATTGGCGAGC     1378      1894        3.277380   \n",
       "1             341  TCACCCGCTATCTA     1304      1765        3.246745   \n",
       "2            1869  AACATACCGGAATA     1255      1644        3.215902   \n",
       "3             490  CACCAATATCTTTA     1160      1623        3.210319   \n",
       "4            2885  CATCTTGCGGTGAG     1135      1552        3.190892   \n",
       "...           ...             ...      ...       ...             ...   \n",
       "19771       19164  GGGCAATGCGTCAA       21        25        1.397940   \n",
       "19772       35753  AAGTACAAAATGCT       21        31        1.491362   \n",
       "19773       23501  CGTGACGGGTCTAA       21        30        1.477121   \n",
       "19774       27856  GGGGACTATCTCCA       21        27        1.431364   \n",
       "19775       11296  ATACCAATCATTCG       21        28        1.447158   \n",
       "\n",
       "       log10_umi_cnt  dup_rate  \n",
       "0           3.139249  1.374456  \n",
       "1           3.115278  1.353528  \n",
       "2           3.098644  1.309960  \n",
       "3           3.064458  1.399138  \n",
       "4           3.054996  1.367401  \n",
       "...              ...       ...  \n",
       "19771       1.322219  1.190476  \n",
       "19772       1.322219  1.476190  \n",
       "19773       1.322219  1.428571  \n",
       "19774       1.322219  1.285714  \n",
       "19775       1.322219  1.333333  \n",
       "\n",
       "[19776 rows x 7 columns]"
      ]
     },
     "execution_count": 102,
     "metadata": {},
     "output_type": "execute_result"
    }
   ],
   "source": [
    "wf"
   ]
  },
  {
   "cell_type": "code",
   "execution_count": 104,
   "id": "20a0f481-2bb9-4ddc-a435-fdf70ac14e05",
   "metadata": {},
   "outputs": [
    {
     "data": {
      "text/html": [
       "<div>\n",
       "<style scoped>\n",
       "    .dataframe tbody tr th:only-of-type {\n",
       "        vertical-align: middle;\n",
       "    }\n",
       "\n",
       "    .dataframe tbody tr th {\n",
       "        vertical-align: top;\n",
       "    }\n",
       "\n",
       "    .dataframe thead th {\n",
       "        text-align: right;\n",
       "    }\n",
       "</style>\n",
       "<table border=\"1\" class=\"dataframe\">\n",
       "  <thead>\n",
       "    <tr style=\"text-align: right;\">\n",
       "      <th></th>\n",
       "      <th>Unnamed: 0</th>\n",
       "      <th>bc</th>\n",
       "      <th>umi_cnt</th>\n",
       "      <th>read_cnt</th>\n",
       "      <th>log10_read_cnt</th>\n",
       "      <th>log10_umi_cnt</th>\n",
       "      <th>dup_rate</th>\n",
       "    </tr>\n",
       "  </thead>\n",
       "  <tbody>\n",
       "    <tr>\n",
       "      <th>0</th>\n",
       "      <td>1949</td>\n",
       "      <td>TGCCGTGGAAGTGT</td>\n",
       "      <td>1122</td>\n",
       "      <td>1517</td>\n",
       "      <td>3.180986</td>\n",
       "      <td>3.049993</td>\n",
       "      <td>1.352050</td>\n",
       "    </tr>\n",
       "    <tr>\n",
       "      <th>1</th>\n",
       "      <td>3479</td>\n",
       "      <td>ATATGACTGACACA</td>\n",
       "      <td>1096</td>\n",
       "      <td>1460</td>\n",
       "      <td>3.164353</td>\n",
       "      <td>3.039811</td>\n",
       "      <td>1.332117</td>\n",
       "    </tr>\n",
       "    <tr>\n",
       "      <th>2</th>\n",
       "      <td>173</td>\n",
       "      <td>CCATCACCTGGATT</td>\n",
       "      <td>999</td>\n",
       "      <td>1319</td>\n",
       "      <td>3.120245</td>\n",
       "      <td>2.999565</td>\n",
       "      <td>1.320320</td>\n",
       "    </tr>\n",
       "    <tr>\n",
       "      <th>3</th>\n",
       "      <td>8107</td>\n",
       "      <td>ATTTCCAGCTCTGA</td>\n",
       "      <td>935</td>\n",
       "      <td>1243</td>\n",
       "      <td>3.094471</td>\n",
       "      <td>2.970812</td>\n",
       "      <td>1.329412</td>\n",
       "    </tr>\n",
       "    <tr>\n",
       "      <th>4</th>\n",
       "      <td>1397</td>\n",
       "      <td>AATACATCAGGAAC</td>\n",
       "      <td>932</td>\n",
       "      <td>1232</td>\n",
       "      <td>3.090611</td>\n",
       "      <td>2.969416</td>\n",
       "      <td>1.321888</td>\n",
       "    </tr>\n",
       "    <tr>\n",
       "      <th>...</th>\n",
       "      <td>...</td>\n",
       "      <td>...</td>\n",
       "      <td>...</td>\n",
       "      <td>...</td>\n",
       "      <td>...</td>\n",
       "      <td>...</td>\n",
       "      <td>...</td>\n",
       "    </tr>\n",
       "    <tr>\n",
       "      <th>19469</th>\n",
       "      <td>7422</td>\n",
       "      <td>GAACTACCATCAAA</td>\n",
       "      <td>26</td>\n",
       "      <td>34</td>\n",
       "      <td>1.531479</td>\n",
       "      <td>1.414973</td>\n",
       "      <td>1.307692</td>\n",
       "    </tr>\n",
       "    <tr>\n",
       "      <th>19470</th>\n",
       "      <td>24765</td>\n",
       "      <td>ATTCCGGTAAATAG</td>\n",
       "      <td>26</td>\n",
       "      <td>32</td>\n",
       "      <td>1.505150</td>\n",
       "      <td>1.414973</td>\n",
       "      <td>1.230769</td>\n",
       "    </tr>\n",
       "    <tr>\n",
       "      <th>19471</th>\n",
       "      <td>22783</td>\n",
       "      <td>TAACATATAACAAA</td>\n",
       "      <td>26</td>\n",
       "      <td>32</td>\n",
       "      <td>1.505150</td>\n",
       "      <td>1.414973</td>\n",
       "      <td>1.230769</td>\n",
       "    </tr>\n",
       "    <tr>\n",
       "      <th>19472</th>\n",
       "      <td>25998</td>\n",
       "      <td>GAATTGGGACCGCT</td>\n",
       "      <td>26</td>\n",
       "      <td>37</td>\n",
       "      <td>1.568202</td>\n",
       "      <td>1.414973</td>\n",
       "      <td>1.423077</td>\n",
       "    </tr>\n",
       "    <tr>\n",
       "      <th>19473</th>\n",
       "      <td>26710</td>\n",
       "      <td>TAACCGGGACCTAA</td>\n",
       "      <td>26</td>\n",
       "      <td>37</td>\n",
       "      <td>1.568202</td>\n",
       "      <td>1.414973</td>\n",
       "      <td>1.423077</td>\n",
       "    </tr>\n",
       "  </tbody>\n",
       "</table>\n",
       "<p>19474 rows × 7 columns</p>\n",
       "</div>"
      ],
      "text/plain": [
       "       Unnamed: 0              bc  umi_cnt  read_cnt  log10_read_cnt  \\\n",
       "0            1949  TGCCGTGGAAGTGT     1122      1517        3.180986   \n",
       "1            3479  ATATGACTGACACA     1096      1460        3.164353   \n",
       "2             173  CCATCACCTGGATT      999      1319        3.120245   \n",
       "3            8107  ATTTCCAGCTCTGA      935      1243        3.094471   \n",
       "4            1397  AATACATCAGGAAC      932      1232        3.090611   \n",
       "...           ...             ...      ...       ...             ...   \n",
       "19469        7422  GAACTACCATCAAA       26        34        1.531479   \n",
       "19470       24765  ATTCCGGTAAATAG       26        32        1.505150   \n",
       "19471       22783  TAACATATAACAAA       26        32        1.505150   \n",
       "19472       25998  GAATTGGGACCGCT       26        37        1.568202   \n",
       "19473       26710  TAACCGGGACCTAA       26        37        1.568202   \n",
       "\n",
       "       log10_umi_cnt  dup_rate  \n",
       "0           3.049993  1.352050  \n",
       "1           3.039811  1.332117  \n",
       "2           2.999565  1.320320  \n",
       "3           2.970812  1.329412  \n",
       "4           2.969416  1.321888  \n",
       "...              ...       ...  \n",
       "19469       1.414973  1.307692  \n",
       "19470       1.414973  1.230769  \n",
       "19471       1.414973  1.230769  \n",
       "19472       1.414973  1.423077  \n",
       "19473       1.414973  1.423077  \n",
       "\n",
       "[19474 rows x 7 columns]"
      ]
     },
     "execution_count": 104,
     "metadata": {},
     "output_type": "execute_result"
    }
   ],
   "source": [
    "wf"
   ]
  },
  {
   "cell_type": "code",
   "execution_count": 74,
   "id": "746ab470-426e-4ebc-9917-0acc51f041ed",
   "metadata": {},
   "outputs": [
    {
     "data": {
      "text/html": [
       "<div>\n",
       "<style scoped>\n",
       "    .dataframe tbody tr th:only-of-type {\n",
       "        vertical-align: middle;\n",
       "    }\n",
       "\n",
       "    .dataframe tbody tr th {\n",
       "        vertical-align: top;\n",
       "    }\n",
       "\n",
       "    .dataframe thead th {\n",
       "        text-align: right;\n",
       "    }\n",
       "</style>\n",
       "<table border=\"1\" class=\"dataframe\">\n",
       "  <thead>\n",
       "    <tr style=\"text-align: right;\">\n",
       "      <th></th>\n",
       "      <th>bc</th>\n",
       "      <th>umi_cnt</th>\n",
       "      <th>read_cnt</th>\n",
       "      <th>log10_read_cnt</th>\n",
       "      <th>log10_umi_cnt</th>\n",
       "      <th>dup_rate</th>\n",
       "    </tr>\n",
       "  </thead>\n",
       "  <tbody>\n",
       "    <tr>\n",
       "      <th>4387</th>\n",
       "      <td>TGGATGAGAATTTT</td>\n",
       "      <td>1391</td>\n",
       "      <td>1846</td>\n",
       "      <td>3.266232</td>\n",
       "      <td>3.143327</td>\n",
       "      <td>1.327103</td>\n",
       "    </tr>\n",
       "    <tr>\n",
       "      <th>3815</th>\n",
       "      <td>ACTAACGATTTAAT</td>\n",
       "      <td>1274</td>\n",
       "      <td>1652</td>\n",
       "      <td>3.218010</td>\n",
       "      <td>3.105169</td>\n",
       "      <td>1.296703</td>\n",
       "    </tr>\n",
       "    <tr>\n",
       "      <th>5501</th>\n",
       "      <td>GACATAAATACCGT</td>\n",
       "      <td>1031</td>\n",
       "      <td>1347</td>\n",
       "      <td>3.129368</td>\n",
       "      <td>3.013259</td>\n",
       "      <td>1.306499</td>\n",
       "    </tr>\n",
       "    <tr>\n",
       "      <th>5704</th>\n",
       "      <td>GCCGGTTCGAATGT</td>\n",
       "      <td>990</td>\n",
       "      <td>1292</td>\n",
       "      <td>3.111263</td>\n",
       "      <td>2.995635</td>\n",
       "      <td>1.305051</td>\n",
       "    </tr>\n",
       "    <tr>\n",
       "      <th>1795</th>\n",
       "      <td>TCCAGCATACGAGC</td>\n",
       "      <td>798</td>\n",
       "      <td>1077</td>\n",
       "      <td>3.032216</td>\n",
       "      <td>2.902003</td>\n",
       "      <td>1.349624</td>\n",
       "    </tr>\n",
       "    <tr>\n",
       "      <th>...</th>\n",
       "      <td>...</td>\n",
       "      <td>...</td>\n",
       "      <td>...</td>\n",
       "      <td>...</td>\n",
       "      <td>...</td>\n",
       "      <td>...</td>\n",
       "    </tr>\n",
       "    <tr>\n",
       "      <th>17121</th>\n",
       "      <td>TCCATGGGAGGTCA</td>\n",
       "      <td>23</td>\n",
       "      <td>25</td>\n",
       "      <td>1.397940</td>\n",
       "      <td>1.361728</td>\n",
       "      <td>1.086957</td>\n",
       "    </tr>\n",
       "    <tr>\n",
       "      <th>1926</th>\n",
       "      <td>AATTTGGAATCTCA</td>\n",
       "      <td>23</td>\n",
       "      <td>34</td>\n",
       "      <td>1.531479</td>\n",
       "      <td>1.361728</td>\n",
       "      <td>1.478261</td>\n",
       "    </tr>\n",
       "    <tr>\n",
       "      <th>34139</th>\n",
       "      <td>ACCGTTGTCGGTAC</td>\n",
       "      <td>23</td>\n",
       "      <td>29</td>\n",
       "      <td>1.462398</td>\n",
       "      <td>1.361728</td>\n",
       "      <td>1.260870</td>\n",
       "    </tr>\n",
       "    <tr>\n",
       "      <th>30593</th>\n",
       "      <td>CGCGCATGTGGTCT</td>\n",
       "      <td>23</td>\n",
       "      <td>30</td>\n",
       "      <td>1.477121</td>\n",
       "      <td>1.361728</td>\n",
       "      <td>1.304348</td>\n",
       "    </tr>\n",
       "    <tr>\n",
       "      <th>26141</th>\n",
       "      <td>AAACGGAGTATCGC</td>\n",
       "      <td>23</td>\n",
       "      <td>26</td>\n",
       "      <td>1.414973</td>\n",
       "      <td>1.361728</td>\n",
       "      <td>1.130435</td>\n",
       "    </tr>\n",
       "  </tbody>\n",
       "</table>\n",
       "<p>26775 rows × 6 columns</p>\n",
       "</div>"
      ],
      "text/plain": [
       "                   bc  umi_cnt  read_cnt  log10_read_cnt  log10_umi_cnt  \\\n",
       "4387   TGGATGAGAATTTT     1391      1846        3.266232       3.143327   \n",
       "3815   ACTAACGATTTAAT     1274      1652        3.218010       3.105169   \n",
       "5501   GACATAAATACCGT     1031      1347        3.129368       3.013259   \n",
       "5704   GCCGGTTCGAATGT      990      1292        3.111263       2.995635   \n",
       "1795   TCCAGCATACGAGC      798      1077        3.032216       2.902003   \n",
       "...               ...      ...       ...             ...            ...   \n",
       "17121  TCCATGGGAGGTCA       23        25        1.397940       1.361728   \n",
       "1926   AATTTGGAATCTCA       23        34        1.531479       1.361728   \n",
       "34139  ACCGTTGTCGGTAC       23        29        1.462398       1.361728   \n",
       "30593  CGCGCATGTGGTCT       23        30        1.477121       1.361728   \n",
       "26141  AAACGGAGTATCGC       23        26        1.414973       1.361728   \n",
       "\n",
       "       dup_rate  \n",
       "4387   1.327103  \n",
       "3815   1.296703  \n",
       "5501   1.306499  \n",
       "5704   1.305051  \n",
       "1795   1.349624  \n",
       "...         ...  \n",
       "17121  1.086957  \n",
       "1926   1.478261  \n",
       "34139  1.260870  \n",
       "30593  1.304348  \n",
       "26141  1.130435  \n",
       "\n",
       "[26775 rows x 6 columns]"
      ]
     },
     "execution_count": 74,
     "metadata": {},
     "output_type": "execute_result"
    }
   ],
   "source": [
    "wl_df"
   ]
  },
  {
   "cell_type": "code",
   "execution_count": null,
   "id": "8de8d1f0-e869-4ffb-b3d9-3eb4ee3d0bab",
   "metadata": {},
   "outputs": [],
   "source": []
  },
  {
   "cell_type": "code",
   "execution_count": 56,
   "id": "a66ed02e-ce77-461b-9206-ec7267d886f2",
   "metadata": {},
   "outputs": [
    {
     "data": {
      "text/plain": [
       "array([0.15381159, 1.35633855])"
      ]
     },
     "execution_count": 56,
     "metadata": {},
     "output_type": "execute_result"
    }
   ],
   "source": [
    "mean_hist"
   ]
  },
  {
   "cell_type": "code",
   "execution_count": 49,
   "id": "22b6bdbf-64ac-4e17-9c9b-81627054f2f4",
   "metadata": {},
   "outputs": [
    {
     "data": {
      "text/plain": [
       "array([0.16779446, 1.37032142])"
      ]
     },
     "execution_count": 49,
     "metadata": {},
     "output_type": "execute_result"
    }
   ],
   "source": [
    "x[1][1:][peak_idx]"
   ]
  },
  {
   "cell_type": "code",
   "execution_count": 50,
   "id": "f1c2e23b-8ef1-4309-aa14-3b95398446a1",
   "metadata": {},
   "outputs": [
    {
     "data": {
      "text/plain": [
       "array([0.13982872, 1.34235568])"
      ]
     },
     "execution_count": 50,
     "metadata": {},
     "output_type": "execute_result"
    }
   ],
   "source": [
    "x[1][:-1][peak_idx]"
   ]
  },
  {
   "cell_type": "code",
   "execution_count": 51,
   "id": "2e0c0d2f-d6b4-479e-a7f5-150a801bc49e",
   "metadata": {},
   "outputs": [
    {
     "data": {
      "text/plain": [
       "array([0.15381159, 1.35633855])"
      ]
     },
     "execution_count": 51,
     "metadata": {},
     "output_type": "execute_result"
    }
   ],
   "source": [
    "mean_hist"
   ]
  },
  {
   "cell_type": "code",
   "execution_count": 63,
   "id": "14606c04-822b-4bc7-9c61-cc3e06385b52",
   "metadata": {},
   "outputs": [],
   "source": [
    "wl_df=agg_bcs[agg_bcs.log10_umi_cnt>=mean_hist[0]].copy()\n"
   ]
  },
  {
   "cell_type": "code",
   "execution_count": 64,
   "id": "3c8f285a-5dde-4f66-9a76-78a552ae95e2",
   "metadata": {},
   "outputs": [
    {
     "data": {
      "text/html": [
       "<div>\n",
       "<style scoped>\n",
       "    .dataframe tbody tr th:only-of-type {\n",
       "        vertical-align: middle;\n",
       "    }\n",
       "\n",
       "    .dataframe tbody tr th {\n",
       "        vertical-align: top;\n",
       "    }\n",
       "\n",
       "    .dataframe thead th {\n",
       "        text-align: right;\n",
       "    }\n",
       "</style>\n",
       "<table border=\"1\" class=\"dataframe\">\n",
       "  <thead>\n",
       "    <tr style=\"text-align: right;\">\n",
       "      <th></th>\n",
       "      <th>bc</th>\n",
       "      <th>umi_cnt</th>\n",
       "      <th>read_cnt</th>\n",
       "      <th>log10_read_cnt</th>\n",
       "      <th>log10_umi_cnt</th>\n",
       "      <th>dup_rate</th>\n",
       "    </tr>\n",
       "  </thead>\n",
       "  <tbody>\n",
       "    <tr>\n",
       "      <th>3201</th>\n",
       "      <td>TGGATGAGAATTTT</td>\n",
       "      <td>3985</td>\n",
       "      <td>5289</td>\n",
       "      <td>3.723374</td>\n",
       "      <td>3.600428</td>\n",
       "      <td>1.327227</td>\n",
       "    </tr>\n",
       "    <tr>\n",
       "      <th>2248</th>\n",
       "      <td>ACTAACGATTTAAT</td>\n",
       "      <td>3646</td>\n",
       "      <td>4697</td>\n",
       "      <td>3.671821</td>\n",
       "      <td>3.561817</td>\n",
       "      <td>1.288261</td>\n",
       "    </tr>\n",
       "    <tr>\n",
       "      <th>5887</th>\n",
       "      <td>GACATAAATACCGT</td>\n",
       "      <td>2863</td>\n",
       "      <td>3716</td>\n",
       "      <td>3.570076</td>\n",
       "      <td>3.456821</td>\n",
       "      <td>1.297939</td>\n",
       "    </tr>\n",
       "    <tr>\n",
       "      <th>2290</th>\n",
       "      <td>GCCGGTTCGAATGT</td>\n",
       "      <td>2862</td>\n",
       "      <td>3682</td>\n",
       "      <td>3.566084</td>\n",
       "      <td>3.456670</td>\n",
       "      <td>1.286513</td>\n",
       "    </tr>\n",
       "    <tr>\n",
       "      <th>3943</th>\n",
       "      <td>TCCAGCATACGAGC</td>\n",
       "      <td>2423</td>\n",
       "      <td>3123</td>\n",
       "      <td>3.494572</td>\n",
       "      <td>3.384353</td>\n",
       "      <td>1.288898</td>\n",
       "    </tr>\n",
       "    <tr>\n",
       "      <th>...</th>\n",
       "      <td>...</td>\n",
       "      <td>...</td>\n",
       "      <td>...</td>\n",
       "      <td>...</td>\n",
       "      <td>...</td>\n",
       "      <td>...</td>\n",
       "    </tr>\n",
       "    <tr>\n",
       "      <th>40747</th>\n",
       "      <td>CGGCAAAAAGCACC</td>\n",
       "      <td>62</td>\n",
       "      <td>72</td>\n",
       "      <td>1.857332</td>\n",
       "      <td>1.792392</td>\n",
       "      <td>1.161290</td>\n",
       "    </tr>\n",
       "    <tr>\n",
       "      <th>35199</th>\n",
       "      <td>GGTAGGGCAGGGAT</td>\n",
       "      <td>62</td>\n",
       "      <td>78</td>\n",
       "      <td>1.892095</td>\n",
       "      <td>1.792392</td>\n",
       "      <td>1.258065</td>\n",
       "    </tr>\n",
       "    <tr>\n",
       "      <th>27747</th>\n",
       "      <td>GAGACTATAAAAAA</td>\n",
       "      <td>62</td>\n",
       "      <td>78</td>\n",
       "      <td>1.892095</td>\n",
       "      <td>1.792392</td>\n",
       "      <td>1.258065</td>\n",
       "    </tr>\n",
       "    <tr>\n",
       "      <th>42488</th>\n",
       "      <td>CAGATGGTAGTGCT</td>\n",
       "      <td>62</td>\n",
       "      <td>80</td>\n",
       "      <td>1.903090</td>\n",
       "      <td>1.792392</td>\n",
       "      <td>1.290323</td>\n",
       "    </tr>\n",
       "    <tr>\n",
       "      <th>28864</th>\n",
       "      <td>AGGACGGAAGGGGG</td>\n",
       "      <td>62</td>\n",
       "      <td>81</td>\n",
       "      <td>1.908485</td>\n",
       "      <td>1.792392</td>\n",
       "      <td>1.306452</td>\n",
       "    </tr>\n",
       "  </tbody>\n",
       "</table>\n",
       "<p>26862 rows × 6 columns</p>\n",
       "</div>"
      ],
      "text/plain": [
       "                   bc  umi_cnt  read_cnt  log10_read_cnt  log10_umi_cnt  \\\n",
       "3201   TGGATGAGAATTTT     3985      5289        3.723374       3.600428   \n",
       "2248   ACTAACGATTTAAT     3646      4697        3.671821       3.561817   \n",
       "5887   GACATAAATACCGT     2863      3716        3.570076       3.456821   \n",
       "2290   GCCGGTTCGAATGT     2862      3682        3.566084       3.456670   \n",
       "3943   TCCAGCATACGAGC     2423      3123        3.494572       3.384353   \n",
       "...               ...      ...       ...             ...            ...   \n",
       "40747  CGGCAAAAAGCACC       62        72        1.857332       1.792392   \n",
       "35199  GGTAGGGCAGGGAT       62        78        1.892095       1.792392   \n",
       "27747  GAGACTATAAAAAA       62        78        1.892095       1.792392   \n",
       "42488  CAGATGGTAGTGCT       62        80        1.903090       1.792392   \n",
       "28864  AGGACGGAAGGGGG       62        81        1.908485       1.792392   \n",
       "\n",
       "       dup_rate  \n",
       "3201   1.327227  \n",
       "2248   1.288261  \n",
       "5887   1.297939  \n",
       "2290   1.286513  \n",
       "3943   1.288898  \n",
       "...         ...  \n",
       "40747  1.161290  \n",
       "35199  1.258065  \n",
       "27747  1.258065  \n",
       "42488  1.290323  \n",
       "28864  1.306452  \n",
       "\n",
       "[26862 rows x 6 columns]"
      ]
     },
     "execution_count": 64,
     "metadata": {},
     "output_type": "execute_result"
    }
   ],
   "source": [
    "wl_df"
   ]
  },
  {
   "cell_type": "code",
   "execution_count": null,
   "id": "07d19158-3dd5-4869-90de-b0a8fd6c8366",
   "metadata": {},
   "outputs": [],
   "source": []
  },
  {
   "cell_type": "code",
   "execution_count": null,
   "id": "5719551f-285e-4000-ae4c-2b8a8a9c3999",
   "metadata": {},
   "outputs": [],
   "source": []
  },
  {
   "cell_type": "code",
   "execution_count": 29,
   "id": "1f0f94d4-16ff-4b4c-ae76-44647a4668ad",
   "metadata": {},
   "outputs": [
    {
     "name": "stdout",
     "output_type": "stream",
     "text": [
      "[40] [1.77747547]\n"
     ]
    }
   ],
   "source": [
    "print(peak_idx,x[1][:-1][peak_idx])"
   ]
  },
  {
   "cell_type": "code",
   "execution_count": 31,
   "id": "c6ff4438-457c-4af2-9f19-bc4096b8745d",
   "metadata": {},
   "outputs": [
    {
     "data": {
      "text/plain": [
       "1"
      ]
     },
     "execution_count": 31,
     "metadata": {},
     "output_type": "execute_result"
    }
   ],
   "source": [
    "len(peak_idx)"
   ]
  },
  {
   "cell_type": "code",
   "execution_count": 40,
   "id": "fbf0be24-8d51-484f-ba25-607f29830459",
   "metadata": {},
   "outputs": [
    {
     "name": "stdout",
     "output_type": "stream",
     "text": [
      "48 1.3423556799410061\n"
     ]
    }
   ],
   "source": [
    "print(peak_idx[-1],x[1][:-1][peak_idx[-1]])"
   ]
  },
  {
   "cell_type": "code",
   "execution_count": null,
   "id": "b860c296-5946-4768-96ff-bce643a157a0",
   "metadata": {},
   "outputs": [],
   "source": []
  },
  {
   "cell_type": "code",
   "execution_count": null,
   "id": "7f84f185-0490-48fd-86a0-4603312c1bbe",
   "metadata": {},
   "outputs": [],
   "source": []
  },
  {
   "cell_type": "code",
   "execution_count": null,
   "id": "2c69423a-63b9-40f8-a236-d975d899bb51",
   "metadata": {},
   "outputs": [],
   "source": []
  },
  {
   "cell_type": "code",
   "execution_count": null,
   "id": "3bb10970-ce92-4af7-a1dd-14237eeecbc3",
   "metadata": {},
   "outputs": [],
   "source": [
    "mean_hist=mean_hist[0]\n",
    "wl_df=agg_bcs[agg_bcs.log10_umi_cnt>=mean_hist].copy()"
   ]
  },
  {
   "cell_type": "code",
   "execution_count": null,
   "id": "4f4af235-b905-4751-9b11-fb76a9469f7b",
   "metadata": {},
   "outputs": [],
   "source": []
  },
  {
   "cell_type": "code",
   "execution_count": null,
   "id": "ae930a32-8415-4818-99f5-09252cf063ef",
   "metadata": {},
   "outputs": [],
   "source": []
  },
  {
   "cell_type": "code",
   "execution_count": null,
   "id": "a1f2f674-6804-4645-bead-58601f22db60",
   "metadata": {},
   "outputs": [],
   "source": [
    "adata=pd.read_table('Puck_230719_04.all_illumina.digital_expression.txt.gz',nrows=1,index_col=0)#,usecols=['CTTCCGATGTTCCC','TCCGATCTTCCCGA'])"
   ]
  },
  {
   "cell_type": "code",
   "execution_count": 4,
   "id": "3497b668-d683-4bd5-8e56-67f2263a83bd",
   "metadata": {},
   "outputs": [],
   "source": [
    "from scipy.sparse import csr_matrix"
   ]
  },
  {
   "cell_type": "code",
   "execution_count": 5,
   "id": "4c310a60-7bc2-4378-a7a9-686f06a785bd",
   "metadata": {},
   "outputs": [],
   "source": [
    "adata=adata.T"
   ]
  },
  {
   "cell_type": "code",
   "execution_count": 1,
   "id": "48fc52bb-3a23-40b3-a92f-37d67aa0b7a6",
   "metadata": {},
   "outputs": [
    {
     "ename": "NameError",
     "evalue": "name 'adata' is not defined",
     "output_type": "error",
     "traceback": [
      "\u001b[0;31m---------------------------------------------------------------------------\u001b[0m",
      "\u001b[0;31mNameError\u001b[0m                                 Traceback (most recent call last)",
      "\u001b[0;32m/tmp/ipykernel_10869/193884567.py\u001b[0m in \u001b[0;36m<module>\u001b[0;34m\u001b[0m\n\u001b[0;32m----> 1\u001b[0;31m \u001b[0madata\u001b[0m\u001b[0;34m.\u001b[0m\u001b[0mobs\u001b[0m\u001b[0;34m\u001b[0m\u001b[0;34m\u001b[0m\u001b[0m\n\u001b[0m",
      "\u001b[0;31mNameError\u001b[0m: name 'adata' is not defined"
     ]
    }
   ],
   "source": [
    "adata.obs"
   ]
  },
  {
   "cell_type": "code",
   "execution_count": 7,
   "id": "23585f38-6956-4562-a695-4383a1fb958f",
   "metadata": {},
   "outputs": [],
   "source": [
    "adata.X = csr_matrix(adata.X)"
   ]
  },
  {
   "cell_type": "code",
   "execution_count": 8,
   "id": "f18ade85-671f-4961-bc3c-770740a313fc",
   "metadata": {},
   "outputs": [],
   "source": [
    "sc.pp.filter_genes(adata, min_cells=10)\n",
    "sc.pp.filter_cells(adata, min_genes=5)\n",
    "sc.pp.calculate_qc_metrics(adata, percent_top=None, log1p=None, inplace=True)"
   ]
  },
  {
   "cell_type": "code",
   "execution_count": 11,
   "id": "0ece5846-e9a5-4159-985f-1ecaf4f446ab",
   "metadata": {},
   "outputs": [
    {
     "data": {
      "text/html": [
       "<div>\n",
       "<style scoped>\n",
       "    .dataframe tbody tr th:only-of-type {\n",
       "        vertical-align: middle;\n",
       "    }\n",
       "\n",
       "    .dataframe tbody tr th {\n",
       "        vertical-align: top;\n",
       "    }\n",
       "\n",
       "    .dataframe thead th {\n",
       "        text-align: right;\n",
       "    }\n",
       "</style>\n",
       "<table border=\"1\" class=\"dataframe\">\n",
       "  <thead>\n",
       "    <tr style=\"text-align: right;\">\n",
       "      <th></th>\n",
       "      <th>n_cells</th>\n",
       "      <th>n_cells_by_counts</th>\n",
       "      <th>mean_counts</th>\n",
       "      <th>pct_dropout_by_counts</th>\n",
       "      <th>total_counts</th>\n",
       "    </tr>\n",
       "  </thead>\n",
       "  <tbody>\n",
       "    <tr>\n",
       "      <th>0610009B22Rik</th>\n",
       "      <td>26</td>\n",
       "      <td>26</td>\n",
       "      <td>0.001557</td>\n",
       "      <td>99.850049</td>\n",
       "      <td>27.0</td>\n",
       "    </tr>\n",
       "    <tr>\n",
       "      <th>0610009E02Rik</th>\n",
       "      <td>52</td>\n",
       "      <td>52</td>\n",
       "      <td>0.003114</td>\n",
       "      <td>99.700098</td>\n",
       "      <td>54.0</td>\n",
       "    </tr>\n",
       "    <tr>\n",
       "      <th>0610010F05Rik</th>\n",
       "      <td>29</td>\n",
       "      <td>29</td>\n",
       "      <td>0.001903</td>\n",
       "      <td>99.832747</td>\n",
       "      <td>33.0</td>\n",
       "    </tr>\n",
       "    <tr>\n",
       "      <th>0610012G03Rik</th>\n",
       "      <td>63</td>\n",
       "      <td>63</td>\n",
       "      <td>0.003633</td>\n",
       "      <td>99.636657</td>\n",
       "      <td>63.0</td>\n",
       "    </tr>\n",
       "    <tr>\n",
       "      <th>1110004F10Rik</th>\n",
       "      <td>42</td>\n",
       "      <td>42</td>\n",
       "      <td>0.002422</td>\n",
       "      <td>99.757771</td>\n",
       "      <td>42.0</td>\n",
       "    </tr>\n",
       "    <tr>\n",
       "      <th>...</th>\n",
       "      <td>...</td>\n",
       "      <td>...</td>\n",
       "      <td>...</td>\n",
       "      <td>...</td>\n",
       "      <td>...</td>\n",
       "    </tr>\n",
       "    <tr>\n",
       "      <th>mt-Tl2</th>\n",
       "      <td>24</td>\n",
       "      <td>24</td>\n",
       "      <td>0.001384</td>\n",
       "      <td>99.861584</td>\n",
       "      <td>24.0</td>\n",
       "    </tr>\n",
       "    <tr>\n",
       "      <th>mt-Tm</th>\n",
       "      <td>34</td>\n",
       "      <td>34</td>\n",
       "      <td>0.002019</td>\n",
       "      <td>99.803910</td>\n",
       "      <td>35.0</td>\n",
       "    </tr>\n",
       "    <tr>\n",
       "      <th>mt-Tp</th>\n",
       "      <td>19</td>\n",
       "      <td>19</td>\n",
       "      <td>0.001153</td>\n",
       "      <td>99.890420</td>\n",
       "      <td>20.0</td>\n",
       "    </tr>\n",
       "    <tr>\n",
       "      <th>mt-Tq</th>\n",
       "      <td>12</td>\n",
       "      <td>12</td>\n",
       "      <td>0.000750</td>\n",
       "      <td>99.930792</td>\n",
       "      <td>13.0</td>\n",
       "    </tr>\n",
       "    <tr>\n",
       "      <th>mt-Tv</th>\n",
       "      <td>17</td>\n",
       "      <td>17</td>\n",
       "      <td>0.000980</td>\n",
       "      <td>99.901955</td>\n",
       "      <td>17.0</td>\n",
       "    </tr>\n",
       "  </tbody>\n",
       "</table>\n",
       "<p>9691 rows × 5 columns</p>\n",
       "</div>"
      ],
      "text/plain": [
       "               n_cells  n_cells_by_counts  mean_counts  pct_dropout_by_counts  \\\n",
       "0610009B22Rik       26                 26     0.001557              99.850049   \n",
       "0610009E02Rik       52                 52     0.003114              99.700098   \n",
       "0610010F05Rik       29                 29     0.001903              99.832747   \n",
       "0610012G03Rik       63                 63     0.003633              99.636657   \n",
       "1110004F10Rik       42                 42     0.002422              99.757771   \n",
       "...                ...                ...          ...                    ...   \n",
       "mt-Tl2              24                 24     0.001384              99.861584   \n",
       "mt-Tm               34                 34     0.002019              99.803910   \n",
       "mt-Tp               19                 19     0.001153              99.890420   \n",
       "mt-Tq               12                 12     0.000750              99.930792   \n",
       "mt-Tv               17                 17     0.000980              99.901955   \n",
       "\n",
       "               total_counts  \n",
       "0610009B22Rik          27.0  \n",
       "0610009E02Rik          54.0  \n",
       "0610010F05Rik          33.0  \n",
       "0610012G03Rik          63.0  \n",
       "1110004F10Rik          42.0  \n",
       "...                     ...  \n",
       "mt-Tl2                 24.0  \n",
       "mt-Tm                  35.0  \n",
       "mt-Tp                  20.0  \n",
       "mt-Tq                  13.0  \n",
       "mt-Tv                  17.0  \n",
       "\n",
       "[9691 rows x 5 columns]"
      ]
     },
     "execution_count": 11,
     "metadata": {},
     "output_type": "execute_result"
    }
   ],
   "source": [
    "adata.var"
   ]
  },
  {
   "cell_type": "code",
   "execution_count": 2,
   "id": "80bc7f44-e534-4519-9dc8-9e9eae0122a4",
   "metadata": {},
   "outputs": [],
   "source": [
    "#adata.write_h5ad('Puck_230719_32.all_illumina.h5ad',compression='gzip')"
   ]
  },
  {
   "cell_type": "code",
   "execution_count": null,
   "id": "c8733c82-4c22-44be-ace4-54aa66fb6061",
   "metadata": {},
   "outputs": [],
   "source": [
    "sns.histplot(np.log10(adata.obs.n_genes_by_counts))"
   ]
  },
  {
   "cell_type": "code",
   "execution_count": 218,
   "id": "9939927d-168c-4214-809c-b2af6b82d36d",
   "metadata": {},
   "outputs": [
    {
     "data": {
      "text/plain": [
       "'/n/data2/dfci/medonc/cwu/meb521/slideseq/reconstruct/c55_4/counts.h5ad'"
      ]
     },
     "execution_count": 218,
     "metadata": {},
     "output_type": "execute_result"
    }
   ],
   "source": [
    "f'{indir}/{sample}/counts.h5ad'"
   ]
  },
  {
   "cell_type": "code",
   "execution_count": 219,
   "id": "ce31103b-b748-4f01-8024-75b514b4443e",
   "metadata": {},
   "outputs": [
    {
     "data": {
      "text/plain": [
       "'/n/data2/dfci/medonc/cwu/meb521/slideseq/reconstruct/c55_4/'"
      ]
     },
     "execution_count": 219,
     "metadata": {},
     "output_type": "execute_result"
    }
   ],
   "source": [
    "'/n/data2/dfci/medonc/cwu/meb521/slideseq/reconstruct/c55_4/'"
   ]
  },
  {
   "cell_type": "code",
   "execution_count": 4,
   "id": "e405a0b9-83fe-4aa7-8427-6b8c7ae6788f",
   "metadata": {},
   "outputs": [],
   "source": [
    "adata=sc.read_h5ad(f'{indir}/{sample}/counts.h5ad')\n",
    "\n",
    "adata.obs # anchors\n",
    "adata.var # targets\n",
    "sns.histplot(np.log10(adata.var.n_cells_by_counts))\n",
    "sns.histplot(np.log10(adata.obs.n_genes_by_counts))\n",
    "sns.histplot(np.log10(adata.obs.n_counts))"
   ]
  },
  {
   "cell_type": "code",
   "execution_count": null,
   "id": "c783a4d7-ee96-42cc-b29a-ebb9d67f13d0",
   "metadata": {},
   "outputs": [],
   "source": [
    "all_illumina=pd.read_table('Puck_230719_32.all_illumina.digital_expression.txt.gz')"
   ]
  },
  {
   "cell_type": "code",
   "execution_count": 3,
   "id": "38429306-e2ac-480c-b66b-0cea844dd9bc",
   "metadata": {},
   "outputs": [],
   "source": [
    "def UP_edit_pass(read_seq,max_dist):\n",
    "    edit=edlib.align(read_seq[8:26],UP_seq,'HW','path',max_dist,ad_seq)\n",
    "    boolean_pass = edit['editDistance']>=0 and edit['editDistance']<=max_dist\n",
    "    return(boolean_pass)"
   ]
  },
  {
   "cell_type": "code",
   "execution_count": 3,
   "id": "2e68aeb1-1640-4014-9aca-1e9933c602ef",
   "metadata": {},
   "outputs": [],
   "source": [
    "recon_dir = '/n/data2/dfci/medonc/cwu/meb521/slideseq/reconstruct'\n",
    "files=os.listdir(recon_dir)"
   ]
  },
  {
   "cell_type": "code",
   "execution_count": 4,
   "id": "64f1b7ca-48fe-40ca-869c-e779fd05c7e4",
   "metadata": {},
   "outputs": [],
   "source": [
    "recon_dir = '/n/data2/dfci/medonc/cwu/meb521/slideseq/reconstruct/slideseq_pipeline_out/Puck_230719_04/'\n",
    "files=os.listdir(recon_dir)"
   ]
  },
  {
   "cell_type": "code",
   "execution_count": 4,
   "id": "d29f3f04-7ece-4a06-9819-30e7ab786c36",
   "metadata": {},
   "outputs": [],
   "source": [
    "series_head='c55'\n",
    "puck_id='Puck_230719_04'\n",
    "series_n=str(int(puck_id.split('_')[-1]))\n",
    "puck_series=f'{series_head}_{series_n}'"
   ]
  },
  {
   "cell_type": "code",
   "execution_count": 45,
   "id": "93ed75e8-fd76-4fa8-ad7c-388dba27fd03",
   "metadata": {},
   "outputs": [],
   "source": [
    "#pd.read_table(f'{recon_dir}/slideseq_pipeline_out/{puck_id}/BeadBarcodes.txt')"
   ]
  },
  {
   "cell_type": "code",
   "execution_count": 83,
   "id": "89227054-adb6-4afe-905f-75e8cba56636",
   "metadata": {},
   "outputs": [],
   "source": [
    "with open(f'{recon_dir}/slideseq_pipeline_out/{puck_id}/BeadBarcodes.txt') as fh:\n",
    "    raw_bcs = [\"\".join(line.strip().split(\",\")) for line in fh]"
   ]
  },
  {
   "cell_type": "code",
   "execution_count": 91,
   "id": "e13f3197-a692-4239-a469-9d6431aa4bea",
   "metadata": {},
   "outputs": [],
   "source": [
    "with open(f'{recon_dir}/slideseq_pipeline_out/{puck_id}/BeadLocations.txt') as fh:\n",
    "    x = np.array([float(v) for v in fh.readline().strip().split(\",\")])\n",
    "    y = np.array([float(v) for v in fh.readline().strip().split(\",\")])\n",
    "    xy = np.vstack((x, y)).T"
   ]
  },
  {
   "cell_type": "code",
   "execution_count": 108,
   "id": "c6944e56-9c4d-4a84-98aa-6161e3417dd4",
   "metadata": {},
   "outputs": [],
   "source": [
    "bc_loc=pd.DataFrame(raw_bcs)"
   ]
  },
  {
   "cell_type": "code",
   "execution_count": 110,
   "id": "a200f623-0c18-4ea7-933c-4f88232eb7f8",
   "metadata": {},
   "outputs": [],
   "source": [
    "bc_loc['x']=x\n",
    "bc_loc['y']=y"
   ]
  },
  {
   "cell_type": "code",
   "execution_count": 113,
   "id": "06326caa-d49e-4707-8a74-b1ce6e8fab21",
   "metadata": {},
   "outputs": [],
   "source": [
    "bc_loc=bc_loc.set_index(0)"
   ]
  },
  {
   "cell_type": "code",
   "execution_count": 114,
   "id": "33f2d867-a7bb-48d5-baee-2104c1aa072d",
   "metadata": {},
   "outputs": [],
   "source": [
    "ok_barcodes = [not set(bc).issubset({'T', 'N'}) for bc in raw_bcs]"
   ]
  },
  {
   "cell_type": "code",
   "execution_count": 117,
   "id": "ab5c7b9c-34a3-4e02-8ed6-cf826500b56d",
   "metadata": {},
   "outputs": [],
   "source": [
    "bc_loc=bc_loc.iloc[ok_barcodes]"
   ]
  },
  {
   "cell_type": "code",
   "execution_count": 118,
   "id": "b050afd9-49f7-413a-b4f2-1aa1e9486dca",
   "metadata": {},
   "outputs": [],
   "source": [
    "#bcs = [bc for ok, bc in zip(ok_barcodes, raw_bcs) if ok]"
   ]
  },
  {
   "cell_type": "code",
   "execution_count": 5,
   "id": "d2197fdc-9f41-4b5b-895e-e2d8d85c9b53",
   "metadata": {},
   "outputs": [],
   "source": [
    "targets = pd.read_csv(f'{recon_dir}/{puck_series}/{puck_series}_targets_wl.csv.gz')['bc'].tolist()"
   ]
  },
  {
   "cell_type": "code",
   "execution_count": 6,
   "id": "2f61a697-e52b-4213-a223-c6388fce6035",
   "metadata": {},
   "outputs": [],
   "source": [
    "anchors=pd.read_csv(f'{recon_dir}/{puck_series}/{puck_series}_anchors_wl.csv.gz')['bc'].tolist()"
   ]
  },
  {
   "cell_type": "markdown",
   "id": "2e6e02e2-28fd-413f-a968-92f9ad7a5d32",
   "metadata": {},
   "source": [
    "# compare raw illumina and anchors"
   ]
  },
  {
   "cell_type": "code",
   "execution_count": 10,
   "id": "4b743d77-848f-496b-aedc-a83e794683fd",
   "metadata": {},
   "outputs": [],
   "source": [
    "adata=sc.read('Puck_230719_04.all_illumina.h5ad')"
   ]
  },
  {
   "cell_type": "code",
   "execution_count": 16,
   "id": "c95fbef8-940e-43f6-9516-ca13d22ab1e7",
   "metadata": {},
   "outputs": [],
   "source": [
    "sc.pp.calculate_qc_metrics(adata, percent_top=None, log1p=None, inplace=True)"
   ]
  },
  {
   "cell_type": "code",
   "execution_count": null,
   "id": "ffb12bcd-dbb6-43ab-97cf-de6e8beb945a",
   "metadata": {},
   "outputs": [],
   "source": []
  },
  {
   "cell_type": "code",
   "execution_count": 12,
   "id": "659a1079-70cb-4c91-8f33-b3426c4a0ef1",
   "metadata": {},
   "outputs": [
    {
     "data": {
      "text/plain": [
       "Index(['TTTTTTTTTTTTTT', 'CTTCCGATGTTCCC', 'AAAAAAAAAAAAAA', 'TCCGATCTTCCCGA',\n",
       "       'TCTTCCGACGTTCC', 'TTAATCGATGTCAG', 'GAAAAAAAAAAAAA', 'CAAAAAAAAAAAAA',\n",
       "       'CTTCCGATAAAAAA', 'TAAAAAAAAAAAAA',\n",
       "       ...\n",
       "       'GTAGCTTGGATAAT', 'AAGCCCCGTCGACG', 'CTTACTCCCGTAGG', 'ACGGCATCTTACAC',\n",
       "       'GACGGCTGGCCATG', 'CTTTCATGAGTAGT', 'AGACTCCTAACGGA', 'TCTTCCCACCTCAG',\n",
       "       'GGACCTCGACAATC', 'GCAGGTGATTTCGG'],\n",
       "      dtype='object', length=250852)"
      ]
     },
     "execution_count": 12,
     "metadata": {},
     "output_type": "execute_result"
    }
   ],
   "source": [
    "adata.obs.index"
   ]
  },
  {
   "cell_type": "code",
   "execution_count": 13,
   "id": "aa1da46f-ec41-4d08-8a98-e64fa7c0da42",
   "metadata": {},
   "outputs": [],
   "source": [
    "col_tar=list(set(adata.obs.index) & set(targets))"
   ]
  },
  {
   "cell_type": "code",
   "execution_count": 14,
   "id": "8e37da21-1fe8-4e20-8819-1a274a38c4f5",
   "metadata": {},
   "outputs": [],
   "source": [
    "col_anc=list(set(adata.obs.index) & set(anchors))"
   ]
  },
  {
   "cell_type": "code",
   "execution_count": 15,
   "id": "a6c918ad-0931-467f-b978-675734aef4b8",
   "metadata": {},
   "outputs": [
    {
     "data": {
      "text/plain": [
       "(4701, 15796)"
      ]
     },
     "execution_count": 15,
     "metadata": {},
     "output_type": "execute_result"
    }
   ],
   "source": [
    "len(col_tar),len(col_anc)"
   ]
  },
  {
   "cell_type": "code",
   "execution_count": 18,
   "id": "fb412421-e8f4-40a9-81e9-fc17ca12eaaf",
   "metadata": {},
   "outputs": [
    {
     "data": {
      "text/html": [
       "<div>\n",
       "<style scoped>\n",
       "    .dataframe tbody tr th:only-of-type {\n",
       "        vertical-align: middle;\n",
       "    }\n",
       "\n",
       "    .dataframe tbody tr th {\n",
       "        vertical-align: top;\n",
       "    }\n",
       "\n",
       "    .dataframe thead th {\n",
       "        text-align: right;\n",
       "    }\n",
       "</style>\n",
       "<table border=\"1\" class=\"dataframe\">\n",
       "  <thead>\n",
       "    <tr style=\"text-align: right;\">\n",
       "      <th></th>\n",
       "      <th>n_genes_by_counts</th>\n",
       "      <th>total_counts</th>\n",
       "    </tr>\n",
       "  </thead>\n",
       "  <tbody>\n",
       "    <tr>\n",
       "      <th>CATTCGTTCCTGAA</th>\n",
       "      <td>68</td>\n",
       "      <td>90.0</td>\n",
       "    </tr>\n",
       "    <tr>\n",
       "      <th>CCGGCTCGGAAATT</th>\n",
       "      <td>71</td>\n",
       "      <td>88.0</td>\n",
       "    </tr>\n",
       "    <tr>\n",
       "      <th>CGCAATGACCTACT</th>\n",
       "      <td>61</td>\n",
       "      <td>83.0</td>\n",
       "    </tr>\n",
       "    <tr>\n",
       "      <th>TGGATTCCGCTGCA</th>\n",
       "      <td>56</td>\n",
       "      <td>79.0</td>\n",
       "    </tr>\n",
       "    <tr>\n",
       "      <th>CAGACGATGGAGGC</th>\n",
       "      <td>57</td>\n",
       "      <td>74.0</td>\n",
       "    </tr>\n",
       "    <tr>\n",
       "      <th>...</th>\n",
       "      <td>...</td>\n",
       "      <td>...</td>\n",
       "    </tr>\n",
       "    <tr>\n",
       "      <th>AGATCGATGTCTCA</th>\n",
       "      <td>10</td>\n",
       "      <td>10.0</td>\n",
       "    </tr>\n",
       "    <tr>\n",
       "      <th>GGATGTGTGTAAAT</th>\n",
       "      <td>7</td>\n",
       "      <td>10.0</td>\n",
       "    </tr>\n",
       "    <tr>\n",
       "      <th>GTCGACAAACCACA</th>\n",
       "      <td>9</td>\n",
       "      <td>10.0</td>\n",
       "    </tr>\n",
       "    <tr>\n",
       "      <th>TACCCTCCAATAGG</th>\n",
       "      <td>9</td>\n",
       "      <td>10.0</td>\n",
       "    </tr>\n",
       "    <tr>\n",
       "      <th>GGACCTCGACAATC</th>\n",
       "      <td>10</td>\n",
       "      <td>10.0</td>\n",
       "    </tr>\n",
       "  </tbody>\n",
       "</table>\n",
       "<p>4701 rows × 2 columns</p>\n",
       "</div>"
      ],
      "text/plain": [
       "                n_genes_by_counts  total_counts\n",
       "CATTCGTTCCTGAA                 68          90.0\n",
       "CCGGCTCGGAAATT                 71          88.0\n",
       "CGCAATGACCTACT                 61          83.0\n",
       "TGGATTCCGCTGCA                 56          79.0\n",
       "CAGACGATGGAGGC                 57          74.0\n",
       "...                           ...           ...\n",
       "AGATCGATGTCTCA                 10          10.0\n",
       "GGATGTGTGTAAAT                  7          10.0\n",
       "GTCGACAAACCACA                  9          10.0\n",
       "TACCCTCCAATAGG                  9          10.0\n",
       "GGACCTCGACAATC                 10          10.0\n",
       "\n",
       "[4701 rows x 2 columns]"
      ]
     },
     "execution_count": 18,
     "metadata": {},
     "output_type": "execute_result"
    }
   ],
   "source": [
    "adata.obs[adata.obs.index.isin(col_tar)]"
   ]
  },
  {
   "cell_type": "code",
   "execution_count": 20,
   "id": "002b0f93-a798-4d94-8952-cc1993554650",
   "metadata": {},
   "outputs": [
    {
     "data": {
      "text/plain": [
       "<AxesSubplot:xlabel='n_genes_by_counts', ylabel='Count'>"
      ]
     },
     "execution_count": 20,
     "metadata": {},
     "output_type": "execute_result"
    },
    {
     "data": {
      "image/png": "[encoded data removed]",
      "text/plain": [
       "<Figure size 640x480 with 1 Axes>"
      ]
     },
     "metadata": {},
     "output_type": "display_data"
    }
   ],
   "source": [
    "sns.histplot(np.log10(adata.obs[adata.obs.index.isin(col_tar)].n_genes_by_counts))"
   ]
  },
  {
   "cell_type": "code",
   "execution_count": 21,
   "id": "010525ba-d497-4dfa-be16-5fc902a29cb8",
   "metadata": {},
   "outputs": [
    {
     "data": {
      "text/plain": [
       "<AxesSubplot:xlabel='n_genes_by_counts', ylabel='Count'>"
      ]
     },
     "execution_count": 21,
     "metadata": {},
     "output_type": "execute_result"
    },
    {
     "data": {
      "image/png": "[encoded data removed]",
      "text/plain": [
       "<Figure size 640x480 with 1 Axes>"
      ]
     },
     "metadata": {},
     "output_type": "display_data"
    }
   ],
   "source": [
    "sns.histplot(np.log10(adata.obs[adata.obs.index.isin(col_anc)].n_genes_by_counts))"
   ]
  },
  {
   "cell_type": "code",
   "execution_count": null,
   "id": "aa1ac24c-b72a-44f2-825f-2f2c1501cff0",
   "metadata": {},
   "outputs": [],
   "source": []
  },
  {
   "cell_type": "code",
   "execution_count": null,
   "id": "b088c0d5-f72a-4afd-bf40-a654b9d285ee",
   "metadata": {},
   "outputs": [],
   "source": []
  },
  {
   "cell_type": "code",
   "execution_count": 12,
   "id": "754a0033-c277-42ed-b6e6-48bf6d8ed821",
   "metadata": {},
   "outputs": [],
   "source": [
    "shared=list(set(col_anc) | set(col_tar))"
   ]
  },
  {
   "cell_type": "code",
   "execution_count": 13,
   "id": "f8a754e7-9d1d-48cd-b847-25ff57f80dd0",
   "metadata": {},
   "outputs": [],
   "source": [
    "shared=['GENE']+shared"
   ]
  },
  {
   "cell_type": "code",
   "execution_count": 48,
   "id": "f80056e4-77b4-4dfc-b2cf-23f66f52eb11",
   "metadata": {},
   "outputs": [
    {
     "data": {
      "text/plain": [
       "(20547, 26209)"
      ]
     },
     "execution_count": 48,
     "metadata": {},
     "output_type": "execute_result"
    }
   ],
   "source": [
    "len(targets),len(anchors)"
   ]
  },
  {
   "cell_type": "code",
   "execution_count": 14,
   "id": "6c984a7d-8662-4e5c-a4f5-47c16162c934",
   "metadata": {},
   "outputs": [
    {
     "data": {
      "text/plain": [
       "(20547, 26209)"
      ]
     },
     "execution_count": 14,
     "metadata": {},
     "output_type": "execute_result"
    }
   ],
   "source": [
    "len(targets),len(anchors)"
   ]
  },
  {
   "cell_type": "code",
   "execution_count": 15,
   "id": "2dcc7658-f293-46aa-b0d7-7ae8ea6449dc",
   "metadata": {},
   "outputs": [
    {
     "data": {
      "text/plain": [
       "20496"
      ]
     },
     "execution_count": 15,
     "metadata": {},
     "output_type": "execute_result"
    }
   ],
   "source": [
    "len(shared)"
   ]
  },
  {
   "cell_type": "code",
   "execution_count": null,
   "id": "7491eeaa-546f-4dbd-8de3-e8792163c6d9",
   "metadata": {},
   "outputs": [],
   "source": []
  },
  {
   "cell_type": "code",
   "execution_count": 16,
   "id": "8bc74507-7bf1-4ea5-804e-bb27bacded7e",
   "metadata": {},
   "outputs": [],
   "source": [
    "adata=pd.read_table('Puck_230719_04.all_illumina.digital_expression.txt.gz',index_col=0,usecols=shared[:10])"
   ]
  },
  {
   "cell_type": "code",
   "execution_count": null,
   "id": "e6a8d3af-7b0a-46c7-b966-359c0fb6ae09",
   "metadata": {},
   "outputs": [],
   "source": []
  },
  {
   "cell_type": "code",
   "execution_count": 181,
   "id": "1d92d9f1-9121-4fd5-983f-733b31b3128d",
   "metadata": {},
   "outputs": [
    {
     "data": {
      "text/plain": [
       "3806"
      ]
     },
     "execution_count": 181,
     "metadata": {},
     "output_type": "execute_result"
    }
   ],
   "source": [
    "len(set(targets) & set(bc_loc.index))"
   ]
  },
  {
   "cell_type": "code",
   "execution_count": 182,
   "id": "7c1863cc-b233-4a4e-8739-b73f5df31133",
   "metadata": {},
   "outputs": [
    {
     "data": {
      "text/plain": [
       "1664"
      ]
     },
     "execution_count": 182,
     "metadata": {},
     "output_type": "execute_result"
    }
   ],
   "source": [
    "len(set(anchors) & set(bc_loc.index))"
   ]
  },
  {
   "cell_type": "code",
   "execution_count": 16,
   "id": "0c707ab0-fc50-4e93-b304-84993ace46e2",
   "metadata": {},
   "outputs": [
    {
     "data": {
      "text/plain": [
       "14004"
      ]
     },
     "execution_count": 16,
     "metadata": {},
     "output_type": "execute_result"
    }
   ],
   "source": [
    "len(set(anchors) & set(adata.obs.index))"
   ]
  },
  {
   "cell_type": "code",
   "execution_count": 183,
   "id": "de9ccc6a-9651-4457-a6d1-995ca6f3c3da",
   "metadata": {},
   "outputs": [
    {
     "data": {
      "text/plain": [
       "(18420, 39763)"
      ]
     },
     "execution_count": 183,
     "metadata": {},
     "output_type": "execute_result"
    }
   ],
   "source": [
    "len(anchors),len(targets)"
   ]
  },
  {
   "cell_type": "code",
   "execution_count": 184,
   "id": "2df49b40-099e-474a-8f92-a5fa483a20ff",
   "metadata": {},
   "outputs": [
    {
     "data": {
      "text/plain": [
       "(2.2872596153846154, 2.158686210640608)"
      ]
     },
     "execution_count": 184,
     "metadata": {},
     "output_type": "execute_result"
    }
   ],
   "source": [
    "3806/1664,39763/18420"
   ]
  },
  {
   "cell_type": "code",
   "execution_count": 186,
   "id": "bcaedb4c-8df1-40b9-af81-4ecd58b4dfa1",
   "metadata": {},
   "outputs": [
    {
     "data": {
      "text/plain": [
       "39763"
      ]
     },
     "execution_count": 186,
     "metadata": {},
     "output_type": "execute_result"
    }
   ],
   "source": [
    "len(targets)"
   ]
  },
  {
   "cell_type": "code",
   "execution_count": 176,
   "id": "04529cd6-75cc-4e0e-8dd4-81fec1b7e1ec",
   "metadata": {},
   "outputs": [],
   "source": [
    "bcs_insitu=bc_loc.index.tolist()"
   ]
  },
  {
   "cell_type": "code",
   "execution_count": 282,
   "id": "8fbf6c81-6047-40a3-9f5b-769bb1df4216",
   "metadata": {},
   "outputs": [],
   "source": [
    "splits=np.array_split(targets, 16)"
   ]
  },
  {
   "cell_type": "code",
   "execution_count": 283,
   "id": "7d30a274-7b49-49d2-8cd0-1defcc49f550",
   "metadata": {},
   "outputs": [
    {
     "data": {
      "text/plain": [
       "16"
      ]
     },
     "execution_count": 283,
     "metadata": {},
     "output_type": "execute_result"
    }
   ],
   "source": [
    "len(splits)"
   ]
  },
  {
   "cell_type": "code",
   "execution_count": 284,
   "id": "80d3ded9-c46d-4694-9124-2dcd881d28c4",
   "metadata": {},
   "outputs": [
    {
     "data": {
      "text/plain": [
       "array(['TGATGATCTTAGTT', 'ACCGGAGGTCCAAT', 'TATGCCGGGGTGGG', ...,\n",
       "       'TAAGAGACCTTTGG', 'TTATCATATATAGG', 'AGTGAGAATTGTGA'], dtype='<U14')"
      ]
     },
     "execution_count": 284,
     "metadata": {},
     "output_type": "execute_result"
    }
   ],
   "source": [
    "splits[0]"
   ]
  },
  {
   "cell_type": "code",
   "execution_count": 197,
   "id": "8ec8c3ab-ffdb-4938-b78b-bfe90a418081",
   "metadata": {},
   "outputs": [
    {
     "data": {
      "text/plain": [
       "39763"
      ]
     },
     "execution_count": 197,
     "metadata": {},
     "output_type": "execute_result"
    }
   ],
   "source": [
    "len(targets)"
   ]
  },
  {
   "cell_type": "code",
   "execution_count": 199,
   "id": "9c700e89-6745-426d-9232-d9eaa69fd8bd",
   "metadata": {},
   "outputs": [
    {
     "data": {
      "text/plain": [
       "39763"
      ]
     },
     "execution_count": 199,
     "metadata": {},
     "output_type": "execute_result"
    }
   ],
   "source": [
    "7953+7953+7953+7952+7952"
   ]
  },
  {
   "cell_type": "code",
   "execution_count": 203,
   "id": "97860ed0-0cd3-40b8-b9ed-43d8bac447b3",
   "metadata": {},
   "outputs": [
    {
     "data": {
      "text/plain": [
       "8.283333333333333"
      ]
     },
     "execution_count": 203,
     "metadata": {},
     "output_type": "execute_result"
    }
   ],
   "source": [
    "2485/300"
   ]
  },
  {
   "cell_type": "code",
   "execution_count": 301,
   "id": "050b1fa4-5ddd-4d67-af17-47bacc1bcb0b",
   "metadata": {},
   "outputs": [
    {
     "name": "stderr",
     "output_type": "stream",
     "text": [
      "  0%|          | 138/39763 [00:27<2:10:22,  5.07it/s]\n"
     ]
    },
    {
     "ename": "KeyboardInterrupt",
     "evalue": "",
     "output_type": "error",
     "traceback": [
      "\u001b[0;31m---------------------------------------------------------------------------\u001b[0m",
      "\u001b[0;31mKeyboardInterrupt\u001b[0m                         Traceback (most recent call last)",
      "\u001b[0;32m/tmp/ipykernel_22789/200398767.py\u001b[0m in \u001b[0;36m<module>\u001b[0;34m\u001b[0m\n\u001b[1;32m      3\u001b[0m \u001b[0;32mfor\u001b[0m \u001b[0mbc_t\u001b[0m \u001b[0;32min\u001b[0m \u001b[0mtqdm\u001b[0m\u001b[0;34m(\u001b[0m\u001b[0mtargets\u001b[0m\u001b[0;34m)\u001b[0m\u001b[0;34m:\u001b[0m\u001b[0;34m\u001b[0m\u001b[0;34m\u001b[0m\u001b[0m\n\u001b[1;32m      4\u001b[0m     \u001b[0mbc_t_dict\u001b[0m\u001b[0;34m[\u001b[0m\u001b[0mbc_t\u001b[0m\u001b[0;34m]\u001b[0m\u001b[0;34m=\u001b[0m\u001b[0;34m[\u001b[0m\u001b[0;34m]\u001b[0m\u001b[0;34m\u001b[0m\u001b[0;34m\u001b[0m\u001b[0m\n\u001b[0;32m----> 5\u001b[0;31m     \u001b[0;32mfor\u001b[0m \u001b[0mbc\u001b[0m \u001b[0;32min\u001b[0m \u001b[0mbcs_insitu\u001b[0m\u001b[0;34m:\u001b[0m\u001b[0;34m\u001b[0m\u001b[0;34m\u001b[0m\u001b[0m\n\u001b[0m\u001b[1;32m      6\u001b[0m         \u001b[0medit\u001b[0m\u001b[0;34m=\u001b[0m\u001b[0medlib\u001b[0m\u001b[0;34m.\u001b[0m\u001b[0malign\u001b[0m\u001b[0;34m(\u001b[0m\u001b[0mbc\u001b[0m\u001b[0;34m,\u001b[0m\u001b[0mbc_t\u001b[0m\u001b[0;34m,\u001b[0m\u001b[0;34m'HW'\u001b[0m\u001b[0;34m,\u001b[0m\u001b[0;34m'path'\u001b[0m\u001b[0;34m,\u001b[0m\u001b[0mmax_dist\u001b[0m\u001b[0;34m)\u001b[0m\u001b[0;34m\u001b[0m\u001b[0;34m\u001b[0m\u001b[0m\n\u001b[1;32m      7\u001b[0m         \u001b[0mdist\u001b[0m\u001b[0;34m=\u001b[0m\u001b[0medit\u001b[0m\u001b[0;34m[\u001b[0m\u001b[0;34m'editDistance'\u001b[0m\u001b[0;34m]\u001b[0m\u001b[0;34m\u001b[0m\u001b[0;34m\u001b[0m\u001b[0m\n",
      "\u001b[0;31mKeyboardInterrupt\u001b[0m: "
     ]
    }
   ],
   "source": [
    "max_dist=2\n",
    "bc_t_dict={}\n",
    "for bc_t in tqdm(targets):\n",
    "    bc_t_dict[bc_t]=[]\n",
    "    for bc in bcs_insitu:\n",
    "        edit=edlib.align(bc,bc_t,'HW','path',max_dist) \n",
    "        dist=edit['editDistance']\n",
    "        boolean_pass = dist>=0 and dist<=max_dist\n",
    "        cigar=edit['cigar']\n",
    "        if boolean_pass and 'I' not in cigar and 'D' not in cigar:\n",
    "            bc_t_dict[bc_t].extend([bc,bc_loc.loc[bc].tolist(),dist,cigar,find_error_locs(cigar)])\n",
    "        "
   ]
  },
  {
   "cell_type": "code",
   "execution_count": 167,
   "id": "acb5daaa-ed27-4bcc-99b5-c69fa1170032",
   "metadata": {},
   "outputs": [],
   "source": [
    "matched=[]\n",
    "for bc_t in bc_t_dict:\n",
    "    \n",
    "    num_match=len(bc_t_dict[bc_t])\n",
    "    #print(num_match)\n",
    "    matched.append(num_match)\n"
   ]
  },
  {
   "cell_type": "code",
   "execution_count": 168,
   "id": "fd88bf76-815b-412b-9476-e0820ccadda4",
   "metadata": {},
   "outputs": [
    {
     "data": {
      "text/plain": [
       "34"
      ]
     },
     "execution_count": 168,
     "metadata": {},
     "output_type": "execute_result"
    }
   ],
   "source": [
    "len(matched)"
   ]
  },
  {
   "cell_type": "code",
   "execution_count": 169,
   "id": "e96e8857-8f91-43ae-9614-bebe199f940a",
   "metadata": {},
   "outputs": [
    {
     "data": {
      "text/plain": [
       "28"
      ]
     },
     "execution_count": 169,
     "metadata": {},
     "output_type": "execute_result"
    }
   ],
   "source": [
    "len([m for m in matched if m>0])"
   ]
  },
  {
   "cell_type": "code",
   "execution_count": 206,
   "id": "bfc7a3dd-1a25-4fa7-a9a5-669ce78112d9",
   "metadata": {},
   "outputs": [
    {
     "data": {
      "text/plain": [
       "array([ -8.6, -11.2])"
      ]
     },
     "execution_count": 206,
     "metadata": {},
     "output_type": "execute_result"
    }
   ],
   "source": [
    "np.array([899.5, 3579.1])-np.array([908.1, 3590.3])"
   ]
  },
  {
   "cell_type": "code",
   "execution_count": 207,
   "id": "4a54eea4-5a05-4913-9041-0506006c6614",
   "metadata": {},
   "outputs": [
    {
     "data": {
      "text/plain": [
       "14.120906486483081"
      ]
     },
     "execution_count": 207,
     "metadata": {},
     "output_type": "execute_result"
    }
   ],
   "source": [
    "(8.6**2+11.2**2)**.5"
   ]
  },
  {
   "cell_type": "code",
   "execution_count": 209,
   "id": "7da12f6b-1ac2-43f9-a187-8aae2ecd5a86",
   "metadata": {},
   "outputs": [],
   "source": [
    "import re"
   ]
  },
  {
   "cell_type": "code",
   "execution_count": 265,
   "id": "a02aecbf-07c3-4fb2-baae-1c3b52bcb831",
   "metadata": {},
   "outputs": [],
   "source": [
    "cigar_string='2=1X6=2X4='"
   ]
  },
  {
   "cell_type": "code",
   "execution_count": 294,
   "id": "c9c10087-b5f4-4cdd-abf8-4cd57ab5616d",
   "metadata": {},
   "outputs": [],
   "source": [
    "def find_error_locs(cigar_string):\n",
    "    errors=[]\n",
    "    position=1\n",
    "    for cigar in re.findall(r'(\\d+)([=X])', cigar_string):\n",
    "        ops.append( cigar )\n",
    "        length = int(cigar[0])\n",
    "        operation = cigar[1]\n",
    "        if operation == 'X':\n",
    "            for i in range(length):\n",
    "                error_pos=position+i\n",
    "                errors.append(error_pos)\n",
    "        position += length\n",
    "    return(errors)\n"
   ]
  },
  {
   "cell_type": "code",
   "execution_count": 296,
   "id": "6dc587ac-30aa-4074-b278-76c6bf7e5f5e",
   "metadata": {},
   "outputs": [
    {
     "data": {
      "text/plain": [
       "[3, 10, 11]"
      ]
     },
     "execution_count": 296,
     "metadata": {},
     "output_type": "execute_result"
    }
   ],
   "source": [
    "find_error_locs(cigar_string)"
   ]
  },
  {
   "cell_type": "code",
   "execution_count": null,
   "id": "c88d23ec-a5e5-4bd7-bd5d-fed1e4b4d7b9",
   "metadata": {},
   "outputs": [],
   "source": []
  },
  {
   "cell_type": "code",
   "execution_count": null,
   "id": "9ca71333-2b45-4a4f-9b00-a545f70da95f",
   "metadata": {},
   "outputs": [],
   "source": []
  },
  {
   "cell_type": "code",
   "execution_count": 267,
   "id": "ce2f1ba7-6ecc-4bd4-838f-3322fb6b88d5",
   "metadata": {},
   "outputs": [],
   "source": [
    "ops=pd.DataFrame(ops)"
   ]
  },
  {
   "cell_type": "code",
   "execution_count": 268,
   "id": "242592b9-e0ca-4c99-9147-4b6bf47246b2",
   "metadata": {},
   "outputs": [],
   "source": [
    "ops[0]=ops[0].astype(int)"
   ]
  },
  {
   "cell_type": "code",
   "execution_count": 269,
   "id": "7b6d8148-f70b-4e8d-930e-47ab360de451",
   "metadata": {},
   "outputs": [],
   "source": [
    "ops['pos']=ops[0].cumsum()"
   ]
  },
  {
   "cell_type": "code",
   "execution_count": 264,
   "id": "0294656a-cf3e-4633-b444-d590eee516ff",
   "metadata": {},
   "outputs": [
    {
     "data": {
      "text/html": [
       "<div>\n",
       "<style scoped>\n",
       "    .dataframe tbody tr th:only-of-type {\n",
       "        vertical-align: middle;\n",
       "    }\n",
       "\n",
       "    .dataframe tbody tr th {\n",
       "        vertical-align: top;\n",
       "    }\n",
       "\n",
       "    .dataframe thead th {\n",
       "        text-align: right;\n",
       "    }\n",
       "</style>\n",
       "<table border=\"1\" class=\"dataframe\">\n",
       "  <thead>\n",
       "    <tr style=\"text-align: right;\">\n",
       "      <th></th>\n",
       "      <th>0</th>\n",
       "      <th>1</th>\n",
       "      <th>pos</th>\n",
       "    </tr>\n",
       "  </thead>\n",
       "  <tbody>\n",
       "    <tr>\n",
       "      <th>0</th>\n",
       "      <td>2</td>\n",
       "      <td>=</td>\n",
       "      <td>2</td>\n",
       "    </tr>\n",
       "    <tr>\n",
       "      <th>1</th>\n",
       "      <td>1</td>\n",
       "      <td>X</td>\n",
       "      <td>3</td>\n",
       "    </tr>\n",
       "    <tr>\n",
       "      <th>2</th>\n",
       "      <td>6</td>\n",
       "      <td>=</td>\n",
       "      <td>9</td>\n",
       "    </tr>\n",
       "    <tr>\n",
       "      <th>3</th>\n",
       "      <td>1</td>\n",
       "      <td>X</td>\n",
       "      <td>10</td>\n",
       "    </tr>\n",
       "    <tr>\n",
       "      <th>4</th>\n",
       "      <td>4</td>\n",
       "      <td>=</td>\n",
       "      <td>14</td>\n",
       "    </tr>\n",
       "  </tbody>\n",
       "</table>\n",
       "</div>"
      ],
      "text/plain": [
       "   0  1  pos\n",
       "0  2  =    2\n",
       "1  1  X    3\n",
       "2  6  =    9\n",
       "3  1  X   10\n",
       "4  4  =   14"
      ]
     },
     "execution_count": 264,
     "metadata": {},
     "output_type": "execute_result"
    }
   ],
   "source": [
    "ops"
   ]
  },
  {
   "cell_type": "code",
   "execution_count": 272,
   "id": "d2bff8a3-ba55-419a-ac63-c641477d518a",
   "metadata": {},
   "outputs": [],
   "source": [
    "ops_X=ops[ops[1]=='X']"
   ]
  },
  {
   "cell_type": "code",
   "execution_count": 273,
   "id": "df9b46db-1d3e-473e-a3fc-89eb43ddd3b5",
   "metadata": {},
   "outputs": [
    {
     "data": {
      "text/html": [
       "<div>\n",
       "<style scoped>\n",
       "    .dataframe tbody tr th:only-of-type {\n",
       "        vertical-align: middle;\n",
       "    }\n",
       "\n",
       "    .dataframe tbody tr th {\n",
       "        vertical-align: top;\n",
       "    }\n",
       "\n",
       "    .dataframe thead th {\n",
       "        text-align: right;\n",
       "    }\n",
       "</style>\n",
       "<table border=\"1\" class=\"dataframe\">\n",
       "  <thead>\n",
       "    <tr style=\"text-align: right;\">\n",
       "      <th></th>\n",
       "      <th>0</th>\n",
       "      <th>1</th>\n",
       "      <th>pos</th>\n",
       "    </tr>\n",
       "  </thead>\n",
       "  <tbody>\n",
       "    <tr>\n",
       "      <th>1</th>\n",
       "      <td>1</td>\n",
       "      <td>X</td>\n",
       "      <td>3</td>\n",
       "    </tr>\n",
       "    <tr>\n",
       "      <th>3</th>\n",
       "      <td>2</td>\n",
       "      <td>X</td>\n",
       "      <td>11</td>\n",
       "    </tr>\n",
       "  </tbody>\n",
       "</table>\n",
       "</div>"
      ],
      "text/plain": [
       "   0  1  pos\n",
       "1  1  X    3\n",
       "3  2  X   11"
      ]
     },
     "execution_count": 273,
     "metadata": {},
     "output_type": "execute_result"
    }
   ],
   "source": [
    "ops_X."
   ]
  },
  {
   "cell_type": "code",
   "execution_count": 274,
   "id": "ec28a483-9faf-48e5-af65-be1e12ad58f2",
   "metadata": {},
   "outputs": [
    {
     "data": {
      "text/plain": [
       "14"
      ]
     },
     "execution_count": 274,
     "metadata": {},
     "output_type": "execute_result"
    }
   ],
   "source": [
    "14"
   ]
  },
  {
   "cell_type": "code",
   "execution_count": null,
   "id": "0f357f79-b341-410c-b876-46645d636169",
   "metadata": {},
   "outputs": [],
   "source": []
  },
  {
   "cell_type": "code",
   "execution_count": 228,
   "id": "7bd9b133-74b5-4695-89db-b582a53b8126",
   "metadata": {},
   "outputs": [
    {
     "data": {
      "text/plain": [
       "('4', '=')"
      ]
     },
     "execution_count": 228,
     "metadata": {},
     "output_type": "execute_result"
    }
   ],
   "source": [
    "cigar"
   ]
  },
  {
   "cell_type": "code",
   "execution_count": null,
   "id": "5d551d40-6a6e-47a0-a0f7-4a678c1568a4",
   "metadata": {},
   "outputs": [],
   "source": []
  },
  {
   "cell_type": "code",
   "execution_count": 217,
   "id": "0583f508-8d43-4736-ad7a-ebc985ef15c8",
   "metadata": {},
   "outputs": [
    {
     "ename": "NameError",
     "evalue": "name 'query_sequence' is not defined",
     "output_type": "error",
     "traceback": [
      "\u001b[0;31m---------------------------------------------------------------------------\u001b[0m",
      "\u001b[0;31mNameError\u001b[0m                                 Traceback (most recent call last)",
      "\u001b[0;32m/tmp/ipykernel_22789/3048684178.py\u001b[0m in \u001b[0;36m<module>\u001b[0;34m\u001b[0m\n\u001b[1;32m      5\u001b[0m         \u001b[0;31m# Match or mismatch, check for errors in the query sequence\u001b[0m\u001b[0;34m\u001b[0m\u001b[0;34m\u001b[0m\u001b[0;34m\u001b[0m\u001b[0m\n\u001b[1;32m      6\u001b[0m         \u001b[0;32mfor\u001b[0m \u001b[0mi\u001b[0m \u001b[0;32min\u001b[0m \u001b[0mrange\u001b[0m\u001b[0;34m(\u001b[0m\u001b[0mlength\u001b[0m\u001b[0;34m)\u001b[0m\u001b[0;34m:\u001b[0m\u001b[0;34m\u001b[0m\u001b[0;34m\u001b[0m\u001b[0m\n\u001b[0;32m----> 7\u001b[0;31m             \u001b[0;32mif\u001b[0m \u001b[0mreference_sequence\u001b[0m\u001b[0;34m[\u001b[0m\u001b[0mposition\u001b[0m \u001b[0;34m+\u001b[0m \u001b[0mi\u001b[0m\u001b[0;34m]\u001b[0m \u001b[0;34m!=\u001b[0m \u001b[0mquery_sequence\u001b[0m\u001b[0;34m[\u001b[0m\u001b[0mposition\u001b[0m \u001b[0;34m+\u001b[0m \u001b[0mi\u001b[0m\u001b[0;34m]\u001b[0m\u001b[0;34m:\u001b[0m\u001b[0;34m\u001b[0m\u001b[0;34m\u001b[0m\u001b[0m\n\u001b[0m\u001b[1;32m      8\u001b[0m                 \u001b[0mprint\u001b[0m\u001b[0;34m(\u001b[0m\u001b[0;34mf\"Error at position {position + i}: {reference_sequence[position + i]} -> {query_sequence[position + i]}\"\u001b[0m\u001b[0;34m)\u001b[0m\u001b[0;34m\u001b[0m\u001b[0;34m\u001b[0m\u001b[0m\n",
      "\u001b[0;31mNameError\u001b[0m: name 'query_sequence' is not defined"
     ]
    }
   ],
   "source": [
    "    if operation in ('=', 'X'):\n",
    "        # Match or mismatch, check for errors in the query sequence\n",
    "        for i in range(length):\n",
    "            if reference_sequence[position + i] != query_sequence[position + i]:\n",
    "                print(f\"Error at position {position + i}: {reference_sequence[position + i]} -> {query_sequence[position + i]}\")"
   ]
  },
  {
   "cell_type": "code",
   "execution_count": null,
   "id": "b2d09960-b07b-42dd-8bb8-b3da34914b38",
   "metadata": {},
   "outputs": [],
   "source": []
  },
  {
   "cell_type": "code",
   "execution_count": 298,
   "id": "ee2e5ee4-2d70-4ad0-991c-e928e9ce6531",
   "metadata": {},
   "outputs": [
    {
     "data": {
      "text/plain": [
       "[2, 4]"
      ]
     },
     "execution_count": 298,
     "metadata": {},
     "output_type": "execute_result"
    }
   ],
   "source": [
    "find_error_locs('1=1X1=1X10=')"
   ]
  },
  {
   "cell_type": "code",
   "execution_count": 299,
   "id": "c895c17d-b053-49fd-a3c6-c034b61c71c5",
   "metadata": {},
   "outputs": [
    {
     "data": {
      "text/plain": [
       "[2, 10]"
      ]
     },
     "execution_count": 299,
     "metadata": {},
     "output_type": "execute_result"
    }
   ],
   "source": [
    "find_error_locs('1=1X7=1X4=')"
   ]
  },
  {
   "cell_type": "code",
   "execution_count": 300,
   "id": "d802ef78-a75e-416d-9edf-c4ee4b84776c",
   "metadata": {},
   "outputs": [
    {
     "data": {
      "text/plain": [
       "[1, 7]"
      ]
     },
     "execution_count": 300,
     "metadata": {},
     "output_type": "execute_result"
    }
   ],
   "source": [
    "find_error_locs('1X5=1X7=')"
   ]
  },
  {
   "cell_type": "code",
   "execution_count": null,
   "id": "7d598bdb-6f79-49c4-88fb-99c2fb38b9d6",
   "metadata": {},
   "outputs": [],
   "source": [
    "ATTGATTCGATTAG\n",
    "AATGATTCGGTTAG\n",
    "AATGATTCGCTTAG"
   ]
  },
  {
   "cell_type": "code",
   "execution_count": 302,
   "id": "f9939f04-36c9-4792-afd3-f3e1f6f2a263",
   "metadata": {},
   "outputs": [
    {
     "name": "stdout",
     "output_type": "stream",
     "text": [
      "----------TGATGATCTTAGTT---------\n",
      "[]\n",
      "----------ACCGGAGGTCCAAT---------\n",
      "['ACGGGAGGTGCAAT', [3921.6, 2384.2], 2, '2=1X6=1X4=', [3, 10]]\n",
      "----------TATGCCGGGGTGGG---------\n",
      "['TTTGCCGGCGTGGG', [564.93, 2861.4], 2, '1=1X6=1X5=', [2, 9]]\n",
      "----------TACGCACCCGTCTC---------\n",
      "['TTCGCACCCGTCTC', [899.5, 3579.1], 1, '1=1X12=', [2], 'TTCCCACCCGTCTC', [908.1, 3590.3], 2, '1=1X1=1X10=', [2, 4]]\n",
      "----------AGTAAACTCCGGAA---------\n",
      "[]\n",
      "----------CTGTACCGTCTTAT---------\n",
      "['CCGTACCGTGTTAT', [1705.9, 3761.0], 2, '1=1X7=1X4=', [2, 10]]\n",
      "----------ATTGATTCGATTAG---------\n",
      "['AATGATTCGGTTAG', [2727.1, 3385.2], 2, '1=1X7=1X4=', [2, 10], 'AATGATTCGCTTAG', [2726.3, 3391.6], 2, '1=1X7=1X4=', [2, 10]]\n",
      "----------CATGTATCGAACTT---------\n",
      "[]\n",
      "----------CAAGACGCAGAAGA---------\n",
      "['AAAGACCCAGAAGA', [1777.3, 2469.9], 2, '1X5=1X7=', [1, 7]]\n",
      "----------CGCTAGACTTACGG---------\n",
      "[]\n",
      "----------GATCCAACTTTGAT---------\n",
      "[]\n",
      "----------TCTCATCTAAATAC---------\n",
      "['TCTCATCTCAATAC', [2184.6, 3621.5], 1, '8=1X5=', [9], 'TCTAATCTAAATAC', [2189.6, 3617.7], 1, '3=1X10=', [4], 'TCAAATCTAAATAC', [764.89, 1425.6], 2, '2=2X10=', [3, 4]]\n",
      "----------ATTTGGTCCCCTTT---------\n",
      "['ACTTGGTGCCCTTT', [4084.0, 3843.2], 2, '1=1X5=1X6=', [2, 8], 'ATTTGGTCCCCTTT', [2254.4, 2742.6], 0, '14=', []]\n",
      "----------ATACCAATAATCAA---------\n",
      "['ATAACAATCATCAA', [1352.2, 3872.9], 2, '3=1X4=1X5=', [4, 9], 'ATAACAATAATCAA', [1352.6, 3872.6], 1, '3=1X10=', [4]]\n",
      "----------ACGTAAACTTATTG---------\n",
      "[]\n",
      "----------GTTTGTGCGATATT---------\n",
      "['GTTTGTGCGTTATT', [735.33, 3093.1], 1, '9=1X4=', [10], 'GTTAGTGAGATATT', [910.28, 2627.0], 2, '3=1X3=1X6=', [4, 8]]\n",
      "----------CATTCGTCCATGGG---------\n",
      "[]\n",
      "----------ATACGGACTCTTAC---------\n",
      "['ATACGGACTCTTAC', [4178.1, 2309.8], 0, '14=', []]\n",
      "----------GTCAATTCTCCACT---------\n",
      "[]\n",
      "----------ATCTGTGGAACAGA---------\n",
      "['ATCAGTGGAAAAGA', [1141.5, 2190.4], 2, '3=1X6=1X3=', [4, 11]]\n",
      "----------CATTCGTTAGAATC---------\n",
      "[]\n",
      "----------CGTAATTCTGTCTC---------\n",
      "[]\n",
      "----------AACAAATCGTCCAC---------\n",
      "['AAAAAATCGTTCAC', [2318.2, 2496.4], 2, '2=1X7=1X3=', [3, 11]]\n",
      "----------AGGTACGTCGTGTA---------\n",
      "[]\n",
      "----------ATAGCAAGCGGTCG---------\n",
      "['ATAGCAAGCCGTCG', [2669.8, 3853.1], 1, '9=1X4=', [10], 'ATAGCAAGCCCTCG', [2664.4, 3857.1], 2, '9=2X3=', [10, 11]]\n",
      "----------AGCAACGTTCAGCC---------\n",
      "[]\n",
      "----------CACAAGCTTTCAGA---------\n",
      "[]\n",
      "----------CAAACATGAGGCGG---------\n",
      "[]\n",
      "----------TATGACTCCCATCA---------\n",
      "['TAAAACTCCCATCA', [4179.2, 2969.7], 2, '2=2X10=', [3, 4]]\n",
      "----------CTGGAATAGAAATA---------\n",
      "['CTGAAATAGAAATA', [3635.4, 1226.8], 1, '3=1X10=', [4], 'CTAAAATAGAAATA', [3630.6, 1225.8], 2, '2=2X10=', [3, 4]]\n",
      "----------ACGAACTAGGTACT---------\n",
      "['AAGAACTAGGTACT', [3437.1, 1078.3], 1, '1=1X12=', [2], 'AAGAACTAAGTACT', [3438.9, 1071.6], 2, '1=1X6=1X5=', [2, 9]]\n",
      "----------AAAATTTATGAGCC---------\n",
      "[]\n",
      "----------AACATATTTGAAAC---------\n",
      "[]\n",
      "----------TACGCAGTACGAAC---------\n",
      "[]\n",
      "----------TTACAGAGGGATTG---------\n",
      "['TTAAAGAGGGATTG', [3976.4, 2547.0], 1, '3=1X10=', [4], 'TTAAAGAGCGATTG', [3972.0, 2540.4], 2, '3=1X4=1X5=', [4, 9], 'TTAAAGAGGGAATG', [3982.8, 2541.6], 2, '3=1X7=1X2=', [4, 12]]\n",
      "----------ATCCAAATGGAGAG---------\n",
      "[]\n",
      "----------CTAAGATTAAGGTC---------\n",
      "[]\n",
      "----------TCATACTGCAGTAC---------\n",
      "['TCTTACTGCAATAC', [1448.9, 3111.5], 2, '2=1X7=1X3=', [3, 11]]\n",
      "----------ACTACTACTATCAT---------\n",
      "['AATACTACTATCAT', [1299.3, 3116.9], 1, '1=1X12=', [2]]\n",
      "----------TTTTAGATGCCTCT---------\n",
      "['TTTTCGATGCTTCT', [2306.4, 4458.4], 2, '4=1X5=1X3=', [5, 11]]\n",
      "----------CAATAAGCATACGG---------\n",
      "['CAATAAGCATACGG', [1152.1, 3266.6], 0, '14=', []]\n",
      "----------GTTATATAGATTTC---------\n",
      "[]\n",
      "----------CTACATGCTCGGGG---------\n",
      "['CGACATGCTCGGGG', [2650.6, 2450.3], 1, '1=1X12=', [2]]\n",
      "----------TTATAGACACCTAG---------\n",
      "[]\n",
      "----------CTCAACATTTCCTC---------\n",
      "['CTCTACATTTCCTC', [3482.0, 3833.0], 1, '3=1X10=', [4]]\n",
      "----------TGATCTTTTGATTC---------\n",
      "[]\n",
      "----------TCACCTTAGGACTA---------\n",
      "['TTACCTTAGCACTA', [800.12, 3291.2], 2, '1=1X7=1X4=', [2, 10]]\n",
      "----------GTAGTGCCAAGGTC---------\n",
      "[]\n",
      "----------TTCAACCTTACCTC---------\n",
      "['TTTAACCTTAACTC', [2595.0, 4156.4], 2, '2=1X7=1X3=', [3, 11]]\n",
      "----------TTCTCATTTGCGCG---------\n",
      "['TTTTCATTTGCGGG', [3650.7, 2426.9], 2, '2=1X9=1X1=', [3, 13], 'TTCTCATTTCCCCG', [1217.9, 1450.7], 2, '9=1X1=1X2=', [10, 12]]\n",
      "----------CAAACGTTATTTCC---------\n",
      "['CACACGTTAATTCC', [1672.0, 885.35], 2, '2=1X6=1X4=', [3, 10], 'CCAACGTTAATTCC', [1667.8, 880.13], 2, '1=1X7=1X4=', [2, 10]]\n",
      "----------TTGTGAATAAAACA---------\n",
      "['GTGAGAATAAAACA', [923.81, 3318.1], 2, '1X2=1X10=', [1, 4]]\n",
      "----------TGAGATAAATGTAT---------\n",
      "[]\n",
      "----------GGCGAAGCTTCAAC---------\n",
      "[]\n",
      "----------TCCGTATTGACGGC---------\n",
      "['TCCGTATTGGCGGC', [4193.4, 1989.9], 1, '9=1X4=', [10]]\n",
      "----------ATTGATACGATTTG---------\n",
      "[]\n",
      "----------ATATCATTGTAACG---------\n",
      "['AAATCATTGTAACG', [4061.6, 2003.7], 1, '1=1X12=', [2]]\n",
      "----------CAATAGTTTGATTA---------\n",
      "['CAATGGTTTGGTTA', [1460.6, 910.78], 2, '4=1X5=1X3=', [5, 11]]\n",
      "----------TCTGTATGCTACTC---------\n",
      "[]\n",
      "----------ATTACGGCGCCAGA---------\n",
      "['AAAACGGCGCCAGA', [2347.4, 4314.8], 2, '1=2X11=', [2, 3]]\n",
      "----------GTAACGCCAGACAA---------\n",
      "['GGAACGCCAGAAAA', [2463.0, 3425.4], 2, '1=1X9=1X2=', [2, 12]]\n",
      "----------AATCATAGACGGAA---------\n",
      "[]\n",
      "----------TACTAAATAGGCAC---------\n",
      "[]\n",
      "----------CTCTTACGTCTACC---------\n",
      "['CTCTTTCGTTTACC', [724.63, 1980.5], 2, '5=1X3=1X4=', [6, 10], 'TTCTTACGTTTACC', [2795.8, 737.03], 2, '1X8=1X4=', [1, 10], 'CTCTTACGTTTACC', [724.67, 1981.1], 1, '9=1X4=', [10]]\n",
      "----------AGGTATCATAGTGC---------\n",
      "[]\n",
      "----------CTCCACGCATCGGT---------\n",
      "['CTTGACGCATCGGT', [2621.9, 2241.7], 2, '2=2X10=', [3, 4], 'CTTAACGCATCGGT', [2625.7, 2247.6], 2, '2=2X10=', [3, 4]]\n",
      "----------TTGATACTTGCTCT---------\n",
      "[]\n",
      "----------CTCTAGTCACGTTG---------\n",
      "[]\n",
      "----------GCTTAGAAACCCGC---------\n",
      "['GGTCAGAAACCCGC', [980.61, 2285.7], 2, '1=1X1=1X10=', [2, 4], 'GCTCAGAAACCCGC', [979.06, 2283.0], 1, '3=1X10=', [4], 'GCTAAGAAACCCGC', [979.43, 2277.9], 1, '3=1X10=', [4]]\n",
      "----------ATCTCTTAGTTACT---------\n",
      "['ATCTCTTAGTTACT', [962.15, 2814.4], 0, '14=', []]\n",
      "----------ACCACGTTCCCATT---------\n",
      "['AACACGTTCCCATT', [1021.5, 2713.5], 1, '1=1X12=', [2], 'AACACGTCCCCATT', [1015.8, 2715.7], 2, '1=1X5=1X6=', [2, 8]]\n",
      "----------AGTATAAATTAAAA---------\n",
      "['AGTATAAATTAAAA', [1312.6, 3921.0], 0, '14=', []]\n",
      "----------TAACAAGCCGATTG---------\n",
      "[]\n",
      "----------AGAACTTACCTCTG---------\n",
      "[]\n",
      "----------CGGCCCGTTCATGA---------\n",
      "['CCGCCCGTTCAAGA', [1566.9, 1466.6], 2, '1=1X9=1X2=', [2, 12]]\n",
      "----------CGTTTACATCCACA---------\n",
      "[]\n",
      "----------ATCACTGCAGTGCA---------\n",
      "[]\n",
      "----------CTTTAACAGACTGT---------\n",
      "['CTTTAATAGGCTGT', [4073.2, 1494.6], 2, '6=1X2=1X4=', [7, 10]]\n",
      "----------TTAACATATCGAGG---------\n",
      "['TTAACATATCGGGG', [1024.3, 3471.1], 1, '11=1X2=', [12]]\n",
      "----------CTAAGATTACGCAT---------\n",
      "['GTAAGATTAAGCAT', [952.09, 3218.4], 2, '1X8=1X4=', [1, 10]]\n",
      "----------TCAAAATTAGGAGT---------\n",
      "['TCAAAACTAGGGGT', [2738.0, 2884.2], 2, '6=1X4=1X2=', [7, 12], 'TGAAAATTAAGAGT', [1561.9, 4260.3], 2, '1=1X7=1X4=', [2, 10], 'TCAAAATTAAAAGT', [1552.2, 4267.1], 2, '9=2X3=', [10, 11]]\n",
      "----------GAACCCTAAAGGAC---------\n",
      "['AAACCCGAAAGGAC', [743.5, 2473.3], 2, '1X5=1X7=', [1, 7]]\n",
      "----------CTCCTCGCTTACGA---------\n",
      "['CTTCTCGCTTTCGA', [4222.1, 1414.3], 2, '2=1X7=1X3=', [3, 11]]\n",
      "----------GAGACGTCGCCGAT---------\n",
      "[]\n",
      "----------TAACACCTCGTAGG---------\n",
      "['TAAAACCTCATAGG', [2312.1, 825.36], 2, '3=1X5=1X4=', [4, 10]]\n",
      "----------TCTGCGTATGCAGA---------\n",
      "['TCTGCGTATGGAGA', [3910.5, 2238.7], 1, '10=1X3=', [11]]\n",
      "----------AATATTTAGGCAGA---------\n",
      "[]\n",
      "----------AACCCAGACTGTTA---------\n",
      "['AAACCAGACTGTTA', [4358.4, 2640.1], 1, '2=1X11=', [3], 'AAACCAGACTCTTA', [4353.2, 2644.0], 2, '2=1X7=1X3=', [3, 11]]\n",
      "----------AGGGCTGTACCGCT---------\n",
      "[]\n",
      "----------TGTTGTCTAGCTGG---------\n",
      "[]\n",
      "----------ACGATAACGTCCAT---------\n",
      "[]\n",
      "----------CAGTACTCCTATAC---------\n",
      "['CAATACTCCTATAC', [3910.7, 1458.7], 1, '2=1X11=', [3]]\n",
      "----------TCAAATTTATAACC---------\n",
      "[]\n",
      "----------AATGCTAGTTTGAC---------\n",
      "['AATTCTAGTTTGAC', [2990.9, 4347.6], 1, '3=1X10=', [4]]\n",
      "----------CTATCTTTGTTCAC---------\n",
      "['CTAGCTTTATTCAC', [4288.6, 3318.3], 2, '3=1X4=1X5=', [4, 9]]\n",
      "----------AAACAAATCACACC---------\n",
      "['AAAAAAATCAAACC', [2388.9, 2959.3], 2, '3=1X6=1X3=', [4, 11]]\n",
      "----------GTTAATCTGAGGAT---------\n",
      "['GTTAATGTGAGGAT', [2338.8, 2533.9], 1, '6=1X7=', [7], 'GGTAATGTGAGGAT', [2341.6, 2529.1], 2, '1=1X4=1X7=', [2, 7], 'GTAAATCTGAGGAT', [3587.8, 3443.8], 1, '2=1X11=', [3], 'GTAAATCTGAGCAT', [3584.5, 3446.2], 2, '2=1X8=1X2=', [3, 12]]\n",
      "----------TCCTGATTGGGTAA---------\n",
      "['TCGTGGTTGGGTAA', [955.61, 2303.4], 2, '2=1X2=1X8=', [3, 6]]\n",
      "----------GTGTCCTCTGGGAG---------\n",
      "[]\n",
      "----------CCGGACTTGCCTGA---------\n",
      "['CCGAACTTGCCTGA', [509.63, 2141.1], 1, '3=1X10=', [4], 'CCGGAGATGCCTGA', [1804.6, 728.18], 2, '5=2X7=', [6, 7]]\n",
      "----------CTACCTTAGTGGAC---------\n",
      "['CTACCTTAGTTGAC', [906.71, 3395.0], 1, '10=1X3=', [11]]\n",
      "----------TATTAGTTTTATGT---------\n",
      "[]\n",
      "----------GGAAGAAAACGGGA---------\n",
      "['GGGAGAAAGCGGGA', [842.67, 2079.9], 2, '2=1X5=1X5=', [3, 9]]\n",
      "----------AGTATTCAAGTAGA---------\n",
      "['AGTATTTATGTAGA', [996.76, 2033.8], 2, '6=1X1=1X5=', [7, 9], 'AGTATTTACGTAGA', [991.78, 2032.1], 2, '6=1X1=1X5=', [7, 9]]\n",
      "----------GGATGCCAATAATC---------\n",
      "['GGGTGCCAATAATC', [2611.5, 2283.6], 1, '2=1X11=', [3]]\n",
      "----------TTCGATTTTGCAAC---------\n",
      "['TTCGCTTTTGGAAC', [2746.1, 3642.3], 2, '4=1X5=1X3=', [5, 11], 'TTCGATTTTGGAAC', [2747.0, 3641.4], 1, '10=1X3=', [11]]\n",
      "----------GCGGCAAAATAACC---------\n",
      "['GCGACAAAAAAACC', [1319.7, 4207.7], 2, '3=1X5=1X4=', [4, 10]]\n",
      "----------ACAACCACGGGTGT---------\n",
      "['AAAACCACCGGTGT', [2678.3, 2334.3], 2, '1=1X6=1X5=', [2, 9], 'AAAACCACGAGTGT', [2687.3, 2335.7], 2, '1=1X7=1X4=', [2, 10]]\n",
      "----------ATTACAAGTTATAA---------\n",
      "['AATACAAGTTATAA', [2297.9, 625.28], 1, '1=1X12=', [2]]\n",
      "----------ACTATAAATAATGG---------\n",
      "[]\n",
      "----------GGAAATATAGGTTT---------\n",
      "[]\n",
      "----------TCCGTATCCACGTC---------\n",
      "['TCCGTGTCCAAGTC', [763.51, 1846.4], 2, '5=1X4=1X3=', [6, 11]]\n",
      "----------ACTTCCTTACGAGT---------\n",
      "[]\n",
      "----------GGATTATACATTAG---------\n",
      "['GGGGTATACATTAG', [2300.8, 3223.9], 2, '2=2X10=', [3, 4]]\n",
      "----------CACACATGCGCCAG---------\n",
      "[]\n",
      "----------TTCCATCTTTGTCG---------\n",
      "['TTCCATCTTTTTCG', [1985.9, 2321.7], 1, '10=1X3=', [11], 'TTCCATCTTTCTCG', [1981.2, 2323.5], 1, '10=1X3=', [11]]\n",
      "----------CGTGGGACAAGAAA---------\n",
      "['CGTGGGACGAGAAA', [2236.9, 1199.4], 1, '8=1X5=', [9]]\n",
      "----------TGCCTAAAGTTGGA---------\n",
      "[]\n",
      "----------GACCGACTTCAAAC---------\n",
      "[]\n",
      "----------ATTCAAGCAGGAGA---------\n",
      "[]\n",
      "----------CGCGGGTGAGAACT---------\n",
      "[]\n",
      "----------TCCTATTTAATGAG---------\n",
      "['TCCAAGTTAATGAG', [1179.6, 3536.8], 2, '3=1X1=1X8=', [4, 6]]\n",
      "----------TAAGAATTCCGTAA---------\n",
      "['TAACAATTCCGTAA', [4062.1, 1796.0], 1, '3=1X10=', [4], 'TAAAAATTCCGTAA', [4057.7, 1792.4], 1, '3=1X10=', [4], 'TAAGGATGCCGTAA', [2101.1, 2483.2], 2, '4=1X2=1X6=', [5, 8]]\n",
      "----------TAAAGGTCGGTAGT---------\n",
      "['TTACGGTCGGTAGT', [3414.1, 2641.7], 2, '1=1X1=1X10=', [2, 4], 'GAAAGGTCGGTAGT', [608.09, 2863.0], 1, '1X13=', [1]]\n",
      "----------TCCTACTTATTAAC---------\n",
      "['TCCTACTTATTAAC', [3253.6, 4524.8], 0, '14=', [], 'TCATACTTATTAAC', [3249.9, 4518.8], 1, '2=1X11=', [3]]\n",
      "----------AAAAAATTAGGAAG---------\n",
      "['AAAAAATTAAGAAG', [568.11, 2353.5], 1, '9=1X4=', [10], 'AAAAAATTAAAAAG', [572.32, 2355.5], 2, '9=2X3=', [10, 11]]\n",
      "----------CTACACCAACCCCC---------\n",
      "[]\n",
      "----------AAATCCTTTTGCGT---------\n",
      "['AAATCCTTTTGGGT', [4351.5, 3311.4], 1, '11=1X2=', [12], 'AAATCCTTTTGCGT', [3758.7, 1504.2], 0, '14=', []]\n",
      "----------TGTTACACTAATTG---------\n",
      "['TGTTAAATTAATTG', [1162.3, 3908.2], 2, '5=1X1=1X6=', [6, 8]]\n",
      "----------TCGGCCTTAGACGA---------\n",
      "[]\n",
      "----------TCTATCATCCATCA---------\n",
      "['TCTATCATCCATCA', [2907.7, 3771.1], 0, '14=', [], 'TCTCTCATCCAACA', [1809.6, 1973.8], 2, '3=1X7=1X2=', [4, 12]]\n",
      "----------ATGACTCCTTGGCG---------\n",
      "['ATGGCTCCTTGGCG', [865.33, 3331.6], 1, '3=1X10=', [4], 'ATGACTCCTTGGCG', [868.06, 3332.8], 0, '14=', []]\n",
      "----------TCTACATCACCAAT---------\n",
      "['TCTACATCAACAAT', [2429.4, 3177.6], 1, '9=1X4=', [10], 'TCCACATCAACAAT', [2432.4, 3181.7], 2, '2=1X6=1X4=', [3, 10]]\n",
      "----------ACGATGTAGGGAAC---------\n",
      "[]\n",
      "----------CTTTACTGTGTACC---------\n",
      "[]\n",
      "----------TCCATATATGATAC---------\n",
      "[]\n",
      "----------ACTTCGCGACGCGC---------\n",
      "[]\n",
      "----------TCCACCGCCTAGAT---------\n",
      "['TTCACCGCCTAGAT', [2143.8, 730.31], 1, '1=1X12=', [2], 'TTCAACGCCTAGAT', [2142.7, 732.91], 2, '1=1X2=1X9=', [2, 5]]\n",
      "----------TCTTAAGTAATACG---------\n",
      "['TCAAAAGTAATACG', [2838.6, 3735.0], 2, '2=2X10=', [3, 4]]\n"
     ]
    }
   ],
   "source": [
    "for bc_t in bc_t_dict:\n",
    "    print(f'----------{bc_t}---------')\n",
    "    print(bc_t_dict[bc_t])"
   ]
  },
  {
   "cell_type": "code",
   "execution_count": 126,
   "id": "021e7ed6-94c5-45b8-9c14-53d96f170be5",
   "metadata": {},
   "outputs": [
    {
     "name": "stdout",
     "output_type": "stream",
     "text": [
      "----------TGATGATCTTAGTT---------\n",
      "[]\n",
      "----------ACCGGAGGTCCAAT---------\n",
      "['ACGGGAGGTGCAAT', 2, [2727.1, 3385.2], '2=1X6=1X4=']\n",
      "----------TATGCCGGGGTGGG---------\n",
      "['TTTGCCGGCGTGGG', 2, [2727.1, 3385.2], '1=1X6=1X5=']\n",
      "----------TACGCACCCGTCTC---------\n",
      "['TTCGCACCCGTCTC', 1, [2727.1, 3385.2], '1=1X12=', 'TTCCCACCCGTCTC', 2, [2727.1, 3385.2], '1=1X1=1X10=']\n",
      "----------AGTAAACTCCGGAA---------\n",
      "[]\n",
      "----------CTGTACCGTCTTAT---------\n",
      "['CCGTACCGTGTTAT', 2, [2727.1, 3385.2], '1=1X7=1X4=']\n",
      "----------ATTGATTCGATTAG---------\n",
      "['AATGATTCGGTTAG', 2, [2727.1, 3385.2], '1=1X7=1X4=', 'AATGATTCGCTTAG', 2, [2727.1, 3385.2], '1=1X7=1X4=']\n",
      "----------CATGTATCGAACTT---------\n",
      "[]\n",
      "----------CAAGACGCAGAAGA---------\n",
      "['AAAGACCCAGAAGA', 2, [2727.1, 3385.2], '1X5=1X7=']\n",
      "----------CGCTAGACTTACGG---------\n",
      "[]\n"
     ]
    }
   ],
   "source": [
    "for bc_t in targets[:10]:\n",
    "    print(f'----------{bc_t}---------')\n",
    "    print(bc_t_dict[bc_t])"
   ]
  },
  {
   "cell_type": "code",
   "execution_count": null,
   "id": "c8a24c90-defa-4584-b729-f56cdecdaa93",
   "metadata": {},
   "outputs": [],
   "source": [
    "ATTGATTCGATTAG\n",
    "AATGATTCGGTTAG\n",
    "AATGATTCGCTTAG"
   ]
  },
  {
   "cell_type": "code",
   "execution_count": 123,
   "id": "d10f76f3-7ad6-4ba9-b6bb-7f7b131e266b",
   "metadata": {},
   "outputs": [
    {
     "data": {
      "text/plain": [
       "[2727.1, 3385.2]"
      ]
     },
     "execution_count": 123,
     "metadata": {},
     "output_type": "execute_result"
    }
   ],
   "source": [
    "bc_loc.loc['AATGATTCGGTTAG'].tolist()"
   ]
  },
  {
   "cell_type": "code",
   "execution_count": 122,
   "id": "f09bc6fe-2112-4df1-bb2b-4037bbe25e9a",
   "metadata": {},
   "outputs": [
    {
     "data": {
      "text/plain": [
       "x    2726.3\n",
       "y    3391.6\n",
       "Name: AATGATTCGCTTAG, dtype: float64"
      ]
     },
     "execution_count": 122,
     "metadata": {},
     "output_type": "execute_result"
    }
   ],
   "source": [
    "bc_loc.loc['AATGATTCGCTTAG']"
   ]
  },
  {
   "cell_type": "code",
   "execution_count": null,
   "id": "10edbbdc-ee4d-429b-98c5-c37bc5ae3f20",
   "metadata": {},
   "outputs": [],
   "source": []
  },
  {
   "cell_type": "code",
   "execution_count": null,
   "id": "bb289697-e1fb-489f-93b7-2a5b988bc1ab",
   "metadata": {},
   "outputs": [],
   "source": []
  },
  {
   "cell_type": "code",
   "execution_count": null,
   "id": "23950a61-2cd1-4448-b7a6-794a55a07b74",
   "metadata": {},
   "outputs": [],
   "source": []
  },
  {
   "cell_type": "code",
   "execution_count": null,
   "id": "66a720c3-2529-4740-8686-cbdf818c9fc1",
   "metadata": {},
   "outputs": [],
   "source": []
  },
  {
   "cell_type": "code",
   "execution_count": null,
   "id": "f8720286-7eae-4eab-8d2d-ecc5030fab08",
   "metadata": {},
   "outputs": [],
   "source": []
  },
  {
   "cell_type": "code",
   "execution_count": null,
   "id": "ae725924-c72b-44d5-8d39-b8e27d6b97ca",
   "metadata": {},
   "outputs": [],
   "source": []
  },
  {
   "cell_type": "code",
   "execution_count": null,
   "id": "0836b3f1-0cf9-43a4-aa44-96b47631f790",
   "metadata": {},
   "outputs": [],
   "source": []
  }
 ],
 "metadata": {
  "kernelspec": {
   "display_name": "Python 3 (ipykernel)",
   "language": "python",
   "name": "python3"
  },
  "language_info": {
   "codemirror_mode": {
    "name": "ipython",
    "version": 3
   },
   "file_extension": ".py",
   "mimetype": "text/x-python",
   "name": "python",
   "nbconvert_exporter": "python",
   "pygments_lexer": "ipython3",
   "version": "3.7.10"
  }
 },
 "nbformat": 4,
 "nbformat_minor": 5
}
