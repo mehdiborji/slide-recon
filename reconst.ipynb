{
 "cells": [
  {
   "cell_type": "markdown",
   "metadata": {},
   "source": [
    "# import packages"
   ]
  },
  {
   "cell_type": "code",
   "execution_count": 2,
   "metadata": {},
   "outputs": [],
   "source": [
    "import pysam\n",
    "import os\n",
    "import matplotlib.pyplot as plt\n",
    "import scanpy as sc\n",
    "from anndata import AnnData\n",
    "#from PIL import Image\n",
    "import seaborn as sns\n",
    "import numpy as np\n",
    "import pandas as pd\n",
    "import os\n",
    "from scipy.sparse import csr_matrix\n",
    "from tqdm import tqdm\n",
    "#import pickle5 as pkl\n",
    "pd.set_option('display.max_rows', 100)\n",
    "pd.set_option('display.max_columns', 50)\n",
    "pd.set_option('display.width', 1000)\n",
    "#from datetime import datetime\n",
    "import time\n",
    "#import pickle5 as pkl\n",
    "import edlib\n",
    "#import editdistance\n",
    "from functools import reduce\n",
    "import json\n",
    "from Bio.Seq import Seq\n",
    "ad_seq=[('N', 'A'), ('N', 'T'), ('N', 'G'), ('N', 'C')]\n",
    "slseq='TCTTCAGCGTTCCCGAGA'\n",
    "import subprocess\n",
    "from pathlib import Path\n",
    "\n",
    "def rev(seq):\n",
    "    return(str(Seq(seq).reverse_complement()))\n",
    "\n",
    "def sort_cnt(arr):\n",
    "    npcnt=np.array(np.unique(arr,return_counts=True)).T\n",
    "    dfcnt=pd.DataFrame(npcnt)\n",
    "    dfcnt[1]=dfcnt[1].astype('int')\n",
    "    dfcnt=dfcnt.sort_values(by=1,ascending=False)\n",
    "    return dfcnt\n",
    "\n",
    "def rounder(adata):\n",
    "    rad=1500/.73;pad=50;\n",
    "    rx=np.mean(adata.obs['x']);ry=np.mean(adata.obs['y'])\n",
    "    #adata.obs['x']=adata.obs['x']-rx;adata.obs['y']=adata.obs['y']-ry\n",
    "    #adata.obsm['spatial']=adata.obs[['x','y']].values\n",
    "    adata=adata[(adata.obs['x']-rx)**2+(adata.obs['y']-ry)**2<=rad**2].copy()\n",
    "\n",
    "    crop=[np.min(adata.obsm['spatial'][:,0])-pad,np.max(adata.obsm['spatial'][:,0])+pad,\\\n",
    "    np.max(adata.obsm['spatial'][:,1])+pad,np.min(adata.obsm['spatial'][:,1])-pad]\n",
    "    return adata,crop\n",
    "\n",
    "def marker_plot(adata,puck,markers,crop,t=0,nrow=10,ncol=5,wd=6,spot=50,alpha=.6,rembar=True,vmx='p99.2',alpha_img=.3):\n",
    "    fig, ax = plt.subplots(nrow, ncol, figsize=(ncol*wd,nrow*wd), gridspec_kw={'wspace':0.01})\n",
    "    axr=ax.ravel()\n",
    "    #sc.pl.spatial(adata, color='total_counts',vmax='p99.2',spot_size=40,frameon=False,\n",
    "    #                  crop_coord=crop,cmap='plasma',alpha=.6,ax=axr[0], show=False)\n",
    "    for i,gene in enumerate(markers):\n",
    "        #i=i+1\n",
    "        try:\n",
    "            #ad=adata[ (adata[:,gene].X>0)]\n",
    "            #if ad.shape[0]>10000:\n",
    "            #    t=0;print(ad.shape[0],gene,adata[ (adata[:,gene].X>t)].shape[0])\n",
    "            #else:\n",
    "            #    t=0;print(ad.shape[0],gene)\n",
    "            if vmx is not None:\n",
    "                \n",
    "                sc.pl.spatial(adata[ (adata[:,gene].X>t)], color=gene,vmax=vmx,\n",
    "                          spot_size=spot,ax=axr[i], show=False,frameon=False,#frameon=True,\n",
    "                              crop_coord=crop,\n",
    "                              #crop_coord=[300,5000,5100,400],\n",
    "                              #crop_coord=[500,4600,4800,400],\n",
    "                              cmap='plasma',alpha=alpha,alpha_img=alpha_img)\n",
    "            else:\n",
    "                sc.pl.spatial(adata[ (adata[:,gene].X>t)], color=gene,\n",
    "                          spot_size=spot,ax=axr[i], show=False,frameon=False,#frameon=True,\n",
    "                              crop_coord=crop,\n",
    "                              #crop_coord=[300,5000,5100,400],\n",
    "                              #crop_coord=[500,4600,4800,400],\n",
    "                              cmap='plasma',alpha=alpha,alpha_img=alpha_img)\n",
    "            #scalebar = ScaleBar(0.65,\"um\", length_fraction=1 / 3 / 2,frameon=False,label_loc=\"bottom\",label=None,location=\"lower right\")\n",
    "            #axr[i].add_artist(scalebar)\n",
    "            axr[i].set_title(f'{gene}', fontsize=20)#, fontweight='bold')#,f'{gene}\\n{puck}' fontwieght=\"medium\")\n",
    "            cbar = axr[i].collections[0].colorbar\n",
    "            if rembar:\n",
    "                cbar.remove()\n",
    "        except:\n",
    "            axr[i].remove()\n",
    "            #i=i-1\n",
    "    for j in np.arange(i+1,len(axr)):\n",
    "        axr[j].remove()\n",
    "\n",
    "def mtx_adata(slideseq,i,save=True):\n",
    "    folds=sorted(os.listdir(slideseq))\n",
    "    print(folds[i]);fold=folds[i];date = fold.split('_')[0];puck = fold.split(date+'_')[1]\n",
    "    folds=os.listdir(slideseq) #list subfolders in a head folder of samples, the mtx features barcodes and xy files all should in the same subfolder\n",
    "    adata = sc.read_mtx(f'{slideseq}/{fold}/{puck}.matched.digital_expression_matrix.mtx.gz')# load in counts matrix\n",
    "    adata = adata.T\n",
    "    adata.var = pd.read_table(f'{slideseq}/{fold}/{puck}.matched.digital_expression_features.tsv.gz', \n",
    "                              names=['ensembl','gene'], index_col=1)# load in gene names/ids table\n",
    "    barcode_xy = pd.read_table(f'{slideseq}/{fold}/{puck}_barcode_xy.txt.gz',names=['x','y'], index_col=0)# load in bead barcodes>location table\n",
    "    barcodes = pd.read_table(f'{slideseq}/{fold}/{puck}.matched.digital_expression_barcodes.tsv.gz', \n",
    "                             names=['barcode'], index_col=0)# load in bead barcodes list\n",
    "    adata.obs=barcodes.merge(barcode_xy,left_index=True,right_index=True)\n",
    "    adata.obsm['spatial']=adata.obs.values\n",
    "    sc.pp.calculate_qc_metrics(adata, percent_top=None, log1p=True,inplace=True)\n",
    "    if save:\n",
    "        adata.write_h5ad(f'{slideseq}/{fold}/adata_{puck}_raw.h5ad')\n",
    "    return adata"
   ]
  },
  {
   "cell_type": "code",
   "execution_count": null,
   "metadata": {},
   "outputs": [],
   "source": []
  },
  {
   "cell_type": "markdown",
   "metadata": {},
   "source": [
    "# test out pipeline functions"
   ]
  },
  {
   "cell_type": "code",
   "execution_count": 5,
   "metadata": {},
   "outputs": [],
   "source": [
    "def seq_slice(read_seq):\n",
    "    \n",
    "    bc = read_seq[:8]+read_seq[26:32]\n",
    "    umi = read_seq[33:41]\n",
    "    return(bc,umi)"
   ]
  },
  {
   "cell_type": "code",
   "execution_count": 6,
   "metadata": {},
   "outputs": [],
   "source": [
    "read_seq='TCTTCAGCGTTCCCGAGA'*3"
   ]
  },
  {
   "cell_type": "code",
   "execution_count": 7,
   "metadata": {},
   "outputs": [],
   "source": [
    "bc,umi=seq_slice(read_seq)"
   ]
  },
  {
   "cell_type": "code",
   "execution_count": 35,
   "metadata": {},
   "outputs": [],
   "source": [
    "indir='/n/scratch3/users/m/meb521/ont/recon'\n",
    "sample='c55_32'"
   ]
  },
  {
   "cell_type": "code",
   "execution_count": 22,
   "metadata": {},
   "outputs": [],
   "source": [
    "indir='/n/data2/dfci/medonc/cwu/meb521/slideseq/reconstruct'\n",
    "sample='c55_32'"
   ]
  },
  {
   "cell_type": "code",
   "execution_count": 9,
   "metadata": {},
   "outputs": [],
   "source": [
    "def find_sub_fastq_pairs(indir,sample):\n",
    "    \n",
    "    #parts=np.unique([f.split('.')[-3] for f in os.listdir(f'{indir}/{sample}/split/')])\n",
    "    #print(parts)\n",
    "\n",
    "    R1s=[f for f in os.listdir(f'{indir}/{sample}/split/') if '_R1_001.part' in f]\n",
    "    \n",
    "    R2s=[f.replace('_R1_','_R2_') for f in R1s]\n",
    "\n",
    "    pairs=[]\n",
    "\n",
    "    for i in range(len(R1s)): \n",
    "        pairs.append((f'{indir}/{sample}/split/{R1s[i]}',f'{indir}/{sample}/split/{R2s[i]}'))\n",
    "        \n",
    "    return pairs\n",
    "\n",
    "def outfile_from_in(infile,suffix):\n",
    "    split_root=os.path.dirname(infile)\n",
    "    split_part=os.path.basename(infile).split('.')[1]\n",
    "    outfile=f'{split_root}/{sample}.{split_part}_{suffix}.json'\n",
    "    return(split_root,split_part,outfile)\n",
    "\n",
    "UP_seq='TCTTCAGCGTTCCCGAGA'\n",
    "ad_seq=[('N', 'A'), ('N', 'T'), ('N', 'G'), ('N', 'C')]\n",
    "\n",
    "def quad_dict_store(quad_dict,quad_key,quad_items):\n",
    "    \n",
    "    if quad_dict.get(quad_key) is None:\n",
    "        quad_dict[quad_key] = [quad_items]\n",
    "    else:\n",
    "        quad_dict[quad_key].extend([quad_items])\n",
    "        \n",
    "def UP_edit_pass(read_seq,max_dist):\n",
    "    edit=edlib.align(read_seq[8:26],UP_seq,'HW','path',max_dist,ad_seq)\n",
    "    boolean_pass = edit['editDistance']>=0 and edit['editDistance']<=max_dist\n",
    "    return(boolean_pass)\n",
    "\n",
    "def seq_slice(read_seq):\n",
    "    bc = read_seq[:8]+read_seq[26:32]\n",
    "    umi = read_seq[33:41]\n",
    "    return(bc,umi)"
   ]
  },
  {
   "cell_type": "code",
   "execution_count": 10,
   "metadata": {},
   "outputs": [],
   "source": [
    "pairs=find_sub_fastq_pairs(indir,sample)"
   ]
  },
  {
   "cell_type": "code",
   "execution_count": 11,
   "metadata": {},
   "outputs": [
    {
     "data": {
      "text/plain": [
       "[('/n/data2/dfci/medonc/cwu/meb521/slideseq/reconstruct//c55_32/split/c55_32_R1_001.part_006.fastq',\n",
       "  '/n/data2/dfci/medonc/cwu/meb521/slideseq/reconstruct//c55_32/split/c55_32_R2_001.part_006.fastq'),\n",
       " ('/n/data2/dfci/medonc/cwu/meb521/slideseq/reconstruct//c55_32/split/c55_32_R1_001.part_012.fastq',\n",
       "  '/n/data2/dfci/medonc/cwu/meb521/slideseq/reconstruct//c55_32/split/c55_32_R2_001.part_012.fastq'),\n",
       " ('/n/data2/dfci/medonc/cwu/meb521/slideseq/reconstruct//c55_32/split/c55_32_R1_001.part_013.fastq',\n",
       "  '/n/data2/dfci/medonc/cwu/meb521/slideseq/reconstruct//c55_32/split/c55_32_R2_001.part_013.fastq'),\n",
       " ('/n/data2/dfci/medonc/cwu/meb521/slideseq/reconstruct//c55_32/split/c55_32_R1_001.part_015.fastq',\n",
       "  '/n/data2/dfci/medonc/cwu/meb521/slideseq/reconstruct//c55_32/split/c55_32_R2_001.part_015.fastq'),\n",
       " ('/n/data2/dfci/medonc/cwu/meb521/slideseq/reconstruct//c55_32/split/c55_32_R1_001.part_016.fastq',\n",
       "  '/n/data2/dfci/medonc/cwu/meb521/slideseq/reconstruct//c55_32/split/c55_32_R2_001.part_016.fastq'),\n",
       " ('/n/data2/dfci/medonc/cwu/meb521/slideseq/reconstruct//c55_32/split/c55_32_R1_001.part_007.fastq',\n",
       "  '/n/data2/dfci/medonc/cwu/meb521/slideseq/reconstruct//c55_32/split/c55_32_R2_001.part_007.fastq'),\n",
       " ('/n/data2/dfci/medonc/cwu/meb521/slideseq/reconstruct//c55_32/split/c55_32_R1_001.part_009.fastq',\n",
       "  '/n/data2/dfci/medonc/cwu/meb521/slideseq/reconstruct//c55_32/split/c55_32_R2_001.part_009.fastq'),\n",
       " ('/n/data2/dfci/medonc/cwu/meb521/slideseq/reconstruct//c55_32/split/c55_32_R1_001.part_004.fastq',\n",
       "  '/n/data2/dfci/medonc/cwu/meb521/slideseq/reconstruct//c55_32/split/c55_32_R2_001.part_004.fastq'),\n",
       " ('/n/data2/dfci/medonc/cwu/meb521/slideseq/reconstruct//c55_32/split/c55_32_R1_001.part_002.fastq',\n",
       "  '/n/data2/dfci/medonc/cwu/meb521/slideseq/reconstruct//c55_32/split/c55_32_R2_001.part_002.fastq'),\n",
       " ('/n/data2/dfci/medonc/cwu/meb521/slideseq/reconstruct//c55_32/split/c55_32_R1_001.part_011.fastq',\n",
       "  '/n/data2/dfci/medonc/cwu/meb521/slideseq/reconstruct//c55_32/split/c55_32_R2_001.part_011.fastq'),\n",
       " ('/n/data2/dfci/medonc/cwu/meb521/slideseq/reconstruct//c55_32/split/c55_32_R1_001.part_008.fastq',\n",
       "  '/n/data2/dfci/medonc/cwu/meb521/slideseq/reconstruct//c55_32/split/c55_32_R2_001.part_008.fastq'),\n",
       " ('/n/data2/dfci/medonc/cwu/meb521/slideseq/reconstruct//c55_32/split/c55_32_R1_001.part_005.fastq',\n",
       "  '/n/data2/dfci/medonc/cwu/meb521/slideseq/reconstruct//c55_32/split/c55_32_R2_001.part_005.fastq'),\n",
       " ('/n/data2/dfci/medonc/cwu/meb521/slideseq/reconstruct//c55_32/split/c55_32_R1_001.part_003.fastq',\n",
       "  '/n/data2/dfci/medonc/cwu/meb521/slideseq/reconstruct//c55_32/split/c55_32_R2_001.part_003.fastq'),\n",
       " ('/n/data2/dfci/medonc/cwu/meb521/slideseq/reconstruct//c55_32/split/c55_32_R1_001.part_014.fastq',\n",
       "  '/n/data2/dfci/medonc/cwu/meb521/slideseq/reconstruct//c55_32/split/c55_32_R2_001.part_014.fastq'),\n",
       " ('/n/data2/dfci/medonc/cwu/meb521/slideseq/reconstruct//c55_32/split/c55_32_R1_001.part_010.fastq',\n",
       "  '/n/data2/dfci/medonc/cwu/meb521/slideseq/reconstruct//c55_32/split/c55_32_R2_001.part_010.fastq'),\n",
       " ('/n/data2/dfci/medonc/cwu/meb521/slideseq/reconstruct//c55_32/split/c55_32_R1_001.part_001.fastq',\n",
       "  '/n/data2/dfci/medonc/cwu/meb521/slideseq/reconstruct//c55_32/split/c55_32_R2_001.part_001.fastq')]"
      ]
     },
     "execution_count": 11,
     "metadata": {},
     "output_type": "execute_result"
    }
   ],
   "source": [
    "pairs"
   ]
  },
  {
   "cell_type": "code",
   "execution_count": 27,
   "metadata": {},
   "outputs": [],
   "source": [
    "cores=16"
   ]
  },
  {
   "cell_type": "code",
   "execution_count": 30,
   "metadata": {},
   "outputs": [
    {
     "data": {
      "text/plain": [
       "[('/n/data2/dfci/medonc/cwu/meb521/slideseq/reconstruct', 'c55_32', 1),\n",
       " ('/n/data2/dfci/medonc/cwu/meb521/slideseq/reconstruct', 'c55_32', 2),\n",
       " ('/n/data2/dfci/medonc/cwu/meb521/slideseq/reconstruct', 'c55_32', 3),\n",
       " ('/n/data2/dfci/medonc/cwu/meb521/slideseq/reconstruct', 'c55_32', 4),\n",
       " ('/n/data2/dfci/medonc/cwu/meb521/slideseq/reconstruct', 'c55_32', 5),\n",
       " ('/n/data2/dfci/medonc/cwu/meb521/slideseq/reconstruct', 'c55_32', 6),\n",
       " ('/n/data2/dfci/medonc/cwu/meb521/slideseq/reconstruct', 'c55_32', 7),\n",
       " ('/n/data2/dfci/medonc/cwu/meb521/slideseq/reconstruct', 'c55_32', 8),\n",
       " ('/n/data2/dfci/medonc/cwu/meb521/slideseq/reconstruct', 'c55_32', 9),\n",
       " ('/n/data2/dfci/medonc/cwu/meb521/slideseq/reconstruct', 'c55_32', 10),\n",
       " ('/n/data2/dfci/medonc/cwu/meb521/slideseq/reconstruct', 'c55_32', 11),\n",
       " ('/n/data2/dfci/medonc/cwu/meb521/slideseq/reconstruct', 'c55_32', 12),\n",
       " ('/n/data2/dfci/medonc/cwu/meb521/slideseq/reconstruct', 'c55_32', 13),\n",
       " ('/n/data2/dfci/medonc/cwu/meb521/slideseq/reconstruct', 'c55_32', 14),\n",
       " ('/n/data2/dfci/medonc/cwu/meb521/slideseq/reconstruct', 'c55_32', 15),\n",
       " ('/n/data2/dfci/medonc/cwu/meb521/slideseq/reconstruct', 'c55_32', 16)]"
      ]
     },
     "execution_count": 30,
     "metadata": {},
     "output_type": "execute_result"
    }
   ],
   "source": [
    "[(indir,sample,i) for i in range(1,int(cores)+1)]"
   ]
  },
  {
   "cell_type": "code",
   "execution_count": null,
   "metadata": {},
   "outputs": [],
   "source": []
  },
  {
   "cell_type": "code",
   "execution_count": null,
   "metadata": {},
   "outputs": [],
   "source": []
  },
  {
   "cell_type": "code",
   "execution_count": null,
   "metadata": {},
   "outputs": [],
   "source": []
  },
  {
   "cell_type": "code",
   "execution_count": 18,
   "metadata": {},
   "outputs": [],
   "source": [
    "part=10\n",
    "part=f'part_{str(part).zfill(3)}'"
   ]
  },
  {
   "cell_type": "code",
   "execution_count": null,
   "metadata": {},
   "outputs": [],
   "source": [
    "R"
   ]
  },
  {
   "cell_type": "code",
   "execution_count": 19,
   "metadata": {},
   "outputs": [
    {
     "data": {
      "text/plain": [
       "'/n/data2/dfci/medonc/cwu/meb521/slideseq/reconstruct/'"
      ]
     },
     "execution_count": 19,
     "metadata": {},
     "output_type": "execute_result"
    }
   ],
   "source": [
    "indir"
   ]
  },
  {
   "cell_type": "code",
   "execution_count": 23,
   "metadata": {},
   "outputs": [],
   "source": [
    "R1_fastq=f'{indir}/{sample}/split/{sample}_R1_001.{part}.fastq'"
   ]
  },
  {
   "cell_type": "code",
   "execution_count": 24,
   "metadata": {},
   "outputs": [
    {
     "data": {
      "text/plain": [
       "'/n/data2/dfci/medonc/cwu/meb521/slideseq/reconstruct/c55_32/split/c55_32_R1_001.part_010.fastq'"
      ]
     },
     "execution_count": 24,
     "metadata": {},
     "output_type": "execute_result"
    }
   ],
   "source": [
    "os.pa"
   ]
  },
  {
   "cell_type": "code",
   "execution_count": 25,
   "metadata": {},
   "outputs": [
    {
     "data": {
      "text/plain": [
       "True"
      ]
     },
     "execution_count": 25,
     "metadata": {},
     "output_type": "execute_result"
    }
   ],
   "source": [
    "os.path.isfile(R1_fastq)"
   ]
  },
  {
   "cell_type": "code",
   "execution_count": null,
   "metadata": {},
   "outputs": [],
   "source": []
  },
  {
   "cell_type": "code",
   "execution_count": 15,
   "metadata": {},
   "outputs": [
    {
     "name": "stdout",
     "output_type": "stream",
     "text": [
      "part_000\n",
      "part_001\n",
      "part_002\n",
      "part_003\n",
      "part_004\n",
      "part_005\n",
      "part_006\n",
      "part_007\n",
      "part_008\n",
      "part_009\n",
      "part_010\n",
      "part_011\n",
      "part_012\n",
      "part_013\n",
      "part_014\n",
      "part_015\n"
     ]
    }
   ],
   "source": [
    "for i in range(16):\n",
    "    part=str(i).zfill(3)\n",
    "    part_full=f'part_{part}'\n",
    "    print(part_full)"
   ]
  },
  {
   "cell_type": "code",
   "execution_count": null,
   "metadata": {},
   "outputs": [],
   "source": []
  },
  {
   "cell_type": "code",
   "execution_count": 13,
   "metadata": {},
   "outputs": [
    {
     "data": {
      "text/plain": [
       "('/n/data2/dfci/medonc/cwu/meb521/slideseq/reconstruct//c55_32/split',\n",
       " 'part_006',\n",
       " '/n/data2/dfci/medonc/cwu/meb521/slideseq/reconstruct//c55_32/split/c55_32.part_006_quads.json')"
      ]
     },
     "execution_count": 13,
     "metadata": {},
     "output_type": "execute_result"
    }
   ],
   "source": [
    "outfile_from_in(p1[0],'quads')"
   ]
  },
  {
   "cell_type": "code",
   "execution_count": 14,
   "metadata": {},
   "outputs": [
    {
     "data": {
      "text/plain": [
       "('/n/data2/dfci/medonc/cwu/meb521/slideseq/reconstruct//c55_32/split/c55_32_R1_001.part_006.fastq',\n",
       " '/n/data2/dfci/medonc/cwu/meb521/slideseq/reconstruct//c55_32/split/c55_32_R2_001.part_006.fastq')"
      ]
     },
     "execution_count": 14,
     "metadata": {},
     "output_type": "execute_result"
    }
   ],
   "source": [
    "p1"
   ]
  },
  {
   "cell_type": "code",
   "execution_count": null,
   "metadata": {},
   "outputs": [],
   "source": []
  },
  {
   "cell_type": "code",
   "execution_count": 52,
   "metadata": {},
   "outputs": [],
   "source": [
    "split_root=str(Path(R1_fastq).parents[0])\n",
    "split_part=R1_fastq.split('.')[1]\n",
    "targets_json = f'{split_root}/{sample}.{split_part}_targets.json'\n",
    "anchors_json = f'{split_root}/{sample}.{split_part}_anchors.json'"
   ]
  },
  {
   "cell_type": "code",
   "execution_count": 103,
   "metadata": {},
   "outputs": [],
   "source": [
    "limit=True;N_read_extract=1000000"
   ]
  },
  {
   "cell_type": "code",
   "execution_count": 104,
   "metadata": {},
   "outputs": [],
   "source": [
    "sample='c55_32'\n",
    "indir='/n/data2/dfci/medonc/cwu/meb521/slideseq/reconstruct'\n",
    "\n",
    "position='targets'"
   ]
  },
  {
   "cell_type": "code",
   "execution_count": 105,
   "metadata": {},
   "outputs": [
    {
     "data": {
      "text/plain": [
       "39763"
      ]
     },
     "execution_count": 105,
     "metadata": {},
     "output_type": "execute_result"
    }
   ],
   "source": [
    "len(t_dict)"
   ]
  },
  {
   "cell_type": "code",
   "execution_count": 108,
   "metadata": {},
   "outputs": [],
   "source": [
    "def extract_quad_dict(R1_fastq,R2_fastq,indir,sample):\n",
    "    \n",
    "    i=0;max_dist=2;quad_dict = {}\n",
    "\n",
    "    quads_json=outfile_from_in(R1_fastq,'quads')\n",
    "\n",
    "    a_white=pd.read_csv(f'{indir}/{sample}/{sample}_anchors_wl.csv.gz')['bc']\n",
    "    t_white=pd.read_csv(f'{indir}/{sample}/{sample}_targets_wl.csv.gz')['bc']\n",
    "\n",
    "    a_dict={}\n",
    "    for bc in a_white: a_dict[bc]=[]\n",
    "    t_dict={}\n",
    "    for bc in t_white: t_dict[bc]=[]\n",
    "    \n",
    "    with pysam.FastxFile(R1_fastq) as R1, pysam.FastxFile(R2_fastq) as R2:\n",
    "        for r1, r2 in tqdm(zip(R1, R2)):\n",
    "            i+=1\n",
    "            \n",
    "            seq1 = r1.sequence\n",
    "            seq2 = r2.sequence\n",
    "            #if UP_edit_pass(seq1,max_dist) and UP_edit_pass(seq2,max_dist):\n",
    "            a_bc,a_umi=seq_slice(seq1)\n",
    "            t_bc,t_umi=seq_slice(seq2)\n",
    "\n",
    "            if (a_dict.get(a_bc) is not None) and (t_dict.get(t_bc) is not None):\n",
    "                quad_dict_store(quad_dict,a_bc,[a_umi,t_bc])\n",
    "            if i>N_read_extract and limit: break\n",
    "            \n",
    "    with open(quads_json, 'w') as json_file:\n",
    "        json.dump(quad_dict, json_file)\n",
    "        \n",
    "    \n"
   ]
  },
  {
   "cell_type": "code",
   "execution_count": 107,
   "metadata": {},
   "outputs": [
    {
     "name": "stderr",
     "output_type": "stream",
     "text": [
      "1000000it [00:21, 45487.55it/s]\n"
     ]
    }
   ],
   "source": [
    "quad_dict = extract_quad_dict(p1[0],p1[1],indir,sample)"
   ]
  },
  {
   "cell_type": "code",
   "execution_count": 109,
   "metadata": {},
   "outputs": [
    {
     "name": "stderr",
     "output_type": "stream",
     "text": [
      "1000000it [00:06, 163001.71it/s]\n"
     ]
    }
   ],
   "source": [
    "quad_dict = extract_quad_dict(p1[0],p1[1],indir,sample)"
   ]
  },
  {
   "cell_type": "code",
   "execution_count": 102,
   "metadata": {},
   "outputs": [
    {
     "data": {
      "text/plain": [
       "1936"
      ]
     },
     "execution_count": 102,
     "metadata": {},
     "output_type": "execute_result"
    }
   ],
   "source": [
    "len(quad_dict)"
   ]
  },
  {
   "cell_type": "code",
   "execution_count": 112,
   "metadata": {},
   "outputs": [
    {
     "data": {
      "text/plain": [
       "[['ACCCGCCG', 'ATAGCAAGCGGTCG'],\n",
       " ['AGGGGCTC', 'GAGTGCCCATTATG'],\n",
       " ['TGCTGTCA', 'TAGACATTCTAAAT'],\n",
       " ['CTGGTGGC', 'ATCGGGCTGACTTT'],\n",
       " ['GCTGTTCG', 'TTCAGCGTTACCAG'],\n",
       " ['ATGCCGGG', 'AAGTTAATGTGACC'],\n",
       " ['GTTAGGGC', 'ACACAGGTATAGTT'],\n",
       " ['CTCGAACA', 'TCAAAAGTATGCGA'],\n",
       " ['TGAGAGCC', 'CAAATATCAGCGAG'],\n",
       " ['TTCACGGG', 'TCGCCGTAATAGGA'],\n",
       " ['ACCTGAAA', 'ACTATATCGCGTGC'],\n",
       " ['CCATTCAC', 'GTGGTTTCATTGGC'],\n",
       " ['ATGTAATC', 'AACGATCCGGTTAG'],\n",
       " ['CCAAGTCA', 'TCCGCTAGCCTCTT'],\n",
       " ['ACGGTTGA', 'GGGGACTCTCTATC'],\n",
       " ['TAATCCCC', 'ATAGCAAGCGGTCG'],\n",
       " ['CCTCCTCC', 'TTTAAGAATTCTGT'],\n",
       " ['CCGTTACA', 'ATAGCAAGCGGTCG'],\n",
       " ['CTAAACAC', 'GTACACTGCGTTGC'],\n",
       " ['AACGGGCC', 'TCGATTGACTTGTT'],\n",
       " ['GTCCCGCC', 'ATAGCAAGCGGTCG'],\n",
       " ['ATACTGGA', 'AACGATCCGGTTAG'],\n",
       " ['GGTAGAGG', 'ATACCGCTTAGGCT'],\n",
       " ['GTGTCGTG', 'TAACACCGGTTCGC'],\n",
       " ['CGGGAAGG', 'TCGCCAAGAACCAT'],\n",
       " ['CACGCAAG', 'TGTTAGGTCAGAAC']]"
      ]
     },
     "execution_count": 112,
     "metadata": {},
     "output_type": "execute_result"
    }
   ],
   "source": [
    "quad_dict['CGAAACTAGCAGGC']"
   ]
  },
  {
   "cell_type": "code",
   "execution_count": 67,
   "metadata": {},
   "outputs": [
    {
     "data": {
      "text/plain": [
       "<function __main__.quad_dict_store(quad_dict, quad_key, quad_items)>"
      ]
     },
     "execution_count": 67,
     "metadata": {},
     "output_type": "execute_result"
    }
   ],
   "source": [
    "quad_dict_store"
   ]
  },
  {
   "cell_type": "code",
   "execution_count": 69,
   "metadata": {},
   "outputs": [
    {
     "data": {
      "text/plain": [
       "<function __main__.quad_dict_store(quad_dict, quad_key, quad_items)>"
      ]
     },
     "execution_count": 69,
     "metadata": {},
     "output_type": "execute_result"
    }
   ],
   "source": [
    "quad_dict_store"
   ]
  },
  {
   "cell_type": "code",
   "execution_count": null,
   "metadata": {},
   "outputs": [],
   "source": []
  },
  {
   "cell_type": "code",
   "execution_count": null,
   "metadata": {},
   "outputs": [],
   "source": []
  },
  {
   "cell_type": "markdown",
   "metadata": {},
   "source": [
    "# seqkit splitting fastqs"
   ]
  },
  {
   "cell_type": "code",
   "execution_count": 85,
   "metadata": {},
   "outputs": [],
   "source": [
    "cores=8"
   ]
  },
  {
   "cell_type": "code",
   "execution_count": 86,
   "metadata": {},
   "outputs": [
    {
     "data": {
      "text/plain": [
       "array(['c55_32', 'c55_34_rec_S4', 'c55_4', 'c55_5_rec_S2'], dtype='<U13')"
      ]
     },
     "execution_count": 86,
     "metadata": {},
     "output_type": "execute_result"
    }
   ],
   "source": [
    "fastq_dir='/Users/mborji/reconstruct/all_fastq/'\n",
    "\n",
    "files=sorted(os.listdir(fastq_dir))\n",
    "\n",
    "samples=np.unique([f.split('_R')[0] for f in files if 'fastq.gz' in f])\n",
    "\n",
    "samples"
   ]
  },
  {
   "cell_type": "code",
   "execution_count": 87,
   "metadata": {},
   "outputs": [
    {
     "name": "stdout",
     "output_type": "stream",
     "text": [
      "c55_32\n"
     ]
    }
   ],
   "source": [
    "sample=samples[0]\n",
    "print(sample)"
   ]
  },
  {
   "cell_type": "code",
   "execution_count": null,
   "metadata": {},
   "outputs": [],
   "source": [
    "split_fastq = f'{fastq_dir}/{sample}/split/{sample}_R1_001.part_001.fastq.gz'\n",
    "\n",
    "if os.path.isfile(split_fastq):\n",
    "    print(split_fastq,' exists')\n",
    "\n",
    "else:\n",
    "    print(split_fastq,' does not exist')\n",
    "    \n",
    "    R1 = f'{fastq_dir}/{sample}_R1_001.fastq.gz'\n",
    "    R2 = f'{fastq_dir}/{sample}_R2_001.fastq.gz'\n",
    "    subprocess.call(['seqkit', 'split2' , '-1', R1, '-2', R2, '-p', str(cores), '-f', '-O', f'{fastq_dir}/{sample}/split/'])"
   ]
  },
  {
   "cell_type": "code",
   "execution_count": 108,
   "metadata": {},
   "outputs": [
    {
     "data": {
      "text/plain": [
       "('all_fastq/c55_32/split', 'c55_32_R1_001.part_001.fastq.gz')"
      ]
     },
     "execution_count": 108,
     "metadata": {},
     "output_type": "execute_result"
    }
   ],
   "source": [
    "os.path.split('all_fastq/c55_32/split/c55_32_R1_001.part_001.fastq.gz')"
   ]
  },
  {
   "cell_type": "code",
   "execution_count": 108,
   "metadata": {},
   "outputs": [
    {
     "data": {
      "text/plain": [
       "('all_fastq/c55_32/split', 'c55_32_R1_001.part_001.fastq.gz')"
      ]
     },
     "execution_count": 108,
     "metadata": {},
     "output_type": "execute_result"
    }
   ],
   "source": [
    "os.path.split('all_fastq/c55_32/split/c55_32_R1_001.part_001.fastq.gz')"
   ]
  },
  {
   "cell_type": "code",
   "execution_count": 109,
   "metadata": {},
   "outputs": [],
   "source": []
  },
  {
   "cell_type": "code",
   "execution_count": null,
   "metadata": {},
   "outputs": [],
   "source": []
  },
  {
   "cell_type": "code",
   "execution_count": 114,
   "metadata": {},
   "outputs": [
    {
     "data": {
      "text/plain": [
       "'all_fastq/c55_32/split'"
      ]
     },
     "execution_count": 114,
     "metadata": {},
     "output_type": "execute_result"
    }
   ],
   "source": [
    "full_path = ('all_fastq/c55_32/split/c55_32_R1_001.part_001.fastq.gz')\n",
    "str(Path(full_path).parents[0])  # \"path/to\""
   ]
  },
  {
   "cell_type": "code",
   "execution_count": 121,
   "metadata": {},
   "outputs": [
    {
     "data": {
      "text/plain": [
       "PosixPath('all_fastq/c55_32')"
      ]
     },
     "execution_count": 121,
     "metadata": {},
     "output_type": "execute_result"
    }
   ],
   "source": [
    "Path(full_path).parents[1]"
   ]
  },
  {
   "cell_type": "code",
   "execution_count": 158,
   "metadata": {},
   "outputs": [],
   "source": [
    "raw_a=pd.read_csv(f'all_fastq/c55_32/split/c55_32.part_008_anchors.csv.gz')"
   ]
  },
  {
   "cell_type": "code",
   "execution_count": 2,
   "metadata": {},
   "outputs": [],
   "source": [
    "raw_t=pd.read_csv(f'all_fastq/c55_32/split/c55_32.part_008_targets.csv.gz')"
   ]
  },
  {
   "cell_type": "code",
   "execution_count": null,
   "metadata": {},
   "outputs": [],
   "source": []
  },
  {
   "cell_type": "code",
   "execution_count": 157,
   "metadata": {},
   "outputs": [],
   "source": [
    "double_a=pd.read_csv(f'all_fastq/c55_32/split/c55_32.part_008_quads.csv.gz',names=['a_bc','a_bumi','t_bc','t_bumi'])"
   ]
  },
  {
   "cell_type": "code",
   "execution_count": 163,
   "metadata": {},
   "outputs": [
    {
     "data": {
      "text/plain": [
       "(63062, 57895)"
      ]
     },
     "execution_count": 163,
     "metadata": {},
     "output_type": "execute_result"
    }
   ],
   "source": [
    "raw_a['cnt'].sum(),raw_t['cnt'].sum()"
   ]
  },
  {
   "cell_type": "code",
   "execution_count": 167,
   "metadata": {},
   "outputs": [],
   "source": [
    "double_a_bc=sort_cnt(double_a.a_bc)"
   ]
  },
  {
   "cell_type": "code",
   "execution_count": 170,
   "metadata": {},
   "outputs": [],
   "source": [
    "double_a_bc.columns=['a_bc','cnt']"
   ]
  },
  {
   "cell_type": "code",
   "execution_count": 178,
   "metadata": {},
   "outputs": [],
   "source": [
    "double_t_bc=sort_cnt(double_a.t_bc)"
   ]
  },
  {
   "cell_type": "code",
   "execution_count": 179,
   "metadata": {},
   "outputs": [],
   "source": [
    "double_t_bc.columns=['t_bc','cnt']"
   ]
  },
  {
   "cell_type": "code",
   "execution_count": 192,
   "metadata": {},
   "outputs": [],
   "source": [
    "merge_a=pd.merge(double_a_bc,raw_a,left_on='a_bc',right_on='a_bc')"
   ]
  },
  {
   "cell_type": "code",
   "execution_count": 193,
   "metadata": {},
   "outputs": [],
   "source": [
    "merge_t=pd.merge(double_t_bc,raw_t,left_on='t_bc',right_on='t_bc')"
   ]
  },
  {
   "cell_type": "code",
   "execution_count": 194,
   "metadata": {},
   "outputs": [],
   "source": [
    "merge_t=merge_t[(merge_t.cnt_x>5) & (merge_t.cnt_y>5)]"
   ]
  },
  {
   "cell_type": "code",
   "execution_count": 188,
   "metadata": {},
   "outputs": [],
   "source": [
    "merge_a=merge_a[(merge_a.cnt_x>4) & (merge_a.cnt_y>4)]"
   ]
  },
  {
   "cell_type": "code",
   "execution_count": 189,
   "metadata": {},
   "outputs": [],
   "source": [
    "sns.scatterplot(data=merge_t,x='cnt_x',y='cnt_y')\n",
    "\n",
    "sns.scatterplot(data=merge_a,x='cnt_x',y='cnt_y')"
   ]
  },
  {
   "cell_type": "markdown",
   "metadata": {},
   "source": [
    "# slideseq mega"
   ]
  },
  {
   "cell_type": "code",
   "execution_count": 3,
   "metadata": {},
   "outputs": [],
   "source": [
    "bcs=pd.read_table('/n/data2/dfci/medonc/cwu/meb521/slideseq/B0024_010.all_illumina.numReads_perCell_XC_mq_10.txt.gz')"
   ]
  },
  {
   "cell_type": "code",
   "execution_count": 4,
   "metadata": {},
   "outputs": [],
   "source": [
    "bcs.columns=['reads','xc','pcr','rq']"
   ]
  },
  {
   "cell_type": "code",
   "execution_count": 5,
   "metadata": {},
   "outputs": [],
   "source": [
    "bcs['log10cnt']=np.log10(bcs.reads)"
   ]
  },
  {
   "cell_type": "code",
   "execution_count": 6,
   "metadata": {},
   "outputs": [],
   "source": [
    "bcs=bcs[['xc','log10cnt']].copy()"
   ]
  },
  {
   "cell_type": "code",
   "execution_count": 7,
   "metadata": {},
   "outputs": [],
   "source": [
    "bcs=bcs[bcs.log10cnt>.5]"
   ]
  },
  {
   "cell_type": "code",
   "execution_count": 10,
   "metadata": {},
   "outputs": [
    {
     "data": {
      "text/html": [
       "<div>\n",
       "<style scoped>\n",
       "    .dataframe tbody tr th:only-of-type {\n",
       "        vertical-align: middle;\n",
       "    }\n",
       "\n",
       "    .dataframe tbody tr th {\n",
       "        vertical-align: top;\n",
       "    }\n",
       "\n",
       "    .dataframe thead th {\n",
       "        text-align: right;\n",
       "    }\n",
       "</style>\n",
       "<table border=\"1\" class=\"dataframe\">\n",
       "  <thead>\n",
       "    <tr style=\"text-align: right;\">\n",
       "      <th></th>\n",
       "      <th>xc</th>\n",
       "      <th>log10cnt</th>\n",
       "    </tr>\n",
       "  </thead>\n",
       "  <tbody>\n",
       "    <tr>\n",
       "      <th>0</th>\n",
       "      <td>AAAAAAAAAAAAAA</td>\n",
       "      <td>5.136724</td>\n",
       "    </tr>\n",
       "    <tr>\n",
       "      <th>1</th>\n",
       "      <td>AGGCCTTCCCCTAC</td>\n",
       "      <td>4.953571</td>\n",
       "    </tr>\n",
       "    <tr>\n",
       "      <th>2</th>\n",
       "      <td>CGGCTCACGGTTCA</td>\n",
       "      <td>4.742851</td>\n",
       "    </tr>\n",
       "    <tr>\n",
       "      <th>3</th>\n",
       "      <td>CAGCTCACGGTTCA</td>\n",
       "      <td>4.591943</td>\n",
       "    </tr>\n",
       "    <tr>\n",
       "      <th>4</th>\n",
       "      <td>TGGCTCACGGTTCA</td>\n",
       "      <td>4.569058</td>\n",
       "    </tr>\n",
       "    <tr>\n",
       "      <th>...</th>\n",
       "      <td>...</td>\n",
       "      <td>...</td>\n",
       "    </tr>\n",
       "    <tr>\n",
       "      <th>22288604</th>\n",
       "      <td>TTTTTTTTTTGCCT</td>\n",
       "      <td>0.602060</td>\n",
       "    </tr>\n",
       "    <tr>\n",
       "      <th>22288605</th>\n",
       "      <td>TTTTTTTTTTGGCA</td>\n",
       "      <td>0.602060</td>\n",
       "    </tr>\n",
       "    <tr>\n",
       "      <th>22288606</th>\n",
       "      <td>TTTTTTTTTTGGCC</td>\n",
       "      <td>0.602060</td>\n",
       "    </tr>\n",
       "    <tr>\n",
       "      <th>22288607</th>\n",
       "      <td>TTTTTTTTTTGTAA</td>\n",
       "      <td>0.602060</td>\n",
       "    </tr>\n",
       "    <tr>\n",
       "      <th>22288608</th>\n",
       "      <td>TTTTTTTTTTTGCG</td>\n",
       "      <td>0.602060</td>\n",
       "    </tr>\n",
       "  </tbody>\n",
       "</table>\n",
       "<p>22288609 rows × 2 columns</p>\n",
       "</div>"
      ],
      "text/plain": [
       "                      xc  log10cnt\n",
       "0         AAAAAAAAAAAAAA  5.136724\n",
       "1         AGGCCTTCCCCTAC  4.953571\n",
       "2         CGGCTCACGGTTCA  4.742851\n",
       "3         CAGCTCACGGTTCA  4.591943\n",
       "4         TGGCTCACGGTTCA  4.569058\n",
       "...                  ...       ...\n",
       "22288604  TTTTTTTTTTGCCT  0.602060\n",
       "22288605  TTTTTTTTTTGGCA  0.602060\n",
       "22288606  TTTTTTTTTTGGCC  0.602060\n",
       "22288607  TTTTTTTTTTGTAA  0.602060\n",
       "22288608  TTTTTTTTTTTGCG  0.602060\n",
       "\n",
       "[22288609 rows x 2 columns]"
      ]
     },
     "execution_count": 10,
     "metadata": {},
     "output_type": "execute_result"
    }
   ],
   "source": [
    "bcs"
   ]
  },
  {
   "cell_type": "code",
   "execution_count": 11,
   "metadata": {},
   "outputs": [],
   "source": [
    "bcs.to_csv('mega_puck.csv',index=None)"
   ]
  },
  {
   "cell_type": "code",
   "execution_count": null,
   "metadata": {},
   "outputs": [],
   "source": []
  },
  {
   "cell_type": "code",
   "execution_count": 13,
   "metadata": {},
   "outputs": [
    {
     "data": {
      "text/plain": [
       "0           5.136724\n",
       "1           4.953571\n",
       "2           4.742851\n",
       "3           4.591943\n",
       "4           4.569058\n",
       "              ...   \n",
       "22288604    0.602060\n",
       "22288605    0.602060\n",
       "22288606    0.602060\n",
       "22288607    0.602060\n",
       "22288608    0.602060\n",
       "Name: log10cnt, Length: 22288609, dtype: float64"
      ]
     },
     "execution_count": 13,
     "metadata": {},
     "output_type": "execute_result"
    }
   ],
   "source": [
    "bcs.log10cnt"
   ]
  },
  {
   "cell_type": "code",
   "execution_count": 12,
   "metadata": {},
   "outputs": [
    {
     "data": {
      "text/plain": [
       "Text(0, 0.5, 'Log10 Read Counts')"
      ]
     },
     "execution_count": 12,
     "metadata": {},
     "output_type": "execute_result"
    },
    {
     "data": {
      "image/png": "[encoded data removed]",
      "text/plain": [
       "<Figure size 640x480 with 1 Axes>"
      ]
     },
     "metadata": {},
     "output_type": "display_data"
    }
   ],
   "source": [
    "log10_ranks=np.log10(np.arange(1,len(bcs)+1))\n",
    "log10_cnts=bcs.log10cnt\n",
    "plt.plot(log10_ranks,log10_cnts)#,label='Rank Plot of Reads')\n",
    "plt.xlabel('Log10 Ranks')\n",
    "plt.ylabel('Log10 Read Counts')"
   ]
  },
  {
   "cell_type": "code",
   "execution_count": 17,
   "metadata": {},
   "outputs": [
    {
     "data": {
      "text/html": [
       "<div>\n",
       "<style scoped>\n",
       "    .dataframe tbody tr th:only-of-type {\n",
       "        vertical-align: middle;\n",
       "    }\n",
       "\n",
       "    .dataframe tbody tr th {\n",
       "        vertical-align: top;\n",
       "    }\n",
       "\n",
       "    .dataframe thead th {\n",
       "        text-align: right;\n",
       "    }\n",
       "</style>\n",
       "<table border=\"1\" class=\"dataframe\">\n",
       "  <thead>\n",
       "    <tr style=\"text-align: right;\">\n",
       "      <th></th>\n",
       "      <th>xc</th>\n",
       "      <th>log10cnt</th>\n",
       "    </tr>\n",
       "  </thead>\n",
       "  <tbody>\n",
       "    <tr>\n",
       "      <th>0</th>\n",
       "      <td>AAAAAAAAAAAAAA</td>\n",
       "      <td>5.136724</td>\n",
       "    </tr>\n",
       "    <tr>\n",
       "      <th>1</th>\n",
       "      <td>AGGCCTTCCCCTAC</td>\n",
       "      <td>4.953571</td>\n",
       "    </tr>\n",
       "    <tr>\n",
       "      <th>2</th>\n",
       "      <td>CGGCTCACGGTTCA</td>\n",
       "      <td>4.742851</td>\n",
       "    </tr>\n",
       "    <tr>\n",
       "      <th>3</th>\n",
       "      <td>CAGCTCACGGTTCA</td>\n",
       "      <td>4.591943</td>\n",
       "    </tr>\n",
       "    <tr>\n",
       "      <th>4</th>\n",
       "      <td>TGGCTCACGGTTCA</td>\n",
       "      <td>4.569058</td>\n",
       "    </tr>\n",
       "    <tr>\n",
       "      <th>...</th>\n",
       "      <td>...</td>\n",
       "      <td>...</td>\n",
       "    </tr>\n",
       "    <tr>\n",
       "      <th>4395420</th>\n",
       "      <td>TTTTTTTTTTGCTT</td>\n",
       "      <td>1.041393</td>\n",
       "    </tr>\n",
       "    <tr>\n",
       "      <th>4395421</th>\n",
       "      <td>TTTTTTTTTTGGTA</td>\n",
       "      <td>1.041393</td>\n",
       "    </tr>\n",
       "    <tr>\n",
       "      <th>4395422</th>\n",
       "      <td>TTTTTTTTTTTCGG</td>\n",
       "      <td>1.041393</td>\n",
       "    </tr>\n",
       "    <tr>\n",
       "      <th>4395423</th>\n",
       "      <td>TTTTTTTTTTTCTA</td>\n",
       "      <td>1.041393</td>\n",
       "    </tr>\n",
       "    <tr>\n",
       "      <th>4395424</th>\n",
       "      <td>TTTTTTTTTTTGAC</td>\n",
       "      <td>1.041393</td>\n",
       "    </tr>\n",
       "  </tbody>\n",
       "</table>\n",
       "<p>4395425 rows × 2 columns</p>\n",
       "</div>"
      ],
      "text/plain": [
       "                     xc  log10cnt\n",
       "0        AAAAAAAAAAAAAA  5.136724\n",
       "1        AGGCCTTCCCCTAC  4.953571\n",
       "2        CGGCTCACGGTTCA  4.742851\n",
       "3        CAGCTCACGGTTCA  4.591943\n",
       "4        TGGCTCACGGTTCA  4.569058\n",
       "...                 ...       ...\n",
       "4395420  TTTTTTTTTTGCTT  1.041393\n",
       "4395421  TTTTTTTTTTGGTA  1.041393\n",
       "4395422  TTTTTTTTTTTCGG  1.041393\n",
       "4395423  TTTTTTTTTTTCTA  1.041393\n",
       "4395424  TTTTTTTTTTTGAC  1.041393\n",
       "\n",
       "[4395425 rows x 2 columns]"
      ]
     },
     "execution_count": 17,
     "metadata": {},
     "output_type": "execute_result"
    }
   ],
   "source": [
    "bcs[bcs.log10cnt>1]"
   ]
  },
  {
   "cell_type": "code",
   "execution_count": null,
   "metadata": {},
   "outputs": [],
   "source": []
  },
  {
   "cell_type": "code",
   "execution_count": 20,
   "metadata": {},
   "outputs": [
    {
     "data": {
      "text/plain": [
       "<AxesSubplot:xlabel='log10cnt', ylabel='Count'>"
      ]
     },
     "execution_count": 20,
     "metadata": {},
     "output_type": "execute_result"
    },
    {
     "data": {
      "image/png": "[encoded data removed]",
      "text/plain": [
       "<Figure size 640x480 with 1 Axes>"
      ]
     },
     "metadata": {},
     "output_type": "display_data"
    }
   ],
   "source": [
    "sns.histplot(bcs[bcs.log10cnt>1.5].log10cnt)"
   ]
  },
  {
   "cell_type": "markdown",
   "metadata": {},
   "source": [
    "# agg whitelist"
   ]
  },
  {
   "cell_type": "code",
   "execution_count": 3,
   "metadata": {},
   "outputs": [],
   "source": [
    "from scipy.ndimage import gaussian_filter1d\n",
    "from scipy.signal import find_peaks"
   ]
  },
  {
   "cell_type": "code",
   "execution_count": null,
   "metadata": {},
   "outputs": [],
   "source": [
    "sample='c55_32'"
   ]
  },
  {
   "cell_type": "code",
   "execution_count": 3,
   "metadata": {},
   "outputs": [],
   "source": [
    "sample='c55_4'"
   ]
  },
  {
   "cell_type": "code",
   "execution_count": 5,
   "metadata": {},
   "outputs": [],
   "source": [
    "out_dir='all_fastq'"
   ]
  },
  {
   "cell_type": "code",
   "execution_count": 9,
   "metadata": {},
   "outputs": [],
   "source": [
    "wl_df=pd.read_csv(f'{out_dir}/{sample}/{sample}_{white_position}_wl.csv.gz',compression='infer',index_col=0)"
   ]
  },
  {
   "cell_type": "code",
   "execution_count": 13,
   "metadata": {},
   "outputs": [
    {
     "name": "stdout",
     "output_type": "stream",
     "text": [
      "23263845\n",
      "23260932\n",
      "23268900\n",
      "23266490\n",
      "23261408\n",
      "23269353\n",
      "23272395\n",
      "23267574\n",
      "[42] [3.03702913]\n",
      "c55_4 targets\n",
      "186.130897m raw reads\n",
      "126.377263m reads in whitelist\n",
      "18619992\n",
      "18619353\n",
      "18625608\n",
      "18622768\n",
      "18621830\n",
      "18622967\n",
      "18618320\n",
      "18619586\n",
      "[33] [2.65451423]\n",
      "c55_32 targets\n",
      "148.970424m raw reads\n",
      "98.971891m reads in whitelist\n",
      "22682491\n",
      "22681544\n",
      "22677956\n",
      "22677694\n",
      "22687683\n",
      "22688356\n",
      "22677488\n",
      "22680387\n",
      "[41] [2.89239548]\n",
      "c55_4 anchors\n",
      "181.453599m raw reads\n",
      "133.21487m reads in whitelist\n",
      "20053271\n",
      "20050062\n",
      "20048898\n",
      "20050567\n",
      "20052280\n",
      "20049592\n",
      "20046345\n",
      "20052902\n",
      "[46] [3.00587116]\n",
      "c55_32 anchors\n",
      "160.403917m raw reads\n",
      "116.096584m reads in whitelist\n"
     ]
    }
   ],
   "source": [
    "for white_position in ['targets','anchors']:\n",
    "    \n",
    "    for sample in ['c55_4','c55_32']:\n",
    "    \n",
    "        agg_bcs=[];total_raw_barcodes=[]\n",
    "\n",
    "        for i in range(8):\n",
    "            sub_bc=pd.read_csv(f'{out_dir}/{sample}/split/{sample}.part_00{i+1}_{white_position}.csv.gz')\n",
    "            batch_cnt=sub_bc.cnt.sum()\n",
    "            print(batch_cnt)\n",
    "            total_raw_barcodes.append(batch_cnt)\n",
    "            agg_bcs.append(sub_bc[sub_bc.cnt>2])\n",
    "\n",
    "        agg_bcs=pd.concat(agg_bcs)\n",
    "\n",
    "        agg_bcs=agg_bcs.groupby(agg_bcs.columns[0]).sum()\n",
    "\n",
    "        agg_bcs=agg_bcs.sort_values(by='cnt',ascending=False)\n",
    "\n",
    "        agg_bcs['log10cnt']=np.log10(agg_bcs['cnt'])\n",
    "\n",
    "        x = np.histogram(agg_bcs.iloc[20:100000].log10cnt, 100) # select top 100k bc except first 20\n",
    "        smooth = gaussian_filter1d(x[0], 3)\n",
    "        peak_idx,_=find_peaks(-smooth)\n",
    "        print(peak_idx,x[1][:-1][peak_idx])\n",
    "        mean_hist=(x[1][1:][peak_idx]+x[1][:-1][peak_idx])/2\n",
    "        mean_hist=mean_hist[0]\n",
    "\n",
    "        wl_df=agg_bcs[agg_bcs.log10cnt>=mean_hist].copy()\n",
    "        \n",
    "        wl_df.to_csv(f'{out_dir}/{sample}/{sample}_{white_position}_wl.csv.gz',compression='infer')\n",
    "\n",
    "        wl_reads=wl_df.cnt.sum()\n",
    "\n",
    "        white_list_size=wl_df.shape[0]\n",
    "\n",
    "        print(f'{sample} {white_position}\\n{np.sum(total_raw_barcodes)/1e6}m raw reads\\n{wl_reads/1e6}m reads in whitelist')\n",
    "\n",
    "        log10_ranks=np.log10(np.arange(1,len(agg_bcs)+1))\n",
    "        log10_cnts=agg_bcs.log10cnt\n",
    "        plt.plot(log10_ranks,log10_cnts)#,label='Rank Plot of Reads')\n",
    "        plt.xlabel('Log10 Ranks')\n",
    "        plt.ylabel('Log10 Read Counts')\n",
    "        plt.title(f'{sample} {white_position}\\n {white_list_size} white listed')\n",
    "        plt.plot([0, log10_ranks[-1]], [mean_hist, mean_hist], linewidth=1,label='log10 threshold',c='tab:green')\n",
    "        log10_wl=np.log10(white_list_size)\n",
    "        plt.plot([log10_wl, log10_wl], [log10_cnts.min(), log10_cnts.max()], linewidth=1,label='log10 size',c='tab:orange')\n",
    "        plt.legend(loc=\"upper right\");\n",
    "        plt.savefig(f'{out_dir}/{sample}/{sample}_{white_position}_rankplot.pdf',bbox_inches='tight');\n",
    "        plt.close()\n",
    "\n",
    "        plt.plot(x[1][:-1],x[0], label='Raw Histogram')\n",
    "        plt.plot(x[1][:-1],smooth, label='Gaussian Smoothed')\n",
    "        plt.xlabel('Log10 Read Counts')\n",
    "        plt.ylabel('Bin Height')\n",
    "        plt.title(f'{sample} {white_position}')\n",
    "        plt.plot([mean_hist, mean_hist], [0, np.max(x[0])], linewidth=2,label='Whitelist Threshold')\n",
    "        plt.legend(loc=\"upper right\");\n",
    "        plt.savefig(f'{out_dir}/{sample}/{sample}_{white_position}_histogram.pdf',bbox_inches='tight');\n",
    "        plt.close()"
   ]
  },
  {
   "cell_type": "markdown",
   "metadata": {},
   "source": [
    "# aggregate quads"
   ]
  },
  {
   "cell_type": "code",
   "execution_count": 2,
   "metadata": {},
   "outputs": [],
   "source": [
    "sample='c55_32'"
   ]
  },
  {
   "cell_type": "code",
   "execution_count": 1,
   "metadata": {},
   "outputs": [],
   "source": [
    "sample='c55_4'"
   ]
  },
  {
   "cell_type": "code",
   "execution_count": 2,
   "metadata": {},
   "outputs": [],
   "source": [
    "out_dir='all_fastq'"
   ]
  },
  {
   "cell_type": "code",
   "execution_count": 3,
   "metadata": {},
   "outputs": [],
   "source": [
    "i=0"
   ]
  },
  {
   "cell_type": "code",
   "execution_count": 6,
   "metadata": {},
   "outputs": [],
   "source": [
    "quad=pd.read_csv(f'{out_dir}/{sample}/{sample}_quads.csv.gz',names=['a_bc','a_bumi','t_bc','t_bumi'])"
   ]
  },
  {
   "cell_type": "code",
   "execution_count": 12,
   "metadata": {},
   "outputs": [],
   "source": [
    "anchors_wl=pd.read_csv(f'{out_dir}/{sample}/{sample}_anchors_wl.csv.gz')"
   ]
  },
  {
   "cell_type": "code",
   "execution_count": 13,
   "metadata": {},
   "outputs": [],
   "source": [
    "targets_wl=pd.read_csv(f'{out_dir}/{sample}/{sample}_targets_wl.csv.gz')"
   ]
  },
  {
   "cell_type": "code",
   "execution_count": 15,
   "metadata": {},
   "outputs": [],
   "source": [
    "quad=quad[ (quad.a_bc.isin(anchors_wl.a_bc)) & (quad.t_bc.isin(targets_wl.t_bc)) ].copy()"
   ]
  },
  {
   "cell_type": "code",
   "execution_count": 21,
   "metadata": {},
   "outputs": [],
   "source": [
    "quad=quad[['a_bc', 'a_bumi', 't_bc']].set_index('a_bc')"
   ]
  },
  {
   "cell_type": "code",
   "execution_count": 56,
   "metadata": {},
   "outputs": [],
   "source": [
    "quad.to_csv(f'{out_dir}/{sample}/{sample}_quads_filter.csv')"
   ]
  },
  {
   "cell_type": "code",
   "execution_count": 80,
   "metadata": {},
   "outputs": [
    {
     "data": {
      "text/plain": [
       "5322"
      ]
     },
     "execution_count": 80,
     "metadata": {},
     "output_type": "execute_result"
    }
   ],
   "source": [
    "sub_quad.shape[0]"
   ]
  },
  {
   "cell_type": "code",
   "execution_count": null,
   "metadata": {},
   "outputs": [],
   "source": []
  },
  {
   "cell_type": "code",
   "execution_count": 90,
   "metadata": {},
   "outputs": [
    {
     "data": {
      "text/plain": [
       "3.660937197426283"
      ]
     },
     "execution_count": 90,
     "metadata": {},
     "output_type": "execute_result"
    }
   ],
   "source": [
    "np.log10(np.exp(7.4)*2.8)"
   ]
  },
  {
   "cell_type": "code",
   "execution_count": 82,
   "metadata": {},
   "outputs": [
    {
     "name": "stderr",
     "output_type": "stream",
     "text": [
      "100%|█████████████████████████████████████████| 100/100 [02:52<00:00,  1.72s/it]\n"
     ]
    }
   ],
   "source": [
    "DUPS=[]\n",
    "for anch in tqdm(anchors_wl.a_bc[:100]):\n",
    "    \n",
    "    sub_quad = quad.loc[anch].copy()\n",
    "    \n",
    "    umi_cnt = sort_cnt(sub_quad.a_bumi)\n",
    "    RATE=sub_quad.shape[0]/umi_cnt.shape[0]\n",
    "    DUPS.append(RATE)"
   ]
  },
  {
   "cell_type": "code",
   "execution_count": 87,
   "metadata": {},
   "outputs": [
    {
     "data": {
      "text/plain": [
       "<AxesSubplot: ylabel='Count'>"
      ]
     },
     "execution_count": 87,
     "metadata": {},
     "output_type": "execute_result"
    },
    {
     "data": {
      "image/png": "[encoded data removed]",
      "text/plain": [
       "<Figure size 432x288 with 1 Axes>"
      ]
     },
     "metadata": {
      "needs_background": "light"
     },
     "output_type": "display_data"
    }
   ],
   "source": [
    "sns.histplot(DUPS,bins=20)"
   ]
  },
  {
   "cell_type": "code",
   "execution_count": null,
   "metadata": {},
   "outputs": [],
   "source": []
  },
  {
   "cell_type": "code",
   "execution_count": null,
   "metadata": {},
   "outputs": [],
   "source": []
  },
  {
   "cell_type": "code",
   "execution_count": 25,
   "metadata": {},
   "outputs": [],
   "source": [
    "    sub_quad = sub_quad.set_index('a_bumi')\n",
    "    \n",
    "    umi_cnt_high = umi_cnt[umi_cnt[1]>1]\n",
    "    "
   ]
  },
  {
   "cell_type": "code",
   "execution_count": 76,
   "metadata": {},
   "outputs": [
    {
     "data": {
      "text/html": [
       "<div>\n",
       "<style scoped>\n",
       "    .dataframe tbody tr th:only-of-type {\n",
       "        vertical-align: middle;\n",
       "    }\n",
       "\n",
       "    .dataframe tbody tr th {\n",
       "        vertical-align: top;\n",
       "    }\n",
       "\n",
       "    .dataframe thead th {\n",
       "        text-align: right;\n",
       "    }\n",
       "</style>\n",
       "<table border=\"1\" class=\"dataframe\">\n",
       "  <thead>\n",
       "    <tr style=\"text-align: right;\">\n",
       "      <th></th>\n",
       "      <th>t_bc</th>\n",
       "    </tr>\n",
       "    <tr>\n",
       "      <th>a_bumi</th>\n",
       "      <th></th>\n",
       "    </tr>\n",
       "  </thead>\n",
       "  <tbody>\n",
       "    <tr>\n",
       "      <th>AGGGAGCA</th>\n",
       "      <td>GTGAAAACGCCAAT</td>\n",
       "    </tr>\n",
       "    <tr>\n",
       "      <th>AAGGCCGC</th>\n",
       "      <td>TAGTAGACCTTTCG</td>\n",
       "    </tr>\n",
       "    <tr>\n",
       "      <th>GCACAGGC</th>\n",
       "      <td>GGTATCATTTAGAT</td>\n",
       "    </tr>\n",
       "    <tr>\n",
       "      <th>CCGGGCAA</th>\n",
       "      <td>TGCAGCTTTAACGG</td>\n",
       "    </tr>\n",
       "    <tr>\n",
       "      <th>GCTTCTCC</th>\n",
       "      <td>TAGTAGACCTTTCG</td>\n",
       "    </tr>\n",
       "    <tr>\n",
       "      <th>...</th>\n",
       "      <td>...</td>\n",
       "    </tr>\n",
       "    <tr>\n",
       "      <th>AAGAACTG</th>\n",
       "      <td>CGGTCATGGCTGCG</td>\n",
       "    </tr>\n",
       "    <tr>\n",
       "      <th>CGTCAGGG</th>\n",
       "      <td>TCTGCACTACACTA</td>\n",
       "    </tr>\n",
       "    <tr>\n",
       "      <th>CGATGATA</th>\n",
       "      <td>TGCAGCTTTAACGG</td>\n",
       "    </tr>\n",
       "    <tr>\n",
       "      <th>TGGGGGCG</th>\n",
       "      <td>GTGAAAACGCCAAT</td>\n",
       "    </tr>\n",
       "    <tr>\n",
       "      <th>GGGGTGCC</th>\n",
       "      <td>GTGAAAACGCCAAT</td>\n",
       "    </tr>\n",
       "  </tbody>\n",
       "</table>\n",
       "<p>5322 rows × 1 columns</p>\n",
       "</div>"
      ],
      "text/plain": [
       "                    t_bc\n",
       "a_bumi                  \n",
       "AGGGAGCA  GTGAAAACGCCAAT\n",
       "AAGGCCGC  TAGTAGACCTTTCG\n",
       "GCACAGGC  GGTATCATTTAGAT\n",
       "CCGGGCAA  TGCAGCTTTAACGG\n",
       "GCTTCTCC  TAGTAGACCTTTCG\n",
       "...                  ...\n",
       "AAGAACTG  CGGTCATGGCTGCG\n",
       "CGTCAGGG  TCTGCACTACACTA\n",
       "CGATGATA  TGCAGCTTTAACGG\n",
       "TGGGGGCG  GTGAAAACGCCAAT\n",
       "GGGGTGCC  GTGAAAACGCCAAT\n",
       "\n",
       "[5322 rows x 1 columns]"
      ]
     },
     "execution_count": 76,
     "metadata": {},
     "output_type": "execute_result"
    }
   ],
   "source": [
    "sub_quad.set_index('a_bumi')"
   ]
  },
  {
   "cell_type": "code",
   "execution_count": null,
   "metadata": {},
   "outputs": [],
   "source": []
  },
  {
   "cell_type": "code",
   "execution_count": 36,
   "metadata": {},
   "outputs": [
    {
     "data": {
      "text/html": [
       "<div>\n",
       "<style scoped>\n",
       "    .dataframe tbody tr th:only-of-type {\n",
       "        vertical-align: middle;\n",
       "    }\n",
       "\n",
       "    .dataframe tbody tr th {\n",
       "        vertical-align: top;\n",
       "    }\n",
       "\n",
       "    .dataframe thead th {\n",
       "        text-align: right;\n",
       "    }\n",
       "</style>\n",
       "<table border=\"1\" class=\"dataframe\">\n",
       "  <thead>\n",
       "    <tr style=\"text-align: right;\">\n",
       "      <th></th>\n",
       "      <th>0</th>\n",
       "      <th>1</th>\n",
       "    </tr>\n",
       "  </thead>\n",
       "  <tbody>\n",
       "    <tr>\n",
       "      <th>474</th>\n",
       "      <td>ATTGGATA</td>\n",
       "      <td>14</td>\n",
       "    </tr>\n",
       "    <tr>\n",
       "      <th>1915</th>\n",
       "      <td>TGGGGGCG</td>\n",
       "      <td>13</td>\n",
       "    </tr>\n",
       "    <tr>\n",
       "      <th>397</th>\n",
       "      <td>ATCATGCG</td>\n",
       "      <td>12</td>\n",
       "    </tr>\n",
       "    <tr>\n",
       "      <th>750</th>\n",
       "      <td>CGAGATTG</td>\n",
       "      <td>12</td>\n",
       "    </tr>\n",
       "    <tr>\n",
       "      <th>146</th>\n",
       "      <td>ACCAAAAG</td>\n",
       "      <td>12</td>\n",
       "    </tr>\n",
       "    <tr>\n",
       "      <th>...</th>\n",
       "      <td>...</td>\n",
       "      <td>...</td>\n",
       "    </tr>\n",
       "    <tr>\n",
       "      <th>1504</th>\n",
       "      <td>GTGTTGTA</td>\n",
       "      <td>1</td>\n",
       "    </tr>\n",
       "    <tr>\n",
       "      <th>910</th>\n",
       "      <td>CTCGGCGC</td>\n",
       "      <td>1</td>\n",
       "    </tr>\n",
       "    <tr>\n",
       "      <th>1506</th>\n",
       "      <td>GTTACTAA</td>\n",
       "      <td>1</td>\n",
       "    </tr>\n",
       "    <tr>\n",
       "      <th>300</th>\n",
       "      <td>AGCCCTGG</td>\n",
       "      <td>1</td>\n",
       "    </tr>\n",
       "    <tr>\n",
       "      <th>678</th>\n",
       "      <td>CCCTCCGG</td>\n",
       "      <td>1</td>\n",
       "    </tr>\n",
       "  </tbody>\n",
       "</table>\n",
       "<p>2063 rows × 2 columns</p>\n",
       "</div>"
      ],
      "text/plain": [
       "             0   1\n",
       "474   ATTGGATA  14\n",
       "1915  TGGGGGCG  13\n",
       "397   ATCATGCG  12\n",
       "750   CGAGATTG  12\n",
       "146   ACCAAAAG  12\n",
       "...        ...  ..\n",
       "1504  GTGTTGTA   1\n",
       "910   CTCGGCGC   1\n",
       "1506  GTTACTAA   1\n",
       "300   AGCCCTGG   1\n",
       "678   CCCTCCGG   1\n",
       "\n",
       "[2063 rows x 2 columns]"
      ]
     },
     "execution_count": 36,
     "metadata": {},
     "output_type": "execute_result"
    }
   ],
   "source": [
    "umi_cnt"
   ]
  },
  {
   "cell_type": "code",
   "execution_count": 77,
   "metadata": {},
   "outputs": [],
   "source": [
    "umi_cnt_high=umi_cnt[umi_cnt[1]>1]"
   ]
  },
  {
   "cell_type": "code",
   "execution_count": 78,
   "metadata": {},
   "outputs": [
    {
     "data": {
      "text/html": [
       "<div>\n",
       "<style scoped>\n",
       "    .dataframe tbody tr th:only-of-type {\n",
       "        vertical-align: middle;\n",
       "    }\n",
       "\n",
       "    .dataframe tbody tr th {\n",
       "        vertical-align: top;\n",
       "    }\n",
       "\n",
       "    .dataframe thead th {\n",
       "        text-align: right;\n",
       "    }\n",
       "</style>\n",
       "<table border=\"1\" class=\"dataframe\">\n",
       "  <thead>\n",
       "    <tr style=\"text-align: right;\">\n",
       "      <th></th>\n",
       "      <th>0</th>\n",
       "      <th>1</th>\n",
       "    </tr>\n",
       "  </thead>\n",
       "  <tbody>\n",
       "    <tr>\n",
       "      <th>474</th>\n",
       "      <td>ATTGGATA</td>\n",
       "      <td>14</td>\n",
       "    </tr>\n",
       "    <tr>\n",
       "      <th>1915</th>\n",
       "      <td>TGGGGGCG</td>\n",
       "      <td>13</td>\n",
       "    </tr>\n",
       "    <tr>\n",
       "      <th>397</th>\n",
       "      <td>ATCATGCG</td>\n",
       "      <td>12</td>\n",
       "    </tr>\n",
       "    <tr>\n",
       "      <th>750</th>\n",
       "      <td>CGAGATTG</td>\n",
       "      <td>12</td>\n",
       "    </tr>\n",
       "    <tr>\n",
       "      <th>146</th>\n",
       "      <td>ACCAAAAG</td>\n",
       "      <td>12</td>\n",
       "    </tr>\n",
       "    <tr>\n",
       "      <th>...</th>\n",
       "      <td>...</td>\n",
       "      <td>...</td>\n",
       "    </tr>\n",
       "    <tr>\n",
       "      <th>1045</th>\n",
       "      <td>GAGCATCG</td>\n",
       "      <td>2</td>\n",
       "    </tr>\n",
       "    <tr>\n",
       "      <th>1052</th>\n",
       "      <td>GAGCGTCG</td>\n",
       "      <td>2</td>\n",
       "    </tr>\n",
       "    <tr>\n",
       "      <th>1081</th>\n",
       "      <td>GATCGAAG</td>\n",
       "      <td>2</td>\n",
       "    </tr>\n",
       "    <tr>\n",
       "      <th>1059</th>\n",
       "      <td>GAGGGAGG</td>\n",
       "      <td>2</td>\n",
       "    </tr>\n",
       "    <tr>\n",
       "      <th>493</th>\n",
       "      <td>CAACGTTC</td>\n",
       "      <td>2</td>\n",
       "    </tr>\n",
       "  </tbody>\n",
       "</table>\n",
       "<p>1230 rows × 2 columns</p>\n",
       "</div>"
      ],
      "text/plain": [
       "             0   1\n",
       "474   ATTGGATA  14\n",
       "1915  TGGGGGCG  13\n",
       "397   ATCATGCG  12\n",
       "750   CGAGATTG  12\n",
       "146   ACCAAAAG  12\n",
       "...        ...  ..\n",
       "1045  GAGCATCG   2\n",
       "1052  GAGCGTCG   2\n",
       "1081  GATCGAAG   2\n",
       "1059  GAGGGAGG   2\n",
       "493   CAACGTTC   2\n",
       "\n",
       "[1230 rows x 2 columns]"
      ]
     },
     "execution_count": 78,
     "metadata": {},
     "output_type": "execute_result"
    }
   ],
   "source": [
    "umi_cnt_high"
   ]
  },
  {
   "cell_type": "code",
   "execution_count": 29,
   "metadata": {},
   "outputs": [],
   "source": [
    "umi_cnt=sort_cnt(sub_quad.a_bumi)"
   ]
  },
  {
   "cell_type": "code",
   "execution_count": 71,
   "metadata": {},
   "outputs": [],
   "source": [
    "umi_cnt_high=umi_cnt[umi_cnt[1]>1]"
   ]
  },
  {
   "cell_type": "code",
   "execution_count": 74,
   "metadata": {},
   "outputs": [
    {
     "data": {
      "text/html": [
       "<div>\n",
       "<style scoped>\n",
       "    .dataframe tbody tr th:only-of-type {\n",
       "        vertical-align: middle;\n",
       "    }\n",
       "\n",
       "    .dataframe tbody tr th {\n",
       "        vertical-align: top;\n",
       "    }\n",
       "\n",
       "    .dataframe thead th {\n",
       "        text-align: right;\n",
       "    }\n",
       "</style>\n",
       "<table border=\"1\" class=\"dataframe\">\n",
       "  <thead>\n",
       "    <tr style=\"text-align: right;\">\n",
       "      <th></th>\n",
       "      <th>0</th>\n",
       "      <th>1</th>\n",
       "    </tr>\n",
       "  </thead>\n",
       "  <tbody>\n",
       "    <tr>\n",
       "      <th>474</th>\n",
       "      <td>ATTGGATA</td>\n",
       "      <td>14</td>\n",
       "    </tr>\n",
       "    <tr>\n",
       "      <th>1915</th>\n",
       "      <td>TGGGGGCG</td>\n",
       "      <td>13</td>\n",
       "    </tr>\n",
       "    <tr>\n",
       "      <th>397</th>\n",
       "      <td>ATCATGCG</td>\n",
       "      <td>12</td>\n",
       "    </tr>\n",
       "    <tr>\n",
       "      <th>750</th>\n",
       "      <td>CGAGATTG</td>\n",
       "      <td>12</td>\n",
       "    </tr>\n",
       "    <tr>\n",
       "      <th>146</th>\n",
       "      <td>ACCAAAAG</td>\n",
       "      <td>12</td>\n",
       "    </tr>\n",
       "    <tr>\n",
       "      <th>...</th>\n",
       "      <td>...</td>\n",
       "      <td>...</td>\n",
       "    </tr>\n",
       "    <tr>\n",
       "      <th>1045</th>\n",
       "      <td>GAGCATCG</td>\n",
       "      <td>2</td>\n",
       "    </tr>\n",
       "    <tr>\n",
       "      <th>1052</th>\n",
       "      <td>GAGCGTCG</td>\n",
       "      <td>2</td>\n",
       "    </tr>\n",
       "    <tr>\n",
       "      <th>1081</th>\n",
       "      <td>GATCGAAG</td>\n",
       "      <td>2</td>\n",
       "    </tr>\n",
       "    <tr>\n",
       "      <th>1059</th>\n",
       "      <td>GAGGGAGG</td>\n",
       "      <td>2</td>\n",
       "    </tr>\n",
       "    <tr>\n",
       "      <th>493</th>\n",
       "      <td>CAACGTTC</td>\n",
       "      <td>2</td>\n",
       "    </tr>\n",
       "  </tbody>\n",
       "</table>\n",
       "<p>1230 rows × 2 columns</p>\n",
       "</div>"
      ],
      "text/plain": [
       "             0   1\n",
       "474   ATTGGATA  14\n",
       "1915  TGGGGGCG  13\n",
       "397   ATCATGCG  12\n",
       "750   CGAGATTG  12\n",
       "146   ACCAAAAG  12\n",
       "...        ...  ..\n",
       "1045  GAGCATCG   2\n",
       "1052  GAGCGTCG   2\n",
       "1081  GATCGAAG   2\n",
       "1059  GAGGGAGG   2\n",
       "493   CAACGTTC   2\n",
       "\n",
       "[1230 rows x 2 columns]"
      ]
     },
     "execution_count": 74,
     "metadata": {},
     "output_type": "execute_result"
    }
   ],
   "source": [
    "for umi_cnt_high"
   ]
  },
  {
   "cell_type": "code",
   "execution_count": null,
   "metadata": {},
   "outputs": [],
   "source": []
  },
  {
   "cell_type": "code",
   "execution_count": null,
   "metadata": {},
   "outputs": [],
   "source": []
  },
  {
   "cell_type": "code",
   "execution_count": 61,
   "metadata": {},
   "outputs": [],
   "source": [
    "target_cnt=sub_quad[sub_quad.a_bumi=='TGGGGGCG'].t_bc.value_counts()"
   ]
  },
  {
   "cell_type": "code",
   "execution_count": 70,
   "metadata": {},
   "outputs": [
    {
     "data": {
      "text/plain": [
       "t_bc\n",
       "TGCAGCTTTAACGG    7\n",
       "GTGAAAACGCCAAT    6\n",
       "Name: count, dtype: int64"
      ]
     },
     "execution_count": 70,
     "metadata": {},
     "output_type": "execute_result"
    }
   ],
   "source": [
    "target_cnt"
   ]
  },
  {
   "cell_type": "code",
   "execution_count": null,
   "metadata": {},
   "outputs": [],
   "source": []
  },
  {
   "cell_type": "code",
   "execution_count": 68,
   "metadata": {},
   "outputs": [
    {
     "data": {
      "text/plain": [
       "7"
      ]
     },
     "execution_count": 68,
     "metadata": {},
     "output_type": "execute_result"
    }
   ],
   "source": [
    "target_cnt[0]"
   ]
  },
  {
   "cell_type": "code",
   "execution_count": null,
   "metadata": {},
   "outputs": [],
   "source": [
    "target_cnt[0]"
   ]
  },
  {
   "cell_type": "code",
   "execution_count": null,
   "metadata": {},
   "outputs": [],
   "source": []
  },
  {
   "cell_type": "code",
   "execution_count": 66,
   "metadata": {},
   "outputs": [
    {
     "data": {
      "text/plain": [
       "t_bc\n",
       "TGCAGCTTTAACGG    7\n",
       "GTGAAAACGCCAAT    6\n",
       "Name: count, dtype: int64"
      ]
     },
     "execution_count": 66,
     "metadata": {},
     "output_type": "execute_result"
    }
   ],
   "source": [
    "target_cnt"
   ]
  },
  {
   "cell_type": "code",
   "execution_count": null,
   "metadata": {},
   "outputs": [],
   "source": []
  },
  {
   "cell_type": "code",
   "execution_count": null,
   "metadata": {},
   "outputs": [],
   "source": []
  },
  {
   "cell_type": "code",
   "execution_count": null,
   "metadata": {},
   "outputs": [],
   "source": []
  },
  {
   "cell_type": "code",
   "execution_count": 54,
   "metadata": {},
   "outputs": [
    {
     "data": {
      "text/plain": [
       "t_bc\n",
       "TAGAAAAACGAATT    10\n",
       "Name: count, dtype: int64"
      ]
     },
     "execution_count": 54,
     "metadata": {},
     "output_type": "execute_result"
    }
   ],
   "source": [
    "sub_quad[sub_quad.a_bumi=='TAGGGGTA'].t_bc.value_counts()"
   ]
  },
  {
   "cell_type": "code",
   "execution_count": null,
   "metadata": {},
   "outputs": [],
   "source": []
  },
  {
   "cell_type": "code",
   "execution_count": null,
   "metadata": {},
   "outputs": [],
   "source": []
  },
  {
   "cell_type": "code",
   "execution_count": null,
   "metadata": {},
   "outputs": [],
   "source": []
  },
  {
   "cell_type": "code",
   "execution_count": null,
   "metadata": {},
   "outputs": [],
   "source": []
  },
  {
   "cell_type": "code",
   "execution_count": null,
   "metadata": {},
   "outputs": [],
   "source": []
  },
  {
   "cell_type": "code",
   "execution_count": null,
   "metadata": {},
   "outputs": [],
   "source": []
  },
  {
   "cell_type": "code",
   "execution_count": null,
   "metadata": {},
   "outputs": [],
   "source": []
  },
  {
   "cell_type": "code",
   "execution_count": null,
   "metadata": {},
   "outputs": [],
   "source": []
  },
  {
   "cell_type": "code",
   "execution_count": null,
   "metadata": {},
   "outputs": [],
   "source": []
  },
  {
   "cell_type": "code",
   "execution_count": null,
   "metadata": {},
   "outputs": [],
   "source": []
  },
  {
   "cell_type": "code",
   "execution_count": null,
   "metadata": {},
   "outputs": [],
   "source": []
  },
  {
   "cell_type": "code",
   "execution_count": null,
   "metadata": {},
   "outputs": [],
   "source": []
  },
  {
   "cell_type": "code",
   "execution_count": null,
   "metadata": {},
   "outputs": [],
   "source": []
  },
  {
   "cell_type": "code",
   "execution_count": null,
   "metadata": {},
   "outputs": [],
   "source": []
  },
  {
   "cell_type": "code",
   "execution_count": null,
   "metadata": {},
   "outputs": [],
   "source": []
  },
  {
   "cell_type": "code",
   "execution_count": null,
   "metadata": {},
   "outputs": [],
   "source": []
  },
  {
   "cell_type": "markdown",
   "metadata": {},
   "source": [
    "# python csv writer"
   ]
  },
  {
   "cell_type": "code",
   "execution_count": null,
   "metadata": {},
   "outputs": [],
   "source": [
    "import csv\n",
    "\n",
    "\n",
    "with open('mycsvfile.csv','w') as f:\n",
    "    w = csv.writer(f)\n",
    "    w.writerows([('bc','cnt')])\n",
    "    w.writerows(raw_anchors.items())"
   ]
  },
  {
   "cell_type": "code",
   "execution_count": 102,
   "metadata": {},
   "outputs": [],
   "source": [
    "import csv\n",
    "\n",
    "\n",
    "with open('mycsvfile2.csv','w') as f:\n",
    "    w = csv.DictWriter(f, raw_anchors.keys())\n",
    "    w.writeheader()\n",
    "    w.writerow(raw_anchors)"
   ]
  },
  {
   "cell_type": "code",
   "execution_count": null,
   "metadata": {},
   "outputs": [],
   "source": [
    "bcs=pd.DataFrame(pd.Series(raw_anchors))n"
   ]
  },
  {
   "cell_type": "markdown",
   "metadata": {},
   "source": [
    "# extract_bc_umi (moved to script)"
   ]
  },
  {
   "cell_type": "code",
   "execution_count": 26,
   "metadata": {},
   "outputs": [],
   "source": [
    "UP_seq='TCTTCAGCGTTCCCGAGA'"
   ]
  },
  {
   "cell_type": "code",
   "execution_count": null,
   "metadata": {},
   "outputs": [],
   "source": [
    "os.listdir(f'{fastq_dir}/{sample}/split/')"
   ]
  },
  {
   "cell_type": "code",
   "execution_count": null,
   "metadata": {},
   "outputs": [],
   "source": [
    "fqs=sorted([f'{outdir}/split/'+f for f in os.listdir(f'{fastq_dir}/{sample}/split/') if f.endswith('gz')])"
   ]
  },
  {
   "cell_type": "code",
   "execution_count": null,
   "metadata": {},
   "outputs": [],
   "source": [
    "for i in range(int(cores)): align_trns(i)\n",
    "\n",
    "args=[]\n",
    "\n",
    "for i in range(int(cores)): args.append((f'part_00{i+1}',f'{outdir}/split'))"
   ]
  },
  {
   "cell_type": "code",
   "execution_count": null,
   "metadata": {},
   "outputs": [],
   "source": [
    "pool = Pool(int(cores))\n",
    "results = pool.starmap(utils.decon_5p10XTCR, args)\n",
    "pool.close()"
   ]
  },
  {
   "cell_type": "code",
   "execution_count": 128,
   "metadata": {},
   "outputs": [],
   "source": [
    "#R1_fastq = f'{fastq_dir}/{sample}/split/{sample}_R1_001.part_001.fastq.gz'\n",
    "R2_fastq = f'{fastq_dir}/{sample}/split/{sample}_R2_001.part_001.fastq.gz'"
   ]
  },
  {
   "cell_type": "code",
   "execution_count": 130,
   "metadata": {},
   "outputs": [
    {
     "data": {
      "text/plain": [
       "'/Users/mborji/reconstruct/230803/fastq//c55_32_rec_S1/split/c55_32_rec_S1.part_001.csv'"
      ]
     },
     "execution_count": 130,
     "metadata": {},
     "output_type": "execute_result"
    }
   ],
   "source": [
    "R2_fastq"
   ]
  },
  {
   "cell_type": "code",
   "execution_count": null,
   "metadata": {},
   "outputs": [],
   "source": [
    "all_bc_umi"
   ]
  },
  {
   "cell_type": "code",
   "execution_count": 351,
   "metadata": {},
   "outputs": [
    {
     "data": {
      "text/plain": [
       "array(['c55_32_rec_S1', 'c55_34_rec_S4', 'c55_4_rec_S1', 'c55_5_rec_S2'],\n",
       "      dtype='<U13')"
      ]
     },
     "execution_count": 351,
     "metadata": {},
     "output_type": "execute_result"
    }
   ],
   "source": [
    "samples"
   ]
  },
  {
   "cell_type": "markdown",
   "metadata": {},
   "source": [
    "# aggregate csvs (done above)"
   ]
  },
  {
   "cell_type": "code",
   "execution_count": 352,
   "metadata": {},
   "outputs": [
    {
     "data": {
      "text/plain": [
       "array(['c55_32_rec_S1', 'c55_34_rec_S4', 'c55_4_rec_S1', 'c55_5_rec_S2'],\n",
       "      dtype='<U13')"
      ]
     },
     "execution_count": 352,
     "metadata": {},
     "output_type": "execute_result"
    }
   ],
   "source": [
    "samples"
   ]
  },
  {
   "cell_type": "code",
   "execution_count": 353,
   "metadata": {},
   "outputs": [],
   "source": [
    "samples=['c55_32_rec_S1', 'c55_34_rec_S4', 'c55_4_rec_S1', 'c55_5_rec_S2']"
   ]
  },
  {
   "cell_type": "code",
   "execution_count": 354,
   "metadata": {},
   "outputs": [
    {
     "name": "stdout",
     "output_type": "stream",
     "text": [
      "c55_32_rec_S1 (7710908, 4)\n",
      "c55_34_rec_S4 (7167354, 4)\n",
      "c55_4_rec_S1 (10773322, 4)\n",
      "c55_5_rec_S2 (10649318, 4)\n"
     ]
    }
   ],
   "source": [
    "for sample in samples:\n",
    "    \n",
    "    files = os.listdir(f'{fastq_dir}/{sample}/split/')\n",
    "\n",
    "    csv_files = [f for f in files if '.csv.gz' in f]\n",
    "\n",
    "    all_csvs=[]\n",
    "    for csv in csv_files:\n",
    "        all_csvs.append(pd.read_csv(f'{fastq_dir}/{sample}/split/{csv}',names = ['a_bc','a_bumi','t_bc','t_bumi']))\n",
    "\n",
    "    all_bc_umi = pd.concat(all_csvs)\n",
    "    \n",
    "    print(sample,all_bc_umi.shape)\n",
    "    \n",
    "    all_bc_umi_name = f'{fastq_dir}/{sample}/{sample}_all_bc_umi.csv'\n",
    "    all_bc_umi.to_csv(all_bc_umi_name,index=None)\n",
    "    subprocess.call([ 'pigz', '-f', all_bc_umi_name ])\n",
    "\n",
    "    a_bc_cnt=sort_cnt(all_bc_umi.a_bc)\n",
    "    a_bc_cnt=a_bc_cnt[a_bc_cnt[1]>3]\n",
    "    a_bc_cnt.columns=['bc','read_cnt']\n",
    "    a_bc_cnt_name = f'{fastq_dir}/{sample}/{sample}_a_bc_cnt.csv'\n",
    "    a_bc_cnt.to_csv(a_bc_cnt_name, index=None)\n",
    "    subprocess.call([ 'pigz', '-f', a_bc_cnt_name ])\n",
    "\n",
    "    t_bc_cnt=sort_cnt(all_bc_umi.t_bc)\n",
    "    t_bc_cnt=t_bc_cnt[t_bc_cnt[1]>3]\n",
    "    t_bc_cnt.columns=['bc','read_cnt']\n",
    "    t_bc_cnt_name = f'{fastq_dir}/{sample}/{sample}_t_bc_cnt.csv'\n",
    "    t_bc_cnt.to_csv(t_bc_cnt_name,index=None)\n",
    "    subprocess.call([ 'pigz', '-f', t_bc_cnt_name ])"
   ]
  },
  {
   "cell_type": "code",
   "execution_count": 356,
   "metadata": {},
   "outputs": [
    {
     "data": {
      "text/plain": [
       "('c55_32_rec_S1', 33.484239291624675)"
      ]
     },
     "execution_count": 356,
     "metadata": {},
     "output_type": "execute_result"
    }
   ],
   "source": [
    "'c55_32_rec_S1',7710908/2302847*10"
   ]
  },
  {
   "cell_type": "code",
   "execution_count": 355,
   "metadata": {},
   "outputs": [
    {
     "data": {
      "text/plain": [
       "('c55_34_rec_S4', 31.594650994871575)"
      ]
     },
     "execution_count": 355,
     "metadata": {},
     "output_type": "execute_result"
    }
   ],
   "source": [
    "'c55_34_rec_S4',7167354/2268534*10"
   ]
  },
  {
   "cell_type": "code",
   "execution_count": 359,
   "metadata": {},
   "outputs": [
    {
     "data": {
      "text/plain": [
       "('c55_4_rec_S1', 35.79306360263544)"
      ]
     },
     "execution_count": 359,
     "metadata": {},
     "output_type": "execute_result"
    }
   ],
   "source": [
    "'c55_4_rec_S1',10773322/3009891*10"
   ]
  },
  {
   "cell_type": "code",
   "execution_count": 360,
   "metadata": {},
   "outputs": [
    {
     "data": {
      "text/plain": [
       "('c55_5_rec_S2', 41.95998376655359)"
      ]
     },
     "execution_count": 360,
     "metadata": {},
     "output_type": "execute_result"
    }
   ],
   "source": [
    "'c55_5_rec_S2',10649318/2537970*10"
   ]
  },
  {
   "cell_type": "code",
   "execution_count": 296,
   "metadata": {},
   "outputs": [],
   "source": [
    "all_bc_umi2=pd.read_csv(f'{fastq_dir}/{sample}/all_bc_umi.csv',dtype='str',engine='c')\n",
    "\n",
    "all_bc_umi2"
   ]
  },
  {
   "cell_type": "markdown",
   "metadata": {},
   "source": [
    "# make rank/histogram plots (done above)"
   ]
  },
  {
   "cell_type": "code",
   "execution_count": 2,
   "metadata": {},
   "outputs": [
    {
     "data": {
      "text/plain": [
       "array(['c55_32_rec_S1', 'c55_34_rec_S4', 'c55_4_rec_S1', 'c55_5_rec_S2'],\n",
       "      dtype='<U13')"
      ]
     },
     "execution_count": 2,
     "metadata": {},
     "output_type": "execute_result"
    }
   ],
   "source": [
    "fastq_dir='/Users/mborji/reconstruct/230803/fastq/'\n",
    "files=sorted(os.listdir(fastq_dir))\n",
    "samples=np.unique([f.split('_R')[0] for f in files if 'fastq.gz' in f])\n",
    "samples"
   ]
  },
  {
   "cell_type": "code",
   "execution_count": 23,
   "metadata": {},
   "outputs": [
    {
     "name": "stdout",
     "output_type": "stream",
     "text": [
      "32\n",
      "34\n",
      "4\n",
      "5\n"
     ]
    },
    {
     "data": {
      "image/png": "[encoded data removed]",
      "text/plain": [
       "<Figure size 432x288 with 1 Axes>"
      ]
     },
     "metadata": {
      "needs_background": "light"
     },
     "output_type": "display_data"
    }
   ],
   "source": [
    "for sample in samples:\n",
    "\n",
    "    a_bc_cnt_name = f'{fastq_dir}/{sample}/{sample}_a_bc_cnt.csv.gz'\n",
    "    a_bc_cnt=pd.read_csv(a_bc_cnt_name, index_col=0)\n",
    "    plt.plot(np.log10(np.arange(1,len(a_bc_cnt)+1)),np.log10(a_bc_cnt['read_cnt']));\n",
    "    print(sample.split('_')[1])\n",
    "    plt.legend(sample.split('_')[1])\n",
    "    "
   ]
  },
  {
   "cell_type": "code",
   "execution_count": 205,
   "metadata": {},
   "outputs": [
    {
     "name": "stdout",
     "output_type": "stream",
     "text": [
      "(array([110]),)\n",
      "(array([56]),)\n"
     ]
    }
   ],
   "source": [
    "from scipy.signal import argrelextrema\n",
    "\n",
    "print(argrelextrema(smooth, np.greater))\n",
    "print(argrelextrema(smooth, np.less))\n"
   ]
  },
  {
   "cell_type": "code",
   "execution_count": 184,
   "metadata": {},
   "outputs": [],
   "source": [
    "hist=pd.DataFrame([a[0],a[1]]).T"
   ]
  },
  {
   "cell_type": "code",
   "execution_count": 46,
   "metadata": {},
   "outputs": [],
   "source": [
    "from scipy.interpolate import CubicSpline"
   ]
  },
  {
   "cell_type": "code",
   "execution_count": 60,
   "metadata": {},
   "outputs": [],
   "source": [
    "from scipy.interpolate import UnivariateSpline"
   ]
  },
  {
   "cell_type": "code",
   "execution_count": 66,
   "metadata": {},
   "outputs": [],
   "source": [
    "from scipy.interpolate import InterpolatedUnivariateSpline"
   ]
  },
  {
   "cell_type": "code",
   "execution_count": 76,
   "metadata": {},
   "outputs": [],
   "source": [
    "cs = CubicSpline(a[1][:-1], a[0])"
   ]
  },
  {
   "cell_type": "code",
   "execution_count": 78,
   "metadata": {},
   "outputs": [],
   "source": [
    "cs = UnivariateSpline(a[1][:-1], a[0])"
   ]
  },
  {
   "cell_type": "code",
   "execution_count": 80,
   "metadata": {},
   "outputs": [],
   "source": [
    "cs = InterpolatedUnivariateSpline(a[1][:-1], a[0])"
   ]
  },
  {
   "cell_type": "code",
   "execution_count": 68,
   "metadata": {},
   "outputs": [],
   "source": [
    "xs=a[1][:-1]\n",
    "ys=a[0]"
   ]
  },
  {
   "cell_type": "code",
   "execution_count": 77,
   "metadata": {},
   "outputs": [
    {
     "data": {
      "text/plain": [
       "[<matplotlib.lines.Line2D at 0x7ff46d065c40>]"
      ]
     },
     "execution_count": 77,
     "metadata": {},
     "output_type": "execute_result"
    },
    {
     "data": {
      "image/png": "[encoded data removed]",
      "text/plain": [
       "<Figure size 432x288 with 1 Axes>"
      ]
     },
     "metadata": {
      "needs_background": "light"
     },
     "output_type": "display_data"
    }
   ],
   "source": [
    "x_range = np.arange(xs[0], xs[-1], (xs[-1]-xs[0])/200)\n",
    "plt.plot(x_range, cs(x_range), label='Cubic Spline')"
   ]
  },
  {
   "cell_type": "code",
   "execution_count": null,
   "metadata": {},
   "outputs": [
    {
     "name": "stdout",
     "output_type": "stream",
     "text": [
      "32\n",
      "(35611, 1) (40351, 1)\n",
      "34\n",
      "(34622, 1) (39825, 1)\n",
      "4\n",
      "(20651, 1) (26205, 1)\n",
      "5\n",
      "(19954, 1) (27766, 1)\n"
     ]
    },
    {
     "data": {
      "image/png": "[encoded data removed]",
      "text/plain": [
       "<Figure size 432x288 with 1 Axes>"
      ]
     },
     "metadata": {
      "needs_background": "light"
     },
     "output_type": "display_data"
    }
   ],
   "source": [
    "cutoff_rank_start=0\n",
    "for sample in samples:\n",
    "\n",
    "    t_bc_cnt_name = f'{fastq_dir}/{sample}/{sample}_t_bc_cnt.csv.gz'\n",
    "    t_bc_cnt=pd.read_csv(t_bc_cnt_name, index_col=0)\n",
    "    df_sub=t_bc_cnt.iloc[cutoff_rank_start:].copy()\n",
    "    plt.plot(np.log10(np.arange(1,len(df_sub)+1)),np.log10(df_sub['read_cnt']));\n",
    "    print(sample.split('_')[1])\n",
    "    #plt.legend(sample.split('_')[1])\n",
    "    print(t_bc_cnt[t_bc_cnt.read_cnt>50].shape,t_bc_cnt[t_bc_cnt.read_cnt>18].shape)\n",
    "    "
   ]
  },
  {
   "cell_type": "code",
   "execution_count": 295,
   "metadata": {},
   "outputs": [
    {
     "data": {
      "text/plain": [
       "19.952623149688797"
      ]
     },
     "execution_count": 295,
     "metadata": {},
     "output_type": "execute_result"
    }
   ],
   "source": [
    "10**1.3"
   ]
  },
  {
   "cell_type": "code",
   "execution_count": null,
   "metadata": {},
   "outputs": [],
   "source": [
    "plt.ylabel('log10 UMI counts')\n",
    "plt.xlabel('log10 cell rank')\n",
    "plt.title('library knee plot')\n",
    "plt.savefig(f'{outdir}/{sample}_knee.pdf',bbox_inches='tight');"
   ]
  },
  {
   "cell_type": "code",
   "execution_count": 211,
   "metadata": {},
   "outputs": [
    {
     "data": {
      "text/plain": [
       "'/Users/mborji/reconstruct/230803/fastq//c55_32_rec_S1/all_bc_umi.csv'"
      ]
     },
     "execution_count": 211,
     "metadata": {},
     "output_type": "execute_result"
    }
   ],
   "source": [
    "f'{fastq_dir}/{sample}/all_bc_umi.csv'"
   ]
  },
  {
   "cell_type": "markdown",
   "metadata": {},
   "source": [
    "# UP stats (shallow data)"
   ]
  },
  {
   "cell_type": "code",
   "execution_count": 103,
   "metadata": {},
   "outputs": [],
   "source": [
    "bcs=pd.read_csv(f'{fastq_dir}/{sample}_white.csv.gz',names=['a_bc','a_bumi','t_bc','t_bumi'])"
   ]
  },
  {
   "cell_type": "code",
   "execution_count": 183,
   "metadata": {},
   "outputs": [],
   "source": [
    "bcs=pd.read_csv(f'{fastq_dir}/{sample}/split/{sample}.part_001.csv.gz',names=['a_bc','a_bumi','t_bc','t_bumi'])"
   ]
  },
  {
   "cell_type": "code",
   "execution_count": 191,
   "metadata": {},
   "outputs": [],
   "source": [
    "bcs2=pd.read_csv(f'{fastq_dir}/{sample}/split/{sample}.part_002.csv.gz',names=['a_bc','a_bumi','t_bc','t_bumi'])"
   ]
  },
  {
   "cell_type": "code",
   "execution_count": 184,
   "metadata": {},
   "outputs": [],
   "source": [
    "bcs2=pd.read_csv(f'{fastq_dir}/{sample}_white.csv.gz',names=['a_bc','a_bumi','t_bc','t_bumi'])"
   ]
  },
  {
   "cell_type": "code",
   "execution_count": 198,
   "metadata": {},
   "outputs": [
    {
     "data": {
      "text/plain": [
       "TAGCTTCCTCGCCG    188\n",
       "ATACCATGTAGATA    166\n",
       "GATAAATCCACACT    165\n",
       "AAACCACGTTTCTT    156\n",
       "ACTTGCTAGATCAG    153\n",
       "                 ... \n",
       "TCGCCGCTTCGGGA      1\n",
       "CATGGTATTCATTA      1\n",
       "GGATGGATTGTGCC      1\n",
       "GTGAGAATCAACAG      1\n",
       "ATTCTTGGAAACGA      1\n",
       "Name: a_bc, Length: 38803, dtype: int64"
      ]
     },
     "execution_count": 198,
     "metadata": {},
     "output_type": "execute_result"
    }
   ],
   "source": [
    "bcs2[bcs2.a_bc.isin(set(bcs2.a_bc) & set(bcs.a_bc))].a_bc.value_counts()"
   ]
  },
  {
   "cell_type": "code",
   "execution_count": null,
   "metadata": {},
   "outputs": [
    {
     "name": "stderr",
     "output_type": "stream",
     "text": [
      "100000it [00:01, 82323.56it/s]\n",
      "100000it [00:01, 76863.83it/s]\n",
      "100000it [00:01, 81332.03it/s]\n",
      "100000it [00:01, 76497.45it/s]\n",
      "100000it [00:01, 78020.24it/s]\n",
      "100000it [00:01, 73300.08it/s]\n",
      "100000it [00:01, 83327.90it/s]\n",
      "100000it [00:01, 83355.14it/s]\n"
     ]
    }
   ],
   "source": [
    "for sample in samples:\n",
    "    \n",
    "    for read in ['R1','R2']:\n",
    "        \n",
    "        fastq=f'{fastq_dir}/{sample}_{read}_001.fastq.gz'\n",
    "    \n",
    "        i=0;seqs=[];max_dist=3;starts=[];ends=[];eds=[]\n",
    "        \n",
    "        fh= pysam.FastxFile(fastq) as fh:\n",
    "            for entry in tqdm(fh):\n",
    "                i+=1\n",
    "                #seqs.append(len(entry.sequence))\n",
    "                #name=int(entry.name.split('/')[-2])\n",
    "\n",
    "                ed=edlib.align(slseq,entry.sequence,'HW','locations',max_dist,ad_seq)\n",
    "\n",
    "                if ed['editDistance']>-1 and ed['editDistance']<=max_dist:\n",
    "                    #print(ed,entry.sequence)\n",
    "                    #if ed['editDistance']==1 and ed['locations'][0][1]==24:print(ed,entry.sequence)\n",
    "                    eds.append([ ed['editDistance'], ed['locations'][0][0], ed['locations'][0][1] ])\n",
    "                if i>100000: break\n",
    "        \n",
    "        eds=pd.DataFrame(eds)\n",
    "        eds.to_csv(f'read_stats_{sample}_{read}.csv.gz',compression='infer',index=None)"
   ]
  },
  {
   "cell_type": "code",
   "execution_count": 181,
   "metadata": {},
   "outputs": [
    {
     "name": "stdout",
     "output_type": "stream",
     "text": [
      "read_stats_c55_32_rec_S1_R1\n",
      "% reads UP_dist=0    56.035\n",
      "% reads UP_dist=1     7.926\n",
      "% reads UP_dist=2     1.284\n",
      "% reads UP_dist=3     1.184\n",
      "\n",
      "read_stats_c55_32_rec_S1_R2\n",
      "% reads UP_dist=0    46.581\n",
      "% reads UP_dist=1    11.366\n",
      "% reads UP_dist=2     2.358\n",
      "% reads UP_dist=3     1.084\n",
      "\n",
      "---------------------------\n",
      "read_stats_c55_34_rec_S4_R1\n",
      "% reads UP_dist=0    51.744\n",
      "% reads UP_dist=1     7.843\n",
      "% reads UP_dist=2     1.080\n",
      "% reads UP_dist=3     0.897\n",
      "\n",
      "read_stats_c55_34_rec_S4_R2\n",
      "% reads UP_dist=0    48.869\n",
      "% reads UP_dist=1    11.928\n",
      "% reads UP_dist=2     2.319\n",
      "% reads UP_dist=3     1.104\n",
      "\n",
      "---------------------------\n",
      "read_stats_c55_4_rec_S1_R1\n",
      "% reads UP_dist=0    55.118\n",
      "% reads UP_dist=1     8.389\n",
      "% reads UP_dist=2     1.063\n",
      "% reads UP_dist=3     0.845\n",
      "\n",
      "read_stats_c55_4_rec_S1_R2\n",
      "% reads UP_dist=0    51.340\n",
      "% reads UP_dist=1    11.691\n",
      "% reads UP_dist=2     2.250\n",
      "% reads UP_dist=3     1.057\n",
      "\n",
      "---------------------------\n",
      "read_stats_c55_5_rec_S2_R1\n",
      "% reads UP_dist=0    60.254\n",
      "% reads UP_dist=1     8.878\n",
      "% reads UP_dist=2     1.562\n",
      "% reads UP_dist=3     1.214\n",
      "\n",
      "read_stats_c55_5_rec_S2_R2\n",
      "% reads UP_dist=0    49.042\n",
      "% reads UP_dist=1    13.980\n",
      "% reads UP_dist=2     2.829\n",
      "% reads UP_dist=3     1.177\n",
      "\n",
      "---------------------------\n"
     ]
    }
   ],
   "source": [
    "for sample in samples:\n",
    "    \n",
    "    for read in ['R1','R2']:\n",
    "        \n",
    "        stats=pd.read_csv(f'read_stats_{sample}_{read}.csv.gz')\n",
    "        \n",
    "        print(f'read_stats_{sample}_{read}')\n",
    "        edit_cnts=stats['0'].value_counts()/1e5*100\n",
    "        edit_cnts.index='% reads UP_dist='+edit_cnts.index.astype('str')\n",
    "        print(edit_cnts.to_string())\n",
    "        print()\n",
    "    print(27*'-')\n",
    "        "
   ]
  },
  {
   "cell_type": "code",
   "execution_count": 121,
   "metadata": {},
   "outputs": [
    {
     "data": {
      "text/plain": [
       "25    5794\n",
       "24    1414\n",
       "26     247\n",
       "23      92\n",
       "16      74\n",
       "Name: 2, dtype: int64"
      ]
     },
     "execution_count": 121,
     "metadata": {},
     "output_type": "execute_result"
    }
   ],
   "source": [
    "eds[eds[0]==1][2].value_counts().head()"
   ]
  },
  {
   "cell_type": "code",
   "execution_count": 71,
   "metadata": {},
   "outputs": [],
   "source": [
    "ends['category']=ends[0].astype('str')+'_'+ends[1].astype('str')"
   ]
  },
  {
   "cell_type": "code",
   "execution_count": 73,
   "metadata": {},
   "outputs": [],
   "source": [
    "sort_cnt(ends.category).to_csv(f'18milion_perfectUP_{sample}_R2.csv')"
   ]
  },
  {
   "cell_type": "code",
   "execution_count": 79,
   "metadata": {},
   "outputs": [],
   "source": [
    "cats=pd.read_csv(f'18milion_perfectUP_{sample}_R2.csv',index_col=0)"
   ]
  },
  {
   "cell_type": "code",
   "execution_count": 81,
   "metadata": {},
   "outputs": [],
   "source": [
    "cats.to_csv(f'18milion_perfectUP_{sample}_R2.csv',index=None)"
   ]
  },
  {
   "cell_type": "code",
   "execution_count": 89,
   "metadata": {},
   "outputs": [
    {
     "data": {
      "text/plain": [
       "0.04509874444444444"
      ]
     },
     "execution_count": 89,
     "metadata": {},
     "output_type": "execute_result"
    }
   ],
   "source": [
    "8117774/18e7"
   ]
  },
  {
   "cell_type": "code",
   "execution_count": 88,
   "metadata": {},
   "outputs": [
    {
     "data": {
      "text/plain": [
       "31    8117774\n",
       "30     135389\n",
       "29      22322\n",
       "32      18117\n",
       "9        9080\n",
       "27       7433\n",
       "28       6424\n",
       "10       4150\n",
       "17       3311\n",
       "26       2851\n",
       "0        2116\n",
       "7        2011\n",
       "12       1950\n",
       "19       1742\n",
       "18       1716\n",
       "8        1479\n",
       "16       1472\n",
       "15       1278\n",
       "13       1269\n",
       "14       1216\n",
       "22       1209\n",
       "20       1121\n",
       "11       1047\n",
       "1        1012\n",
       "21        724\n",
       "23        604\n",
       "3         553\n",
       "6         538\n",
       "2         493\n",
       "24        394\n",
       "5         335\n",
       "4         330\n",
       "25        323\n",
       "Name: 1, dtype: int64"
      ]
     },
     "execution_count": 88,
     "metadata": {},
     "output_type": "execute_result"
    }
   ],
   "source": [
    "cats['1']"
   ]
  },
  {
   "cell_type": "code",
   "execution_count": 58,
   "metadata": {},
   "outputs": [],
   "source": [
    "starts=np.array(starts)\n",
    "ends=np.array(ends)"
   ]
  },
  {
   "cell_type": "code",
   "execution_count": null,
   "metadata": {},
   "outputs": [
    {
     "data": {
      "text/plain": [
       "<AxesSubplot:ylabel='Count'>"
      ]
     },
     "execution_count": 59,
     "metadata": {},
     "output_type": "execute_result"
    },
    {
     "data": {
      "image/png": "[encoded data removed]",
      "text/plain": [
       "<Figure size 640x480 with 1 Axes>"
      ]
     },
     "metadata": {},
     "output_type": "display_data"
    }
   ],
   "source": [
    "sns.histplot(eds)"
   ]
  },
  {
   "cell_type": "markdown",
   "metadata": {},
   "source": [
    "# test new data"
   ]
  },
  {
   "cell_type": "code",
   "execution_count": 61,
   "metadata": {},
   "outputs": [
    {
     "name": "stdout",
     "output_type": "stream",
     "text": [
      "TCTTCAGCGTTCCCGAGA\n",
      "1000000\n"
     ]
    },
    {
     "data": {
      "text/plain": [
       "<module 'run_bc_umi_extract' from '/Users/mborji/reconstruct/run_bc_umi_extract.py'>"
      ]
     },
     "execution_count": 61,
     "metadata": {},
     "output_type": "execute_result"
    }
   ],
   "source": [
    "import importlib\n",
    "importlib.reload(run_bc_umi_extract)"
   ]
  },
  {
   "cell_type": "code",
   "execution_count": 25,
   "metadata": {},
   "outputs": [],
   "source": [
    "fastq_dir='/Users/mborji/reconstruct/all_fastq/'"
   ]
  },
  {
   "cell_type": "code",
   "execution_count": 62,
   "metadata": {},
   "outputs": [],
   "source": [
    "files=sorted(os.listdir(fastq_dir))\n",
    "samples=np.unique([f.split('_R')[0] for f in files if 'fastq.gz' in f])"
   ]
  },
  {
   "cell_type": "code",
   "execution_count": 64,
   "metadata": {},
   "outputs": [],
   "source": [
    "sub_samples=['c55_32_S2', 'c55_32_rec_S1', 'c55_4_S1', 'c55_4_rec_S1']"
   ]
  },
  {
   "cell_type": "code",
   "execution_count": 71,
   "metadata": {},
   "outputs": [
    {
     "data": {
      "text/plain": [
       "['c55_32_S2', 'c55_32_rec_S1', 'c55_4_S1', 'c55_4_rec_S1']"
      ]
     },
     "execution_count": 71,
     "metadata": {},
     "output_type": "execute_result"
    }
   ],
   "source": [
    "sub_samples"
   ]
  },
  {
   "cell_type": "code",
   "execution_count": 66,
   "metadata": {},
   "outputs": [
    {
     "name": "stdout",
     "output_type": "stream",
     "text": [
      "c55_32_S2\n"
     ]
    }
   ],
   "source": [
    "samples\n",
    "sample=samples[0]\n",
    "print(sample)"
   ]
  },
  {
   "cell_type": "code",
   "execution_count": 67,
   "metadata": {},
   "outputs": [
    {
     "name": "stderr",
     "output_type": "stream",
     "text": [
      "1000000it [00:16, 61180.15it/s]\n",
      "1000000it [00:16, 61523.68it/s]\n",
      "1000000it [00:16, 60682.70it/s]\n",
      "1000000it [00:16, 60412.93it/s]\n"
     ]
    }
   ],
   "source": [
    "for sample in sub_samples:\n",
    "    R1=f'{fastq_dir}{sample}_R1_001.fastq.gz'\n",
    "    R2=f'{fastq_dir}{sample}_R2_001.fastq.gz'\n",
    "    run_bc_umi_extract.extract_bc_umi(R1,R2)"
   ]
  },
  {
   "cell_type": "code",
   "execution_count": 68,
   "metadata": {},
   "outputs": [
    {
     "name": "stdout",
     "output_type": "stream",
     "text": [
      "c55_32_S2\n",
      "['AAACCACGTTTCTT', 'CAATGTCCGAACAT', 'TAGCTTCCTCGCCG', 'TCAAGTTACGATGA', 'TTCGTAGAAAGTCC', 'ATACCATGTAGATA', 'TCAAGCTGCATTGA', 'GGTGCACGGTCCTT', 'CTAACGACCACATA', 'TATACTGTCGCGCA', 'CTGTTATTCAGCCC', 'TTCTTAGTCAGCCA', 'CTACTTAATCTCCA', 'AAATCCTTCATGCC', 'TATTTAATGAGCCC', 'ACTAGCACGGATCT', 'ACTTGCTAGATCAG', 'TTTATTTTCCACTT', 'TTGGACTTTGCTTT', 'ATTACTCGTTGCCT', 'CTTCGCATGGTATG', 'CTCTTCTAGCTCTA', 'CTGATTGAACGACC', 'TTAAATCCCATTGG', 'TGAAGGTTCGACAG', 'TGCAGCAAATTGCA', 'ACTCCCTTACGCAC', 'TAGCCCGGAGCCGG', 'ACACCAGTGTACGT', 'TTAGAATGTCTAGC', 'CTTCTACTGCCAAT', 'CCACTAAAACGCAC', 'TGAGGTTACCTGTA', 'GTTCTTTAGTCGGC', 'TTTTATAATTACCT', 'CTCACCACGGTTAA', 'GGATAAGCATCGAC', 'CCAGATTTTTCTCC', 'CTTTTAATCGACTG', 'TTCTTGCAGCCATT', 'TAATACCGATGTAG', 'CGACATGTAGGCCT', 'CACAGTTATTTTCC', 'CATGCCCATTCCTC', 'TAATGCCGAGCTAT', 'GAAAGAGGCACAGT', 'ACGGATCGGGACTA', 'ACTAGAGCTGAGGG', 'ATCTACGACTTAAG', 'TCTTTAGAGGCGAC']\n",
      "\n",
      "c55_32_rec_S1\n",
      "['AAACCACGTTTCTT', 'CAATGTCCGAACAT', 'TAGCTTCCTCGCCG', 'ATACCATGTAGATA', 'CTCTTCTAGCTCTA', 'TGAACCACCGAGAC', 'TGAAGGTTCGACAG', 'CTGTTATTCAGCCC', 'TAGAACATACCACT', 'TATTTAATGAGCCC', 'TCAAGTTACGATGA', 'TAATACCGATGTAG', 'CTAACGACCACATA', 'ATATCATTCCGTAG', 'TCTGATCTTGGGCG', 'TTGGACTTTGCTTT', 'TTCGTAGAAAGTCC', 'TCAAGCTGCATTGA', 'TAATGCCGAGCTAT', 'CGACTCAGCCCCCT', 'TTTCACAAGTCTTT', 'CGACATGTAGGCCT', 'TATGTAGGACCCGC', 'CGAGCTATTCGCAG', 'CTTCTACTGCCAAT', 'CTACTTAATCTCCA', 'GATAAATCCACACT', 'AACCCAAGCCGCCC', 'TGAGTTTACGTTAG', 'AAATCCTTCATGCC', 'TATACTGTCGCGCA', 'TTCTTAGTCAGCCA', 'CTTCGCAATAAGGT', 'GAGTTTCAACTGCG', 'CATAGAATGGGTAC', 'TCGTCCTTGAACAT', 'TTTTATAATTACCT', 'TGAGGTTACCTGTA', 'CTCACCACGGTTAA', 'AATCTGCATGGCCG', 'ATCGCCCTATGTAC', 'GTAGATTCACCTCC', 'GGCCACTGTTAAAA', 'TGCCCAGGAATGTC', 'TTCAGGCTTGCCAA', 'CGTGCCTAGGTGCA', 'GTCACAACCCACAA', 'CATAGATAAAGTAG', 'ATTCCCCCCCACCT', 'TCCTTAATTTTGGA']\n",
      "\n",
      "c55_4_S1\n",
      "['ATGCATACGGCTTG', 'TTAATCGATGTCAG', 'TATGAAGCAGCCTC', 'CCCTGCAAGACCAT', 'GAAAACCATCGCAG', 'TCCTCATAGGCCCT', 'TCTATTTCTTCCAT', 'AATTCAGGCGCTAG', 'TTTTATGAGTCTCT', 'CATATAAAGCCACT', 'GATGATTTCTTATT', 'TCCTAATCTGGACT', 'ACTCAAGACGATAG', 'GCAATCGCCATGCG', 'TGAACACCTTACTC', 'CTTTGAGCACTCTC', 'CCTTCACTCGAGGC', 'CTTACCTTCGTCTG', 'TGGACACCACGGGA', 'TTAGTTAATCCTGA', 'CTTTCTCCCTTTGG', 'GAGTCTACCATAGA', 'ATACAACGTGTAAC', 'AGTATAATCAGGAT', 'CCAGCAGAATCCTC', 'CTAACCCATTTTAG', 'GAAGCAACTTAACT', 'TTCTTACAACGCCA', 'ATCAATAGGCTCTC', 'TTCTACAAACTTCC', 'TCTCTACTCCCACT', 'CAAGCTAGTCTTTA', 'ATTTCCCTTTGTGC', 'CTATCATTATCGAT', 'TCAACCTTTAACCC', 'ACAAGACTTTGTTC', 'TCGACATCCTACTT', 'GGTCCTAACGATGA', 'CTTAGTTTTCTTGT', 'CAACCAAAATTGCT', 'ACGATAAACCCGGT', 'GTCCTCTAACAGCA', 'CAACATATCGAGAA', 'TGATACCTGGTAAC', 'AAGCAGATACCTCC', 'TATTAGGACATCCC', 'CACAATAGCCGTAC', 'GTACTCACACGGGA', 'AGTCCACGGTTCTG', 'TCAACCCTGTAACC']\n",
      "\n",
      "c55_4_rec_S1\n",
      "['TTAATCGATGTCAG', 'ATGCATACGGCTTG', 'TATGAAGCAGCCTC', 'TCTATTTCTTCCAT', 'GAAAACCATCGCAG', 'TTTTATGAGTCTCT', 'CATATAAAGCCACT', 'CTTTCTCCCTTTGG', 'GATGATTTCTTATT', 'AATTCAGGCGCTAG', 'CCCTGCAAGACCAT', 'AGGACCATCCGTCG', 'TCGACATCCTACTT', 'TATTAGGACATCCC', 'AGTCCACGGTTCTG', 'TGGACACCACGGGA', 'CTTAGCGTTCCCGC', 'AAAGCCAACCACAG', 'TCCAGACGGAAGAT', 'TCCTCATAGGCCCT', 'AGCATTAACCACAG', 'GGCTTAGAGACATG', 'GGACGACGGAAGCG', 'CAGACATGGCGGGT', 'AGTATAATCAGGAT', 'TCTCTACTCCCACT', 'CAAGCTAGTCTTTA', 'TGAACACCTTACTC', 'TTCTTACAACGCCA', 'TCCCCAACTAAGTT', 'AGTCCACATTTTGC', 'TCGGACATGAGTTG', 'CTACCGTGCAGACA', 'GAGTCTACCATAGA', 'TATTACAGTGACGT', 'TTTACAGTCGGAGT', 'ATCAATAGGCTCTC', 'TCCTAATCTGGACT', 'TTATCTGCCAACAC', 'CTATCATTATCGAT', 'ATACAACGTGTAAC', 'GGATTGCTCGTAAT', 'GATCAAGAATGCCG', 'GAAGCAACTTAACT', 'TCAGGTGTGACGAC', 'AAGGGCTGTACGGC', 'TGTTTTACTGATTA', 'ACGTAAAGCATATG', 'TCAACCTTTAACCC', 'AGTTATTAGTCTTT']\n",
      "\n"
     ]
    }
   ],
   "source": [
    "for sample in sub_samples:\n",
    "    csv=pd.read_csv(f'{fastq_dir}{sample}.csv.gz',names=['a_bc','a_bumi','t_bc','t_bumi'])\n",
    "    print(sample)\n",
    "    #print(sort_cnt(csv.a_bc).head(50)[0].tolist())\n",
    "    print()"
   ]
  },
  {
   "cell_type": "code",
   "execution_count": null,
   "metadata": {},
   "outputs": [],
   "source": [
    "for sample in sub_samples:\n",
    "    csv=pd.read_csv(f'{fastq_dir}{sample}.csv.gz',names=['a_bc','a_bumi','t_bc','t_bumi'])\n",
    "    print(sample,csv.shape)\n",
    "    #print(sort_cnt(csv.a_bc).head(50)[0].tolist())\n",
    "    print()\n",
    "    "
   ]
  },
  {
   "cell_type": "code",
   "execution_count": null,
   "metadata": {},
   "outputs": [],
   "source": [
    "sample=samples[0]\n",
    "\n",
    "parts=np.unique([f.split('.')[-3] for f in os.listdir(f'{fastq_dir}/{sample}/split/')])\n",
    "\n",
    "R1s=[f for f in os.listdir(f'{fastq_dir}/{sample}/split/') if '_R1_001.part' in f]\n",
    "R2s=[f.replace('_R1_','_R2_') for f in R1s]\n",
    "\n",
    "args=[]\n",
    "\n",
    "for i in range(len(R1s)): \n",
    "    args.append((f'{fastq_dir}/{sample}/split/{R1s[i]}',f'{fastq_dir}/{sample}/split/{R2s[i]}'))"
   ]
  },
  {
   "cell_type": "code",
   "execution_count": null,
   "metadata": {},
   "outputs": [],
   "source": []
  },
  {
   "cell_type": "markdown",
   "metadata": {},
   "source": [
    "# chenlei out"
   ]
  },
  {
   "cell_type": "code",
   "execution_count": 34,
   "metadata": {},
   "outputs": [],
   "source": [
    "d=pd.read_csv('/n/data2/dfci/medonc/cwu/meb521/slideseq/reconstruct/chenlei_out/c55_32/c55_32_aligment_statistics.csv')"
   ]
  },
  {
   "cell_type": "code",
   "execution_count": 38,
   "metadata": {},
   "outputs": [],
   "source": [
    "d=pd.read_csv('/n/data2/dfci/medonc/cwu/meb521/slideseq/reconstruct/chenlei_out/c55_32/c55_32_blind_raw_reads_filtered.csv.gz')"
   ]
  },
  {
   "cell_type": "code",
   "execution_count": 2,
   "metadata": {},
   "outputs": [],
   "source": [
    "d2=pd.read_csv('/n/data2/dfci/medonc/cwu/meb521/slideseq/reconstruct/chenlei_out/c55_32/c55_32_raw_matched_reads.csv.gz')"
   ]
  },
  {
   "cell_type": "code",
   "execution_count": 31,
   "metadata": {},
   "outputs": [],
   "source": [
    "d2=pd.read_csv('/n/data2/dfci/medonc/cwu/meb521/slideseq/reconstruct/chenlei_out/c55_4/c55_4_raw_matched_reads.csv.gz')"
   ]
  },
  {
   "cell_type": "code",
   "execution_count": 36,
   "metadata": {},
   "outputs": [],
   "source": [
    "T_rep=4*'T'"
   ]
  },
  {
   "cell_type": "code",
   "execution_count": 44,
   "metadata": {},
   "outputs": [],
   "source": [
    "T_rep='TTGTT'"
   ]
  },
  {
   "cell_type": "code",
   "execution_count": 45,
   "metadata": {},
   "outputs": [],
   "source": [
    "all_umi=[]\n",
    "for umi in d2.P5_bumi:\n",
    "    if T_rep in umi:\n",
    "        all_umi.append(umi)"
   ]
  },
  {
   "cell_type": "code",
   "execution_count": 46,
   "metadata": {},
   "outputs": [
    {
     "data": {
      "text/plain": [
       "13029"
      ]
     },
     "execution_count": 46,
     "metadata": {},
     "output_type": "execute_result"
    }
   ],
   "source": [
    "len(all_umi)"
   ]
  },
  {
   "cell_type": "code",
   "execution_count": 47,
   "metadata": {},
   "outputs": [
    {
     "data": {
      "text/html": [
       "<div>\n",
       "<style scoped>\n",
       "    .dataframe tbody tr th:only-of-type {\n",
       "        vertical-align: middle;\n",
       "    }\n",
       "\n",
       "    .dataframe tbody tr th {\n",
       "        vertical-align: top;\n",
       "    }\n",
       "\n",
       "    .dataframe thead th {\n",
       "        text-align: right;\n",
       "    }\n",
       "</style>\n",
       "<table border=\"1\" class=\"dataframe\">\n",
       "  <thead>\n",
       "    <tr style=\"text-align: right;\">\n",
       "      <th></th>\n",
       "      <th>0</th>\n",
       "      <th>1</th>\n",
       "    </tr>\n",
       "  </thead>\n",
       "  <tbody>\n",
       "    <tr>\n",
       "      <th>107</th>\n",
       "      <td>GCTTGTTC</td>\n",
       "      <td>136</td>\n",
       "    </tr>\n",
       "    <tr>\n",
       "      <th>59</th>\n",
       "      <td>CCTTGTTC</td>\n",
       "      <td>123</td>\n",
       "    </tr>\n",
       "    <tr>\n",
       "      <th>210</th>\n",
       "      <td>TTGTTGGG</td>\n",
       "      <td>120</td>\n",
       "    </tr>\n",
       "    <tr>\n",
       "      <th>80</th>\n",
       "      <td>CTTGTTCG</td>\n",
       "      <td>119</td>\n",
       "    </tr>\n",
       "    <tr>\n",
       "      <th>84</th>\n",
       "      <td>CTTGTTGG</td>\n",
       "      <td>118</td>\n",
       "    </tr>\n",
       "    <tr>\n",
       "      <th>115</th>\n",
       "      <td>GGTTGTTC</td>\n",
       "      <td>117</td>\n",
       "    </tr>\n",
       "    <tr>\n",
       "      <th>108</th>\n",
       "      <td>GCTTGTTG</td>\n",
       "      <td>117</td>\n",
       "    </tr>\n",
       "    <tr>\n",
       "      <th>12</th>\n",
       "      <td>ACTTGTTC</td>\n",
       "      <td>115</td>\n",
       "    </tr>\n",
       "    <tr>\n",
       "      <th>79</th>\n",
       "      <td>CTTGTTCC</td>\n",
       "      <td>114</td>\n",
       "    </tr>\n",
       "    <tr>\n",
       "      <th>139</th>\n",
       "      <td>GTTTGTTC</td>\n",
       "      <td>113</td>\n",
       "    </tr>\n",
       "    <tr>\n",
       "      <th>197</th>\n",
       "      <td>TTGTTCTC</td>\n",
       "      <td>112</td>\n",
       "    </tr>\n",
       "    <tr>\n",
       "      <th>198</th>\n",
       "      <td>TTGTTCTG</td>\n",
       "      <td>110</td>\n",
       "    </tr>\n",
       "    <tr>\n",
       "      <th>128</th>\n",
       "      <td>GTTGTTCG</td>\n",
       "      <td>109</td>\n",
       "    </tr>\n",
       "    <tr>\n",
       "      <th>76</th>\n",
       "      <td>CTTGTTAG</td>\n",
       "      <td>109</td>\n",
       "    </tr>\n",
       "    <tr>\n",
       "      <th>91</th>\n",
       "      <td>CTTTGTTC</td>\n",
       "      <td>109</td>\n",
       "    </tr>\n",
       "    <tr>\n",
       "      <th>116</th>\n",
       "      <td>GGTTGTTG</td>\n",
       "      <td>108</td>\n",
       "    </tr>\n",
       "    <tr>\n",
       "      <th>209</th>\n",
       "      <td>TTGTTGGC</td>\n",
       "      <td>106</td>\n",
       "    </tr>\n",
       "    <tr>\n",
       "      <th>127</th>\n",
       "      <td>GTTGTTCC</td>\n",
       "      <td>106</td>\n",
       "    </tr>\n",
       "    <tr>\n",
       "      <th>194</th>\n",
       "      <td>TTGTTCGG</td>\n",
       "      <td>105</td>\n",
       "    </tr>\n",
       "    <tr>\n",
       "      <th>205</th>\n",
       "      <td>TTGTTGCC</td>\n",
       "      <td>105</td>\n",
       "    </tr>\n",
       "    <tr>\n",
       "      <th>231</th>\n",
       "      <td>TTGTTTTT</td>\n",
       "      <td>104</td>\n",
       "    </tr>\n",
       "    <tr>\n",
       "      <th>188</th>\n",
       "      <td>TTGTTCCA</td>\n",
       "      <td>104</td>\n",
       "    </tr>\n",
       "    <tr>\n",
       "      <th>78</th>\n",
       "      <td>CTTGTTCA</td>\n",
       "      <td>103</td>\n",
       "    </tr>\n",
       "    <tr>\n",
       "      <th>83</th>\n",
       "      <td>CTTGTTGC</td>\n",
       "      <td>103</td>\n",
       "    </tr>\n",
       "    <tr>\n",
       "      <th>186</th>\n",
       "      <td>TTGTTCAG</td>\n",
       "      <td>102</td>\n",
       "    </tr>\n",
       "    <tr>\n",
       "      <th>242</th>\n",
       "      <td>TTTGTTGG</td>\n",
       "      <td>102</td>\n",
       "    </tr>\n",
       "    <tr>\n",
       "      <th>106</th>\n",
       "      <td>GCTTGTTA</td>\n",
       "      <td>101</td>\n",
       "    </tr>\n",
       "    <tr>\n",
       "      <th>221</th>\n",
       "      <td>TTGTTTCC</td>\n",
       "      <td>101</td>\n",
       "    </tr>\n",
       "    <tr>\n",
       "      <th>58</th>\n",
       "      <td>CCTTGTTA</td>\n",
       "      <td>100</td>\n",
       "    </tr>\n",
       "    <tr>\n",
       "      <th>193</th>\n",
       "      <td>TTGTTCGC</td>\n",
       "      <td>100</td>\n",
       "    </tr>\n",
       "    <tr>\n",
       "      <th>206</th>\n",
       "      <td>TTGTTGCG</td>\n",
       "      <td>99</td>\n",
       "    </tr>\n",
       "    <tr>\n",
       "      <th>87</th>\n",
       "      <td>CTTGTTTC</td>\n",
       "      <td>98</td>\n",
       "    </tr>\n",
       "    <tr>\n",
       "      <th>132</th>\n",
       "      <td>GTTGTTGG</td>\n",
       "      <td>98</td>\n",
       "    </tr>\n",
       "    <tr>\n",
       "      <th>126</th>\n",
       "      <td>GTTGTTCA</td>\n",
       "      <td>97</td>\n",
       "    </tr>\n",
       "    <tr>\n",
       "      <th>190</th>\n",
       "      <td>TTGTTCCG</td>\n",
       "      <td>96</td>\n",
       "    </tr>\n",
       "    <tr>\n",
       "      <th>249</th>\n",
       "      <td>TTTTGTTC</td>\n",
       "      <td>94</td>\n",
       "    </tr>\n",
       "    <tr>\n",
       "      <th>82</th>\n",
       "      <td>CTTGTTGA</td>\n",
       "      <td>94</td>\n",
       "    </tr>\n",
       "    <tr>\n",
       "      <th>131</th>\n",
       "      <td>GTTGTTGC</td>\n",
       "      <td>94</td>\n",
       "    </tr>\n",
       "    <tr>\n",
       "      <th>124</th>\n",
       "      <td>GTTGTTAG</td>\n",
       "      <td>94</td>\n",
       "    </tr>\n",
       "    <tr>\n",
       "      <th>31</th>\n",
       "      <td>ATTGTTCA</td>\n",
       "      <td>94</td>\n",
       "    </tr>\n",
       "    <tr>\n",
       "      <th>123</th>\n",
       "      <td>GTTGTTAC</td>\n",
       "      <td>93</td>\n",
       "    </tr>\n",
       "    <tr>\n",
       "      <th>136</th>\n",
       "      <td>GTTGTTTG</td>\n",
       "      <td>93</td>\n",
       "    </tr>\n",
       "    <tr>\n",
       "      <th>204</th>\n",
       "      <td>TTGTTGCA</td>\n",
       "      <td>93</td>\n",
       "    </tr>\n",
       "    <tr>\n",
       "      <th>189</th>\n",
       "      <td>TTGTTCCC</td>\n",
       "      <td>92</td>\n",
       "    </tr>\n",
       "    <tr>\n",
       "      <th>174</th>\n",
       "      <td>TTGTTACC</td>\n",
       "      <td>91</td>\n",
       "    </tr>\n",
       "    <tr>\n",
       "      <th>32</th>\n",
       "      <td>ATTGTTCC</td>\n",
       "      <td>91</td>\n",
       "    </tr>\n",
       "    <tr>\n",
       "      <th>11</th>\n",
       "      <td>ACTTGTTA</td>\n",
       "      <td>91</td>\n",
       "    </tr>\n",
       "    <tr>\n",
       "      <th>201</th>\n",
       "      <td>TTGTTGAC</td>\n",
       "      <td>90</td>\n",
       "    </tr>\n",
       "    <tr>\n",
       "      <th>20</th>\n",
       "      <td>AGTTGTTC</td>\n",
       "      <td>89</td>\n",
       "    </tr>\n",
       "    <tr>\n",
       "      <th>99</th>\n",
       "      <td>GATTGTTC</td>\n",
       "      <td>89</td>\n",
       "    </tr>\n",
       "  </tbody>\n",
       "</table>\n",
       "</div>"
      ],
      "text/plain": [
       "            0    1\n",
       "107  GCTTGTTC  136\n",
       "59   CCTTGTTC  123\n",
       "210  TTGTTGGG  120\n",
       "80   CTTGTTCG  119\n",
       "84   CTTGTTGG  118\n",
       "115  GGTTGTTC  117\n",
       "108  GCTTGTTG  117\n",
       "12   ACTTGTTC  115\n",
       "79   CTTGTTCC  114\n",
       "139  GTTTGTTC  113\n",
       "197  TTGTTCTC  112\n",
       "198  TTGTTCTG  110\n",
       "128  GTTGTTCG  109\n",
       "76   CTTGTTAG  109\n",
       "91   CTTTGTTC  109\n",
       "116  GGTTGTTG  108\n",
       "209  TTGTTGGC  106\n",
       "127  GTTGTTCC  106\n",
       "194  TTGTTCGG  105\n",
       "205  TTGTTGCC  105\n",
       "231  TTGTTTTT  104\n",
       "188  TTGTTCCA  104\n",
       "78   CTTGTTCA  103\n",
       "83   CTTGTTGC  103\n",
       "186  TTGTTCAG  102\n",
       "242  TTTGTTGG  102\n",
       "106  GCTTGTTA  101\n",
       "221  TTGTTTCC  101\n",
       "58   CCTTGTTA  100\n",
       "193  TTGTTCGC  100\n",
       "206  TTGTTGCG   99\n",
       "87   CTTGTTTC   98\n",
       "132  GTTGTTGG   98\n",
       "126  GTTGTTCA   97\n",
       "190  TTGTTCCG   96\n",
       "249  TTTTGTTC   94\n",
       "82   CTTGTTGA   94\n",
       "131  GTTGTTGC   94\n",
       "124  GTTGTTAG   94\n",
       "31   ATTGTTCA   94\n",
       "123  GTTGTTAC   93\n",
       "136  GTTGTTTG   93\n",
       "204  TTGTTGCA   93\n",
       "189  TTGTTCCC   92\n",
       "174  TTGTTACC   91\n",
       "32   ATTGTTCC   91\n",
       "11   ACTTGTTA   91\n",
       "201  TTGTTGAC   90\n",
       "20   AGTTGTTC   89\n",
       "99   GATTGTTC   89"
      ]
     },
     "execution_count": 47,
     "metadata": {},
     "output_type": "execute_result"
    }
   ],
   "source": [
    "sort_cnt(all_umi).head(50)"
   ]
  },
  {
   "cell_type": "code",
   "execution_count": null,
   "metadata": {},
   "outputs": [],
   "source": []
  },
  {
   "cell_type": "code",
   "execution_count": null,
   "metadata": {},
   "outputs": [],
   "source": []
  },
  {
   "cell_type": "code",
   "execution_count": null,
   "metadata": {},
   "outputs": [],
   "source": []
  },
  {
   "cell_type": "code",
   "execution_count": 17,
   "metadata": {},
   "outputs": [],
   "source": [
    "sub=d2[d2.P5_bc=='TTAACCGATGTCAG']"
   ]
  },
  {
   "cell_type": "code",
   "execution_count": 19,
   "metadata": {},
   "outputs": [
    {
     "data": {
      "text/plain": [
       "TTTTTTTT    11\n",
       "CGGATGGG     7\n",
       "GTTTTTTT     6\n",
       "GGAGTCAC     4\n",
       "GGGGCGAA     4\n",
       "            ..\n",
       "GGTCTGAC     1\n",
       "TTGAACTA     1\n",
       "TTCTGTGA     1\n",
       "TGGCGCAG     1\n",
       "TTGATCGG     1\n",
       "Name: P5_bumi, Length: 6887, dtype: int64"
      ]
     },
     "execution_count": 19,
     "metadata": {},
     "output_type": "execute_result"
    }
   ],
   "source": [
    "sub.P5_bumi.value_counts()"
   ]
  },
  {
   "cell_type": "code",
   "execution_count": null,
   "metadata": {},
   "outputs": [
    {
     "data": {
      "text/html": [
       "<div>\n",
       "<style scoped>\n",
       "    .dataframe tbody tr th:only-of-type {\n",
       "        vertical-align: middle;\n",
       "    }\n",
       "\n",
       "    .dataframe tbody tr th {\n",
       "        vertical-align: top;\n",
       "    }\n",
       "\n",
       "    .dataframe thead th {\n",
       "        text-align: right;\n",
       "    }\n",
       "</style>\n",
       "<table border=\"1\" class=\"dataframe\">\n",
       "  <thead>\n",
       "    <tr style=\"text-align: right;\">\n",
       "      <th></th>\n",
       "      <th>P5_bc</th>\n",
       "      <th>V9_bc</th>\n",
       "      <th>P5_bumi</th>\n",
       "      <th>V9_bumi</th>\n",
       "      <th>reads</th>\n",
       "    </tr>\n",
       "  </thead>\n",
       "  <tbody>\n",
       "    <tr>\n",
       "      <th>1875361</th>\n",
       "      <td>TTAACCGATGTCAG</td>\n",
       "      <td>TAAATAGTAATACG</td>\n",
       "      <td>CGGATGGG</td>\n",
       "      <td>AGAAACCC</td>\n",
       "      <td>1</td>\n",
       "    </tr>\n",
       "    <tr>\n",
       "      <th>1875620</th>\n",
       "      <td>TTAACCGATGTCAG</td>\n",
       "      <td>TAAAAATTAAAACT</td>\n",
       "      <td>CGGATGGG</td>\n",
       "      <td>AGAAACCC</td>\n",
       "      <td>1</td>\n",
       "    </tr>\n",
       "    <tr>\n",
       "      <th>1876798</th>\n",
       "      <td>TTAACCGATGTCAG</td>\n",
       "      <td>TATATAGTAATACG</td>\n",
       "      <td>CGGATGGG</td>\n",
       "      <td>AGAATCCC</td>\n",
       "      <td>2</td>\n",
       "    </tr>\n",
       "    <tr>\n",
       "      <th>1877930</th>\n",
       "      <td>TTAACCGATGTCAG</td>\n",
       "      <td>TTTAAATTATTACG</td>\n",
       "      <td>CGGATGGG</td>\n",
       "      <td>AGAATCCC</td>\n",
       "      <td>1</td>\n",
       "    </tr>\n",
       "    <tr>\n",
       "      <th>1878927</th>\n",
       "      <td>TTAACCGATGTCAG</td>\n",
       "      <td>TATTTATTATTAAC</td>\n",
       "      <td>CGGATGGG</td>\n",
       "      <td>AGAATCCC</td>\n",
       "      <td>1</td>\n",
       "    </tr>\n",
       "    <tr>\n",
       "      <th>1879396</th>\n",
       "      <td>TTAACCGATGTCAG</td>\n",
       "      <td>TATATAGTAATACG</td>\n",
       "      <td>CGGATGGG</td>\n",
       "      <td>AGAATCCA</td>\n",
       "      <td>1</td>\n",
       "    </tr>\n",
       "    <tr>\n",
       "      <th>1880077</th>\n",
       "      <td>TTAACCGATGTCAG</td>\n",
       "      <td>TATATAGTAATACG</td>\n",
       "      <td>CGGATGGG</td>\n",
       "      <td>AGAATACC</td>\n",
       "      <td>1</td>\n",
       "    </tr>\n",
       "  </tbody>\n",
       "</table>\n",
       "</div>"
      ],
      "text/plain": [
       "                  P5_bc           V9_bc   P5_bumi   V9_bumi  reads\n",
       "1875361  TTAACCGATGTCAG  TAAATAGTAATACG  CGGATGGG  AGAAACCC      1\n",
       "1875620  TTAACCGATGTCAG  TAAAAATTAAAACT  CGGATGGG  AGAAACCC      1\n",
       "1876798  TTAACCGATGTCAG  TATATAGTAATACG  CGGATGGG  AGAATCCC      2\n",
       "1877930  TTAACCGATGTCAG  TTTAAATTATTACG  CGGATGGG  AGAATCCC      1\n",
       "1878927  TTAACCGATGTCAG  TATTTATTATTAAC  CGGATGGG  AGAATCCC      1\n",
       "1879396  TTAACCGATGTCAG  TATATAGTAATACG  CGGATGGG  AGAATCCA      1\n",
       "1880077  TTAACCGATGTCAG  TATATAGTAATACG  CGGATGGG  AGAATACC      1"
      ]
     },
     "execution_count": 21,
     "metadata": {},
     "output_type": "execute_result"
    }
   ],
   "source": [
    "sub[sub.P5_bumi=='CGGATGGG']"
   ]
  },
  {
   "cell_type": "code",
   "execution_count": 24,
   "metadata": {},
   "outputs": [
    {
     "data": {
      "text/plain": [
       "(44, 5)"
      ]
     },
     "execution_count": 24,
     "metadata": {},
     "output_type": "execute_result"
    }
   ],
   "source": [
    "d2[d2.V9_bc=='TAAAAATTAAAACT'].shape"
   ]
  },
  {
   "cell_type": "code",
   "execution_count": 26,
   "metadata": {},
   "outputs": [
    {
     "data": {
      "text/html": [
       "<div>\n",
       "<style scoped>\n",
       "    .dataframe tbody tr th:only-of-type {\n",
       "        vertical-align: middle;\n",
       "    }\n",
       "\n",
       "    .dataframe tbody tr th {\n",
       "        vertical-align: top;\n",
       "    }\n",
       "\n",
       "    .dataframe thead th {\n",
       "        text-align: right;\n",
       "    }\n",
       "</style>\n",
       "<table border=\"1\" class=\"dataframe\">\n",
       "  <thead>\n",
       "    <tr style=\"text-align: right;\">\n",
       "      <th></th>\n",
       "      <th>P5_bc</th>\n",
       "      <th>V9_bc</th>\n",
       "      <th>P5_bumi</th>\n",
       "      <th>V9_bumi</th>\n",
       "      <th>reads</th>\n",
       "    </tr>\n",
       "  </thead>\n",
       "  <tbody>\n",
       "    <tr>\n",
       "      <th>765924</th>\n",
       "      <td>GGGTAATTCATGCT</td>\n",
       "      <td>AGAGTTTATCTCGT</td>\n",
       "      <td>GACAACCC</td>\n",
       "      <td>GAGTACAC</td>\n",
       "      <td>8</td>\n",
       "    </tr>\n",
       "    <tr>\n",
       "      <th>765925</th>\n",
       "      <td>GGGTAATTCATGCT</td>\n",
       "      <td>ACTTTTCGTTAATC</td>\n",
       "      <td>TACTGGAA</td>\n",
       "      <td>CAACGCTA</td>\n",
       "      <td>4</td>\n",
       "    </tr>\n",
       "    <tr>\n",
       "      <th>765926</th>\n",
       "      <td>GGGTAATTCATGCT</td>\n",
       "      <td>AGAGTTTATCTCGT</td>\n",
       "      <td>ACGAACCA</td>\n",
       "      <td>TCATATTC</td>\n",
       "      <td>5</td>\n",
       "    </tr>\n",
       "    <tr>\n",
       "      <th>765927</th>\n",
       "      <td>GGGTAATTCATGCT</td>\n",
       "      <td>AGGGGTGGTGGCCT</td>\n",
       "      <td>GTGTACAC</td>\n",
       "      <td>CGTTACCC</td>\n",
       "      <td>3</td>\n",
       "    </tr>\n",
       "    <tr>\n",
       "      <th>765928</th>\n",
       "      <td>GGGTAATTCATGCT</td>\n",
       "      <td>AGAGTTTATCTCGT</td>\n",
       "      <td>CACGCTGG</td>\n",
       "      <td>CAGCGACA</td>\n",
       "      <td>2</td>\n",
       "    </tr>\n",
       "    <tr>\n",
       "      <th>...</th>\n",
       "      <td>...</td>\n",
       "      <td>...</td>\n",
       "      <td>...</td>\n",
       "      <td>...</td>\n",
       "      <td>...</td>\n",
       "    </tr>\n",
       "    <tr>\n",
       "      <th>766348</th>\n",
       "      <td>GGGTAATTCATGCT</td>\n",
       "      <td>TTCCCTCCTTCCAG</td>\n",
       "      <td>GTTAAGGG</td>\n",
       "      <td>GCGTCACC</td>\n",
       "      <td>1</td>\n",
       "    </tr>\n",
       "    <tr>\n",
       "      <th>766349</th>\n",
       "      <td>GGGTAATTCATGCT</td>\n",
       "      <td>AGATGGTAGGGTAT</td>\n",
       "      <td>CTGGTCTC</td>\n",
       "      <td>ACACCCTG</td>\n",
       "      <td>2</td>\n",
       "    </tr>\n",
       "    <tr>\n",
       "      <th>766350</th>\n",
       "      <td>GGGTAATTCATGCT</td>\n",
       "      <td>AGCGTGGCTTCCGG</td>\n",
       "      <td>CTAATTAG</td>\n",
       "      <td>AACAAACA</td>\n",
       "      <td>1</td>\n",
       "    </tr>\n",
       "    <tr>\n",
       "      <th>766351</th>\n",
       "      <td>GGGTAATTCATGCT</td>\n",
       "      <td>TAATACACAGGATA</td>\n",
       "      <td>TCCACCAA</td>\n",
       "      <td>ACCCAGGA</td>\n",
       "      <td>1</td>\n",
       "    </tr>\n",
       "    <tr>\n",
       "      <th>766352</th>\n",
       "      <td>GGGTAATTCATGCT</td>\n",
       "      <td>GGGACAAACAAATC</td>\n",
       "      <td>CTTGATGC</td>\n",
       "      <td>CCTCATCA</td>\n",
       "      <td>1</td>\n",
       "    </tr>\n",
       "  </tbody>\n",
       "</table>\n",
       "<p>429 rows × 5 columns</p>\n",
       "</div>"
      ],
      "text/plain": [
       "                 P5_bc           V9_bc   P5_bumi   V9_bumi  reads\n",
       "765924  GGGTAATTCATGCT  AGAGTTTATCTCGT  GACAACCC  GAGTACAC      8\n",
       "765925  GGGTAATTCATGCT  ACTTTTCGTTAATC  TACTGGAA  CAACGCTA      4\n",
       "765926  GGGTAATTCATGCT  AGAGTTTATCTCGT  ACGAACCA  TCATATTC      5\n",
       "765927  GGGTAATTCATGCT  AGGGGTGGTGGCCT  GTGTACAC  CGTTACCC      3\n",
       "765928  GGGTAATTCATGCT  AGAGTTTATCTCGT  CACGCTGG  CAGCGACA      2\n",
       "...                ...             ...       ...       ...    ...\n",
       "766348  GGGTAATTCATGCT  TTCCCTCCTTCCAG  GTTAAGGG  GCGTCACC      1\n",
       "766349  GGGTAATTCATGCT  AGATGGTAGGGTAT  CTGGTCTC  ACACCCTG      2\n",
       "766350  GGGTAATTCATGCT  AGCGTGGCTTCCGG  CTAATTAG  AACAAACA      1\n",
       "766351  GGGTAATTCATGCT  TAATACACAGGATA  TCCACCAA  ACCCAGGA      1\n",
       "766352  GGGTAATTCATGCT  GGGACAAACAAATC  CTTGATGC  CCTCATCA      1\n",
       "\n",
       "[429 rows x 5 columns]"
      ]
     },
     "execution_count": 26,
     "metadata": {},
     "output_type": "execute_result"
    }
   ],
   "source": [
    "d2[d2.P5_bc=='GGGTAATTCATGCT']"
   ]
  },
  {
   "cell_type": "code",
   "execution_count": null,
   "metadata": {},
   "outputs": [],
   "source": []
  },
  {
   "cell_type": "code",
   "execution_count": null,
   "metadata": {},
   "outputs": [],
   "source": []
  },
  {
   "cell_type": "code",
   "execution_count": null,
   "metadata": {},
   "outputs": [],
   "source": []
  },
  {
   "cell_type": "code",
   "execution_count": null,
   "metadata": {},
   "outputs": [],
   "source": []
  },
  {
   "cell_type": "code",
   "execution_count": 11,
   "metadata": {},
   "outputs": [],
   "source": [
    "P5_cnt=sort_cnt(d2.P5_bc)"
   ]
  },
  {
   "cell_type": "code",
   "execution_count": 61,
   "metadata": {},
   "outputs": [],
   "source": [
    "V9_bc=sort_cnt(d.V9_bc)"
   ]
  },
  {
   "cell_type": "code",
   "execution_count": 12,
   "metadata": {},
   "outputs": [],
   "source": [
    "P5_cnt['log10']=np.log(P5_cnt[1])"
   ]
  },
  {
   "cell_type": "code",
   "execution_count": 5,
   "metadata": {},
   "outputs": [
    {
     "ename": "NameError",
     "evalue": "name 'V9_bc' is not defined",
     "output_type": "error",
     "traceback": [
      "\u001b[0;31m---------------------------------------------------------------------------\u001b[0m",
      "\u001b[0;31mNameError\u001b[0m                                 Traceback (most recent call last)",
      "\u001b[0;32m/tmp/ipykernel_16691/2803258619.py\u001b[0m in \u001b[0;36m<module>\u001b[0;34m\u001b[0m\n\u001b[0;32m----> 1\u001b[0;31m \u001b[0mV9_bc\u001b[0m\u001b[0;34m[\u001b[0m\u001b[0;34m'log10'\u001b[0m\u001b[0;34m]\u001b[0m\u001b[0;34m=\u001b[0m\u001b[0mnp\u001b[0m\u001b[0;34m.\u001b[0m\u001b[0mlog\u001b[0m\u001b[0;34m(\u001b[0m\u001b[0mV9_bc\u001b[0m\u001b[0;34m[\u001b[0m\u001b[0;36m1\u001b[0m\u001b[0;34m]\u001b[0m\u001b[0;34m)\u001b[0m\u001b[0;34m\u001b[0m\u001b[0;34m\u001b[0m\u001b[0m\n\u001b[0m",
      "\u001b[0;31mNameError\u001b[0m: name 'V9_bc' is not defined"
     ]
    }
   ],
   "source": [
    "V9_bc['log10']=np.log(V9_bc[1])"
   ]
  },
  {
   "cell_type": "code",
   "execution_count": 59,
   "metadata": {},
   "outputs": [],
   "source": [
    "P5_cnt.to_csv('chu_P5_cnt.csv.gz',index=None,compression='infer')"
   ]
  },
  {
   "cell_type": "code",
   "execution_count": 63,
   "metadata": {},
   "outputs": [],
   "source": [
    "V9_bc.to_csv('chu_V9_cnt.csv.gz',index=None,compression='infer')"
   ]
  },
  {
   "cell_type": "code",
   "execution_count": null,
   "metadata": {},
   "outputs": [],
   "source": []
  },
  {
   "cell_type": "code",
   "execution_count": null,
   "metadata": {},
   "outputs": [],
   "source": []
  },
  {
   "cell_type": "code",
   "execution_count": null,
   "metadata": {},
   "outputs": [],
   "source": []
  },
  {
   "cell_type": "code",
   "execution_count": 46,
   "metadata": {},
   "outputs": [
    {
     "data": {
      "text/plain": [
       "<AxesSubplot:xlabel='log10', ylabel='Count'>"
      ]
     },
     "execution_count": 46,
     "metadata": {},
     "output_type": "execute_result"
    },
    {
     "data": {
      "image/png": "[encoded data removed]",
      "text/plain": [
       "<Figure size 640x480 with 1 Axes>"
      ]
     },
     "metadata": {},
     "output_type": "display_data"
    }
   ],
   "source": [
    "sns.histplot(P5_cnt['log10'],bins=100)"
   ]
  },
  {
   "cell_type": "code",
   "execution_count": 8,
   "metadata": {},
   "outputs": [
    {
     "data": {
      "text/html": [
       "<div>\n",
       "<style scoped>\n",
       "    .dataframe tbody tr th:only-of-type {\n",
       "        vertical-align: middle;\n",
       "    }\n",
       "\n",
       "    .dataframe tbody tr th {\n",
       "        vertical-align: top;\n",
       "    }\n",
       "\n",
       "    .dataframe thead th {\n",
       "        text-align: right;\n",
       "    }\n",
       "</style>\n",
       "<table border=\"1\" class=\"dataframe\">\n",
       "  <thead>\n",
       "    <tr style=\"text-align: right;\">\n",
       "      <th></th>\n",
       "      <th>0</th>\n",
       "      <th>1</th>\n",
       "      <th>log10</th>\n",
       "    </tr>\n",
       "  </thead>\n",
       "  <tbody>\n",
       "    <tr>\n",
       "      <th>50871</th>\n",
       "      <td>TAGCTTCCTTGCCG</td>\n",
       "      <td>10879</td>\n",
       "      <td>9.294590</td>\n",
       "    </tr>\n",
       "    <tr>\n",
       "      <th>64786</th>\n",
       "      <td>TTTGTAGAAAGTCC</td>\n",
       "      <td>7927</td>\n",
       "      <td>8.978030</td>\n",
       "    </tr>\n",
       "    <tr>\n",
       "      <th>29222</th>\n",
       "      <td>CTCTTCTAGCTCTA</td>\n",
       "      <td>7006</td>\n",
       "      <td>8.854522</td>\n",
       "    </tr>\n",
       "    <tr>\n",
       "      <th>20283</th>\n",
       "      <td>CCATATTTTTCTCC</td>\n",
       "      <td>6689</td>\n",
       "      <td>8.808220</td>\n",
       "    </tr>\n",
       "    <tr>\n",
       "      <th>42657</th>\n",
       "      <td>GGTGCACGGTCCTT</td>\n",
       "      <td>6665</td>\n",
       "      <td>8.804625</td>\n",
       "    </tr>\n",
       "    <tr>\n",
       "      <th>...</th>\n",
       "      <td>...</td>\n",
       "      <td>...</td>\n",
       "      <td>...</td>\n",
       "    </tr>\n",
       "    <tr>\n",
       "      <th>56430</th>\n",
       "      <td>TCTTTTATTTATCT</td>\n",
       "      <td>1</td>\n",
       "      <td>0.000000</td>\n",
       "    </tr>\n",
       "    <tr>\n",
       "      <th>56432</th>\n",
       "      <td>TCTTTTATTTTTCT</td>\n",
       "      <td>1</td>\n",
       "      <td>0.000000</td>\n",
       "    </tr>\n",
       "    <tr>\n",
       "      <th>40515</th>\n",
       "      <td>GGGGCAGCTGGGTT</td>\n",
       "      <td>1</td>\n",
       "      <td>0.000000</td>\n",
       "    </tr>\n",
       "    <tr>\n",
       "      <th>40514</th>\n",
       "      <td>GGGGCAGCCCGGCG</td>\n",
       "      <td>1</td>\n",
       "      <td>0.000000</td>\n",
       "    </tr>\n",
       "    <tr>\n",
       "      <th>66505</th>\n",
       "      <td>TTTTTTTTTTTAGA</td>\n",
       "      <td>1</td>\n",
       "      <td>0.000000</td>\n",
       "    </tr>\n",
       "  </tbody>\n",
       "</table>\n",
       "<p>66506 rows × 3 columns</p>\n",
       "</div>"
      ],
      "text/plain": [
       "                    0      1     log10\n",
       "50871  TAGCTTCCTTGCCG  10879  9.294590\n",
       "64786  TTTGTAGAAAGTCC   7927  8.978030\n",
       "29222  CTCTTCTAGCTCTA   7006  8.854522\n",
       "20283  CCATATTTTTCTCC   6689  8.808220\n",
       "42657  GGTGCACGGTCCTT   6665  8.804625\n",
       "...               ...    ...       ...\n",
       "56430  TCTTTTATTTATCT      1  0.000000\n",
       "56432  TCTTTTATTTTTCT      1  0.000000\n",
       "40515  GGGGCAGCTGGGTT      1  0.000000\n",
       "40514  GGGGCAGCCCGGCG      1  0.000000\n",
       "66505  TTTTTTTTTTTAGA      1  0.000000\n",
       "\n",
       "[66506 rows x 3 columns]"
      ]
     },
     "execution_count": 8,
     "metadata": {},
     "output_type": "execute_result"
    }
   ],
   "source": [
    "P5_cnt"
   ]
  },
  {
   "cell_type": "code",
   "execution_count": 7,
   "metadata": {},
   "outputs": [
    {
     "data": {
      "text/plain": [
       "<AxesSubplot:xlabel='log10', ylabel='Count'>"
      ]
     },
     "execution_count": 7,
     "metadata": {},
     "output_type": "execute_result"
    },
    {
     "data": {
      "image/png": "[encoded data removed]",
      "text/plain": [
       "<Figure size 640x480 with 1 Axes>"
      ]
     },
     "metadata": {},
     "output_type": "display_data"
    }
   ],
   "source": [
    "sns.histplot(P5_cnt['log10'],bins=100)"
   ]
  },
  {
   "cell_type": "code",
   "execution_count": 13,
   "metadata": {},
   "outputs": [
    {
     "data": {
      "text/plain": [
       "<AxesSubplot:xlabel='log10', ylabel='Count'>"
      ]
     },
     "execution_count": 13,
     "metadata": {},
     "output_type": "execute_result"
    },
    {
     "data": {
      "image/png": "[encoded data removed]",
      "text/plain": [
       "<Figure size 640x480 with 1 Axes>"
      ]
     },
     "metadata": {},
     "output_type": "display_data"
    }
   ],
   "source": [
    "sns.histplot(P5_cnt['log10'],bins=100)"
   ]
  },
  {
   "cell_type": "code",
   "execution_count": 29,
   "metadata": {},
   "outputs": [
    {
     "data": {
      "text/html": [
       "<div>\n",
       "<style scoped>\n",
       "    .dataframe tbody tr th:only-of-type {\n",
       "        vertical-align: middle;\n",
       "    }\n",
       "\n",
       "    .dataframe tbody tr th {\n",
       "        vertical-align: top;\n",
       "    }\n",
       "\n",
       "    .dataframe thead th {\n",
       "        text-align: right;\n",
       "    }\n",
       "</style>\n",
       "<table border=\"1\" class=\"dataframe\">\n",
       "  <thead>\n",
       "    <tr style=\"text-align: right;\">\n",
       "      <th></th>\n",
       "      <th>0</th>\n",
       "      <th>1</th>\n",
       "      <th>log10</th>\n",
       "    </tr>\n",
       "  </thead>\n",
       "  <tbody>\n",
       "    <tr>\n",
       "      <th>58534</th>\n",
       "      <td>TTAACCGATGTCAG</td>\n",
       "      <td>8024</td>\n",
       "      <td>8.990192</td>\n",
       "    </tr>\n",
       "    <tr>\n",
       "      <th>30327</th>\n",
       "      <td>CTTTGAGCACTCTC</td>\n",
       "      <td>4536</td>\n",
       "      <td>8.419801</td>\n",
       "    </tr>\n",
       "    <tr>\n",
       "      <th>27673</th>\n",
       "      <td>CTATCATTATCGAT</td>\n",
       "      <td>4386</td>\n",
       "      <td>8.386173</td>\n",
       "    </tr>\n",
       "    <tr>\n",
       "      <th>52224</th>\n",
       "      <td>TCCAGACGGGAGAT</td>\n",
       "      <td>4272</td>\n",
       "      <td>8.359837</td>\n",
       "    </tr>\n",
       "    <tr>\n",
       "      <th>42615</th>\n",
       "      <td>GGTTATTTCTTATT</td>\n",
       "      <td>3980</td>\n",
       "      <td>8.289037</td>\n",
       "    </tr>\n",
       "    <tr>\n",
       "      <th>...</th>\n",
       "      <td>...</td>\n",
       "      <td>...</td>\n",
       "      <td>...</td>\n",
       "    </tr>\n",
       "    <tr>\n",
       "      <th>16342</th>\n",
       "      <td>CAAAGCCATAAGGA</td>\n",
       "      <td>91</td>\n",
       "      <td>4.510860</td>\n",
       "    </tr>\n",
       "    <tr>\n",
       "      <th>7857</th>\n",
       "      <td>AATGCGGAACACTG</td>\n",
       "      <td>91</td>\n",
       "      <td>4.510860</td>\n",
       "    </tr>\n",
       "    <tr>\n",
       "      <th>3132</th>\n",
       "      <td>AAATCATAGGAGCT</td>\n",
       "      <td>91</td>\n",
       "      <td>4.510860</td>\n",
       "    </tr>\n",
       "    <tr>\n",
       "      <th>41988</th>\n",
       "      <td>GGTCCGCCGTGTCC</td>\n",
       "      <td>91</td>\n",
       "      <td>4.510860</td>\n",
       "    </tr>\n",
       "    <tr>\n",
       "      <th>62674</th>\n",
       "      <td>TTGTACTTTGGCTA</td>\n",
       "      <td>91</td>\n",
       "      <td>4.510860</td>\n",
       "    </tr>\n",
       "  </tbody>\n",
       "</table>\n",
       "<p>12191 rows × 3 columns</p>\n",
       "</div>"
      ],
      "text/plain": [
       "                    0     1     log10\n",
       "58534  TTAACCGATGTCAG  8024  8.990192\n",
       "30327  CTTTGAGCACTCTC  4536  8.419801\n",
       "27673  CTATCATTATCGAT  4386  8.386173\n",
       "52224  TCCAGACGGGAGAT  4272  8.359837\n",
       "42615  GGTTATTTCTTATT  3980  8.289037\n",
       "...               ...   ...       ...\n",
       "16342  CAAAGCCATAAGGA    91  4.510860\n",
       "7857   AATGCGGAACACTG    91  4.510860\n",
       "3132   AAATCATAGGAGCT    91  4.510860\n",
       "41988  GGTCCGCCGTGTCC    91  4.510860\n",
       "62674  TTGTACTTTGGCTA    91  4.510860\n",
       "\n",
       "[12191 rows x 3 columns]"
      ]
     },
     "execution_count": 29,
     "metadata": {},
     "output_type": "execute_result"
    }
   ],
   "source": [
    "P5_cnt[P5_cnt.log10>4.5]"
   ]
  },
  {
   "cell_type": "code",
   "execution_count": 30,
   "metadata": {},
   "outputs": [],
   "source": []
  },
  {
   "cell_type": "code",
   "execution_count": 31,
   "metadata": {},
   "outputs": [
    {
     "ename": "NameError",
     "evalue": "name 'p1' is not defined",
     "output_type": "error",
     "traceback": [
      "\u001b[0;31m---------------------------------------------------------------------------\u001b[0m",
      "\u001b[0;31mNameError\u001b[0m                                 Traceback (most recent call last)",
      "\u001b[0;32m/tmp/ipykernel_16691/2925551916.py\u001b[0m in \u001b[0;36m<module>\u001b[0;34m\u001b[0m\n\u001b[0;32m----> 1\u001b[0;31m \u001b[0mp1\u001b[0m\u001b[0;34m\u001b[0m\u001b[0;34m\u001b[0m\u001b[0m\n\u001b[0m",
      "\u001b[0;31mNameError\u001b[0m: name 'p1' is not defined"
     ]
    }
   ],
   "source": [
    "p1"
   ]
  },
  {
   "cell_type": "code",
   "execution_count": null,
   "metadata": {},
   "outputs": [],
   "source": []
  },
  {
   "cell_type": "code",
   "execution_count": null,
   "metadata": {},
   "outputs": [],
   "source": []
  },
  {
   "cell_type": "code",
   "execution_count": 64,
   "metadata": {},
   "outputs": [
    {
     "data": {
      "text/plain": [
       "<AxesSubplot:xlabel='log10', ylabel='Count'>"
      ]
     },
     "execution_count": 64,
     "metadata": {},
     "output_type": "execute_result"
    },
    {
     "data": {
      "image/png": "[encoded data removed]",
      "text/plain": [
       "<Figure size 640x480 with 1 Axes>"
      ]
     },
     "metadata": {},
     "output_type": "display_data"
    }
   ],
   "source": [
    "sns.histplot(V9_bc['log10'],bins=100)"
   ]
  },
  {
   "cell_type": "code",
   "execution_count": 57,
   "metadata": {},
   "outputs": [
    {
     "data": {
      "text/plain": [
       "<AxesSubplot:xlabel='nlog10', ylabel='Count'>"
      ]
     },
     "execution_count": 57,
     "metadata": {},
     "output_type": "execute_result"
    },
    {
     "data": {
      "image/png": "[encoded data removed]",
      "text/plain": [
       "<Figure size 640x480 with 1 Axes>"
      ]
     },
     "metadata": {},
     "output_type": "display_data"
    }
   ],
   "source": [
    "sns.histplot(P5_cnt['nlog10'],bins=100)"
   ]
  },
  {
   "cell_type": "code",
   "execution_count": 48,
   "metadata": {},
   "outputs": [
    {
     "data": {
      "text/html": [
       "<div>\n",
       "<style scoped>\n",
       "    .dataframe tbody tr th:only-of-type {\n",
       "        vertical-align: middle;\n",
       "    }\n",
       "\n",
       "    .dataframe tbody tr th {\n",
       "        vertical-align: top;\n",
       "    }\n",
       "\n",
       "    .dataframe thead th {\n",
       "        text-align: right;\n",
       "    }\n",
       "</style>\n",
       "<table border=\"1\" class=\"dataframe\">\n",
       "  <thead>\n",
       "    <tr style=\"text-align: right;\">\n",
       "      <th></th>\n",
       "      <th>0</th>\n",
       "      <th>1</th>\n",
       "      <th>log10</th>\n",
       "    </tr>\n",
       "  </thead>\n",
       "  <tbody>\n",
       "    <tr>\n",
       "      <th>116</th>\n",
       "      <td>AAACCACGTTTCTT</td>\n",
       "      <td>23612</td>\n",
       "      <td>4.373133</td>\n",
       "    </tr>\n",
       "    <tr>\n",
       "      <th>19435</th>\n",
       "      <td>TAGCTTCCTCGCCG</td>\n",
       "      <td>20930</td>\n",
       "      <td>4.320769</td>\n",
       "    </tr>\n",
       "    <tr>\n",
       "      <th>23852</th>\n",
       "      <td>TTCGTAGAAAGTCC</td>\n",
       "      <td>16705</td>\n",
       "      <td>4.222846</td>\n",
       "    </tr>\n",
       "    <tr>\n",
       "      <th>6546</th>\n",
       "      <td>CAATGTCCGAACAT</td>\n",
       "      <td>15519</td>\n",
       "      <td>4.190864</td>\n",
       "    </tr>\n",
       "    <tr>\n",
       "      <th>11368</th>\n",
       "      <td>CTCTTCTAGCTCTA</td>\n",
       "      <td>15033</td>\n",
       "      <td>4.177046</td>\n",
       "    </tr>\n",
       "    <tr>\n",
       "      <th>...</th>\n",
       "      <td>...</td>\n",
       "      <td>...</td>\n",
       "      <td>...</td>\n",
       "    </tr>\n",
       "    <tr>\n",
       "      <th>3920</th>\n",
       "      <td>AGGATTGCAGGCTG</td>\n",
       "      <td>5</td>\n",
       "      <td>0.698970</td>\n",
       "    </tr>\n",
       "    <tr>\n",
       "      <th>8448</th>\n",
       "      <td>CCCTGCAAGACCAT</td>\n",
       "      <td>4</td>\n",
       "      <td>0.602060</td>\n",
       "    </tr>\n",
       "    <tr>\n",
       "      <th>21235</th>\n",
       "      <td>TCTATTTCTTCCAT</td>\n",
       "      <td>4</td>\n",
       "      <td>0.602060</td>\n",
       "    </tr>\n",
       "    <tr>\n",
       "      <th>19797</th>\n",
       "      <td>TATGAAGCAGCCTC</td>\n",
       "      <td>3</td>\n",
       "      <td>0.477121</td>\n",
       "    </tr>\n",
       "    <tr>\n",
       "      <th>13557</th>\n",
       "      <td>GATGATTTCTTATT</td>\n",
       "      <td>2</td>\n",
       "      <td>0.301030</td>\n",
       "    </tr>\n",
       "  </tbody>\n",
       "</table>\n",
       "<p>24780 rows × 3 columns</p>\n",
       "</div>"
      ],
      "text/plain": [
       "                    0      1     log10\n",
       "116    AAACCACGTTTCTT  23612  4.373133\n",
       "19435  TAGCTTCCTCGCCG  20930  4.320769\n",
       "23852  TTCGTAGAAAGTCC  16705  4.222846\n",
       "6546   CAATGTCCGAACAT  15519  4.190864\n",
       "11368  CTCTTCTAGCTCTA  15033  4.177046\n",
       "...               ...    ...       ...\n",
       "3920   AGGATTGCAGGCTG      5  0.698970\n",
       "8448   CCCTGCAAGACCAT      4  0.602060\n",
       "21235  TCTATTTCTTCCAT      4  0.602060\n",
       "19797  TATGAAGCAGCCTC      3  0.477121\n",
       "13557  GATGATTTCTTATT      2  0.301030\n",
       "\n",
       "[24780 rows x 3 columns]"
      ]
     },
     "execution_count": 48,
     "metadata": {},
     "output_type": "execute_result"
    }
   ],
   "source": [
    "P5_cnt"
   ]
  },
  {
   "cell_type": "code",
   "execution_count": 55,
   "metadata": {},
   "outputs": [
    {
     "data": {
      "text/plain": [
       "2.34519020227756"
      ]
     },
     "execution_count": 55,
     "metadata": {},
     "output_type": "execute_result"
    }
   ],
   "source": [
    "np.log10(np.exp(5.4))"
   ]
  },
  {
   "cell_type": "code",
   "execution_count": null,
   "metadata": {},
   "outputs": [],
   "source": []
  },
  {
   "cell_type": "code",
   "execution_count": null,
   "metadata": {},
   "outputs": [],
   "source": []
  },
  {
   "cell_type": "code",
   "execution_count": null,
   "metadata": {},
   "outputs": [],
   "source": []
  },
  {
   "cell_type": "code",
   "execution_count": 42,
   "metadata": {},
   "outputs": [
    {
     "data": {
      "image/png": "[encoded data removed]",
      "text/plain": [
       "<Figure size 640x480 with 1 Axes>"
      ]
     },
     "metadata": {},
     "output_type": "display_data"
    }
   ],
   "source": [
    "plt.plot(np.log10(np.arange(1,len(P5_cnt)+1)),np.log10(P5_cnt[1]));"
   ]
  },
  {
   "cell_type": "code",
   "execution_count": null,
   "metadata": {},
   "outputs": [],
   "source": []
  },
  {
   "cell_type": "code",
   "execution_count": null,
   "metadata": {},
   "outputs": [],
   "source": []
  },
  {
   "cell_type": "code",
   "execution_count": 37,
   "metadata": {},
   "outputs": [
    {
     "data": {
      "text/html": [
       "<div>\n",
       "<style scoped>\n",
       "    .dataframe tbody tr th:only-of-type {\n",
       "        vertical-align: middle;\n",
       "    }\n",
       "\n",
       "    .dataframe tbody tr th {\n",
       "        vertical-align: top;\n",
       "    }\n",
       "\n",
       "    .dataframe thead th {\n",
       "        text-align: right;\n",
       "    }\n",
       "</style>\n",
       "<table border=\"1\" class=\"dataframe\">\n",
       "  <thead>\n",
       "    <tr style=\"text-align: right;\">\n",
       "      <th></th>\n",
       "      <th>alignment_status</th>\n",
       "      <th>counts</th>\n",
       "    </tr>\n",
       "  </thead>\n",
       "  <tbody>\n",
       "    <tr>\n",
       "      <th>0</th>\n",
       "      <td>total_reads</td>\n",
       "      <td>234490270</td>\n",
       "    </tr>\n",
       "    <tr>\n",
       "      <th>1</th>\n",
       "      <td>UP_not_matched</td>\n",
       "      <td>155884792</td>\n",
       "    </tr>\n",
       "    <tr>\n",
       "      <th>2</th>\n",
       "      <td>Read_too_short</td>\n",
       "      <td>850</td>\n",
       "    </tr>\n",
       "    <tr>\n",
       "      <th>3</th>\n",
       "      <td>matched_reads</td>\n",
       "      <td>60712154</td>\n",
       "    </tr>\n",
       "  </tbody>\n",
       "</table>\n",
       "</div>"
      ],
      "text/plain": [
       "  alignment_status     counts\n",
       "0      total_reads  234490270\n",
       "1   UP_not_matched  155884792\n",
       "2   Read_too_short        850\n",
       "3    matched_reads   60712154"
      ]
     },
     "execution_count": 37,
     "metadata": {},
     "output_type": "execute_result"
    }
   ],
   "source": [
    "d"
   ]
  },
  {
   "cell_type": "code",
   "execution_count": null,
   "metadata": {},
   "outputs": [],
   "source": []
  }
 ],
 "metadata": {
  "kernelspec": {
   "display_name": "Python 3 (ipykernel)",
   "language": "python",
   "name": "python3"
  },
  "language_info": {
   "codemirror_mode": {
    "name": "ipython",
    "version": 3
   },
   "file_extension": ".py",
   "mimetype": "text/x-python",
   "name": "python",
   "nbconvert_exporter": "python",
   "pygments_lexer": "ipython3",
   "version": "3.7.10"
  }
 },
 "nbformat": 4,
 "nbformat_minor": 4
}
